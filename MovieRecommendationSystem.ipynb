{
  "nbformat": 4,
  "nbformat_minor": 0,
  "metadata": {
    "colab": {
      "provenance": []
    },
    "kernelspec": {
      "name": "python3",
      "display_name": "Python 3"
    },
    "language_info": {
      "name": "python"
    }
  },
  "cells": [
    {
      "cell_type": "markdown",
      "source": [
        "# **Movie Recommendation System**"
      ],
      "metadata": {
        "id": "7HYVigg1UKVX"
      }
    },
    {
      "cell_type": "markdown",
      "source": [
        "# **Import Library**"
      ],
      "metadata": {
        "id": "kUVhKLRCUULU"
      }
    },
    {
      "cell_type": "code",
      "execution_count": null,
      "metadata": {
        "id": "rvIBYnHsKA1o"
      },
      "outputs": [],
      "source": [
        "import pandas as pd\n",
        "import numpy as np"
      ]
    },
    {
      "cell_type": "markdown",
      "source": [
        "# **Import Dataset**"
      ],
      "metadata": {
        "id": "ASjV0sh0UfdJ"
      }
    },
    {
      "cell_type": "code",
      "source": [
        "mov = pd.read_csv(\"https://raw.githubusercontent.com/YBI-Foundation/Dataset/main/Movies%20Recommendation.csv\")"
      ],
      "metadata": {
        "id": "uArwW9FyKL9Z"
      },
      "execution_count": null,
      "outputs": []
    },
    {
      "cell_type": "code",
      "source": [
        "mov.head()"
      ],
      "metadata": {
        "colab": {
          "base_uri": "https://localhost:8080/",
          "height": 672
        },
        "id": "g4pl8LUxKqUB",
        "outputId": "fbba820f-6056-46af-b0db-0d9120047a7c"
      },
      "execution_count": null,
      "outputs": [
        {
          "output_type": "execute_result",
          "data": {
            "text/plain": [
              "   Movie_ID      Movie_Title                       Movie_Genre Movie_Language  \\\n",
              "0         1       Four Rooms                      Crime Comedy             en   \n",
              "1         2        Star Wars  Adventure Action Science Fiction             en   \n",
              "2         3     Finding Nemo                  Animation Family             en   \n",
              "3         4     Forrest Gump              Comedy Drama Romance             en   \n",
              "4         5  American Beauty                             Drama             en   \n",
              "\n",
              "   Movie_Budget  Movie_Popularity Movie_Release_Date  Movie_Revenue  \\\n",
              "0       4000000         22.876230         09-12-1995        4300000   \n",
              "1      11000000        126.393695         25-05-1977      775398007   \n",
              "2      94000000         85.688789         30-05-2003      940335536   \n",
              "3      55000000        138.133331         06-07-1994      677945399   \n",
              "4      15000000         80.878605         15-09-1999      356296601   \n",
              "\n",
              "   Movie_Runtime  Movie_Vote  ...  \\\n",
              "0           98.0         6.5  ...   \n",
              "1          121.0         8.1  ...   \n",
              "2          100.0         7.6  ...   \n",
              "3          142.0         8.2  ...   \n",
              "4          122.0         7.9  ...   \n",
              "\n",
              "                                      Movie_Homepage  \\\n",
              "0                                                NaN   \n",
              "1  http://www.starwars.com/films/star-wars-episod...   \n",
              "2              http://movies.disney.com/finding-nemo   \n",
              "3                                                NaN   \n",
              "4                      http://www.dreamworks.com/ab/   \n",
              "\n",
              "                                      Movie_Keywords  \\\n",
              "0          hotel new year's eve witch bet hotel room   \n",
              "1        android galaxy hermit death star lightsaber   \n",
              "2  father son relationship harbor underwater fish...   \n",
              "3  vietnam veteran hippie mentally disabled runni...   \n",
              "4  male nudity female nudity adultery midlife cri...   \n",
              "\n",
              "                                      Movie_Overview  \\\n",
              "0  It's Ted the Bellhop's first night on the job....   \n",
              "1  Princess Leia is captured and held hostage by ...   \n",
              "2  Nemo, an adventurous young clownfish, is unexp...   \n",
              "3  A man with a low IQ has accomplished great thi...   \n",
              "4  Lester Burnham, a depressed suburban father in...   \n",
              "\n",
              "                              Movie_Production_House  \\\n",
              "0  [{\"name\": \"Miramax Films\", \"id\": 14}, {\"name\":...   \n",
              "1  [{\"name\": \"Lucasfilm\", \"id\": 1}, {\"name\": \"Twe...   \n",
              "2     [{\"name\": \"Pixar Animation Studios\", \"id\": 3}]   \n",
              "3          [{\"name\": \"Paramount Pictures\", \"id\": 4}]   \n",
              "4  [{\"name\": \"DreamWorks SKG\", \"id\": 27}, {\"name\"...   \n",
              "\n",
              "                            Movie_Production_Country  \\\n",
              "0  [{\"iso_3166_1\": \"US\", \"name\": \"United States o...   \n",
              "1  [{\"iso_3166_1\": \"US\", \"name\": \"United States o...   \n",
              "2  [{\"iso_3166_1\": \"US\", \"name\": \"United States o...   \n",
              "3  [{\"iso_3166_1\": \"US\", \"name\": \"United States o...   \n",
              "4  [{\"iso_3166_1\": \"US\", \"name\": \"United States o...   \n",
              "\n",
              "                      Movie_Spoken_Language  \\\n",
              "0  [{\"iso_639_1\": \"en\", \"name\": \"English\"}]   \n",
              "1  [{\"iso_639_1\": \"en\", \"name\": \"English\"}]   \n",
              "2  [{\"iso_639_1\": \"en\", \"name\": \"English\"}]   \n",
              "3  [{\"iso_639_1\": \"en\", \"name\": \"English\"}]   \n",
              "4  [{\"iso_639_1\": \"en\", \"name\": \"English\"}]   \n",
              "\n",
              "                                       Movie_Tagline  \\\n",
              "0  Twelve outrageous guests. Four scandalous requ...   \n",
              "1       A long time ago in a galaxy far, far away...   \n",
              "2  There are 3.7 trillion fish in the ocean, they...   \n",
              "3  The world will never be the same, once you've ...   \n",
              "4                                       Look closer.   \n",
              "\n",
              "                                          Movie_Cast  \\\n",
              "0  Tim Roth Antonio Banderas Jennifer Beals Madon...   \n",
              "1  Mark Hamill Harrison Ford Carrie Fisher Peter ...   \n",
              "2  Albert Brooks Ellen DeGeneres Alexander Gould ...   \n",
              "3  Tom Hanks Robin Wright Gary Sinise Mykelti Wil...   \n",
              "4  Kevin Spacey Annette Bening Thora Birch Wes Be...   \n",
              "\n",
              "                                          Movie_Crew   Movie_Director  \n",
              "0  [{'name': 'Allison Anders', 'gender': 1, 'depa...   Allison Anders  \n",
              "1  [{'name': 'George Lucas', 'gender': 2, 'depart...     George Lucas  \n",
              "2  [{'name': 'Andrew Stanton', 'gender': 2, 'depa...   Andrew Stanton  \n",
              "3  [{'name': 'Alan Silvestri', 'gender': 2, 'depa...  Robert Zemeckis  \n",
              "4  [{'name': 'Thomas Newman', 'gender': 2, 'depar...       Sam Mendes  \n",
              "\n",
              "[5 rows x 21 columns]"
            ],
            "text/html": [
              "\n",
              "  <div id=\"df-ab281df5-366c-49c6-aedb-6b9a9d799e73\" class=\"colab-df-container\">\n",
              "    <div>\n",
              "<style scoped>\n",
              "    .dataframe tbody tr th:only-of-type {\n",
              "        vertical-align: middle;\n",
              "    }\n",
              "\n",
              "    .dataframe tbody tr th {\n",
              "        vertical-align: top;\n",
              "    }\n",
              "\n",
              "    .dataframe thead th {\n",
              "        text-align: right;\n",
              "    }\n",
              "</style>\n",
              "<table border=\"1\" class=\"dataframe\">\n",
              "  <thead>\n",
              "    <tr style=\"text-align: right;\">\n",
              "      <th></th>\n",
              "      <th>Movie_ID</th>\n",
              "      <th>Movie_Title</th>\n",
              "      <th>Movie_Genre</th>\n",
              "      <th>Movie_Language</th>\n",
              "      <th>Movie_Budget</th>\n",
              "      <th>Movie_Popularity</th>\n",
              "      <th>Movie_Release_Date</th>\n",
              "      <th>Movie_Revenue</th>\n",
              "      <th>Movie_Runtime</th>\n",
              "      <th>Movie_Vote</th>\n",
              "      <th>...</th>\n",
              "      <th>Movie_Homepage</th>\n",
              "      <th>Movie_Keywords</th>\n",
              "      <th>Movie_Overview</th>\n",
              "      <th>Movie_Production_House</th>\n",
              "      <th>Movie_Production_Country</th>\n",
              "      <th>Movie_Spoken_Language</th>\n",
              "      <th>Movie_Tagline</th>\n",
              "      <th>Movie_Cast</th>\n",
              "      <th>Movie_Crew</th>\n",
              "      <th>Movie_Director</th>\n",
              "    </tr>\n",
              "  </thead>\n",
              "  <tbody>\n",
              "    <tr>\n",
              "      <th>0</th>\n",
              "      <td>1</td>\n",
              "      <td>Four Rooms</td>\n",
              "      <td>Crime Comedy</td>\n",
              "      <td>en</td>\n",
              "      <td>4000000</td>\n",
              "      <td>22.876230</td>\n",
              "      <td>09-12-1995</td>\n",
              "      <td>4300000</td>\n",
              "      <td>98.0</td>\n",
              "      <td>6.5</td>\n",
              "      <td>...</td>\n",
              "      <td>NaN</td>\n",
              "      <td>hotel new year's eve witch bet hotel room</td>\n",
              "      <td>It's Ted the Bellhop's first night on the job....</td>\n",
              "      <td>[{\"name\": \"Miramax Films\", \"id\": 14}, {\"name\":...</td>\n",
              "      <td>[{\"iso_3166_1\": \"US\", \"name\": \"United States o...</td>\n",
              "      <td>[{\"iso_639_1\": \"en\", \"name\": \"English\"}]</td>\n",
              "      <td>Twelve outrageous guests. Four scandalous requ...</td>\n",
              "      <td>Tim Roth Antonio Banderas Jennifer Beals Madon...</td>\n",
              "      <td>[{'name': 'Allison Anders', 'gender': 1, 'depa...</td>\n",
              "      <td>Allison Anders</td>\n",
              "    </tr>\n",
              "    <tr>\n",
              "      <th>1</th>\n",
              "      <td>2</td>\n",
              "      <td>Star Wars</td>\n",
              "      <td>Adventure Action Science Fiction</td>\n",
              "      <td>en</td>\n",
              "      <td>11000000</td>\n",
              "      <td>126.393695</td>\n",
              "      <td>25-05-1977</td>\n",
              "      <td>775398007</td>\n",
              "      <td>121.0</td>\n",
              "      <td>8.1</td>\n",
              "      <td>...</td>\n",
              "      <td>http://www.starwars.com/films/star-wars-episod...</td>\n",
              "      <td>android galaxy hermit death star lightsaber</td>\n",
              "      <td>Princess Leia is captured and held hostage by ...</td>\n",
              "      <td>[{\"name\": \"Lucasfilm\", \"id\": 1}, {\"name\": \"Twe...</td>\n",
              "      <td>[{\"iso_3166_1\": \"US\", \"name\": \"United States o...</td>\n",
              "      <td>[{\"iso_639_1\": \"en\", \"name\": \"English\"}]</td>\n",
              "      <td>A long time ago in a galaxy far, far away...</td>\n",
              "      <td>Mark Hamill Harrison Ford Carrie Fisher Peter ...</td>\n",
              "      <td>[{'name': 'George Lucas', 'gender': 2, 'depart...</td>\n",
              "      <td>George Lucas</td>\n",
              "    </tr>\n",
              "    <tr>\n",
              "      <th>2</th>\n",
              "      <td>3</td>\n",
              "      <td>Finding Nemo</td>\n",
              "      <td>Animation Family</td>\n",
              "      <td>en</td>\n",
              "      <td>94000000</td>\n",
              "      <td>85.688789</td>\n",
              "      <td>30-05-2003</td>\n",
              "      <td>940335536</td>\n",
              "      <td>100.0</td>\n",
              "      <td>7.6</td>\n",
              "      <td>...</td>\n",
              "      <td>http://movies.disney.com/finding-nemo</td>\n",
              "      <td>father son relationship harbor underwater fish...</td>\n",
              "      <td>Nemo, an adventurous young clownfish, is unexp...</td>\n",
              "      <td>[{\"name\": \"Pixar Animation Studios\", \"id\": 3}]</td>\n",
              "      <td>[{\"iso_3166_1\": \"US\", \"name\": \"United States o...</td>\n",
              "      <td>[{\"iso_639_1\": \"en\", \"name\": \"English\"}]</td>\n",
              "      <td>There are 3.7 trillion fish in the ocean, they...</td>\n",
              "      <td>Albert Brooks Ellen DeGeneres Alexander Gould ...</td>\n",
              "      <td>[{'name': 'Andrew Stanton', 'gender': 2, 'depa...</td>\n",
              "      <td>Andrew Stanton</td>\n",
              "    </tr>\n",
              "    <tr>\n",
              "      <th>3</th>\n",
              "      <td>4</td>\n",
              "      <td>Forrest Gump</td>\n",
              "      <td>Comedy Drama Romance</td>\n",
              "      <td>en</td>\n",
              "      <td>55000000</td>\n",
              "      <td>138.133331</td>\n",
              "      <td>06-07-1994</td>\n",
              "      <td>677945399</td>\n",
              "      <td>142.0</td>\n",
              "      <td>8.2</td>\n",
              "      <td>...</td>\n",
              "      <td>NaN</td>\n",
              "      <td>vietnam veteran hippie mentally disabled runni...</td>\n",
              "      <td>A man with a low IQ has accomplished great thi...</td>\n",
              "      <td>[{\"name\": \"Paramount Pictures\", \"id\": 4}]</td>\n",
              "      <td>[{\"iso_3166_1\": \"US\", \"name\": \"United States o...</td>\n",
              "      <td>[{\"iso_639_1\": \"en\", \"name\": \"English\"}]</td>\n",
              "      <td>The world will never be the same, once you've ...</td>\n",
              "      <td>Tom Hanks Robin Wright Gary Sinise Mykelti Wil...</td>\n",
              "      <td>[{'name': 'Alan Silvestri', 'gender': 2, 'depa...</td>\n",
              "      <td>Robert Zemeckis</td>\n",
              "    </tr>\n",
              "    <tr>\n",
              "      <th>4</th>\n",
              "      <td>5</td>\n",
              "      <td>American Beauty</td>\n",
              "      <td>Drama</td>\n",
              "      <td>en</td>\n",
              "      <td>15000000</td>\n",
              "      <td>80.878605</td>\n",
              "      <td>15-09-1999</td>\n",
              "      <td>356296601</td>\n",
              "      <td>122.0</td>\n",
              "      <td>7.9</td>\n",
              "      <td>...</td>\n",
              "      <td>http://www.dreamworks.com/ab/</td>\n",
              "      <td>male nudity female nudity adultery midlife cri...</td>\n",
              "      <td>Lester Burnham, a depressed suburban father in...</td>\n",
              "      <td>[{\"name\": \"DreamWorks SKG\", \"id\": 27}, {\"name\"...</td>\n",
              "      <td>[{\"iso_3166_1\": \"US\", \"name\": \"United States o...</td>\n",
              "      <td>[{\"iso_639_1\": \"en\", \"name\": \"English\"}]</td>\n",
              "      <td>Look closer.</td>\n",
              "      <td>Kevin Spacey Annette Bening Thora Birch Wes Be...</td>\n",
              "      <td>[{'name': 'Thomas Newman', 'gender': 2, 'depar...</td>\n",
              "      <td>Sam Mendes</td>\n",
              "    </tr>\n",
              "  </tbody>\n",
              "</table>\n",
              "<p>5 rows × 21 columns</p>\n",
              "</div>\n",
              "    <div class=\"colab-df-buttons\">\n",
              "\n",
              "  <div class=\"colab-df-container\">\n",
              "    <button class=\"colab-df-convert\" onclick=\"convertToInteractive('df-ab281df5-366c-49c6-aedb-6b9a9d799e73')\"\n",
              "            title=\"Convert this dataframe to an interactive table.\"\n",
              "            style=\"display:none;\">\n",
              "\n",
              "  <svg xmlns=\"http://www.w3.org/2000/svg\" height=\"24px\" viewBox=\"0 -960 960 960\">\n",
              "    <path d=\"M120-120v-720h720v720H120Zm60-500h600v-160H180v160Zm220 220h160v-160H400v160Zm0 220h160v-160H400v160ZM180-400h160v-160H180v160Zm440 0h160v-160H620v160ZM180-180h160v-160H180v160Zm440 0h160v-160H620v160Z\"/>\n",
              "  </svg>\n",
              "    </button>\n",
              "\n",
              "  <style>\n",
              "    .colab-df-container {\n",
              "      display:flex;\n",
              "      gap: 12px;\n",
              "    }\n",
              "\n",
              "    .colab-df-convert {\n",
              "      background-color: #E8F0FE;\n",
              "      border: none;\n",
              "      border-radius: 50%;\n",
              "      cursor: pointer;\n",
              "      display: none;\n",
              "      fill: #1967D2;\n",
              "      height: 32px;\n",
              "      padding: 0 0 0 0;\n",
              "      width: 32px;\n",
              "    }\n",
              "\n",
              "    .colab-df-convert:hover {\n",
              "      background-color: #E2EBFA;\n",
              "      box-shadow: 0px 1px 2px rgba(60, 64, 67, 0.3), 0px 1px 3px 1px rgba(60, 64, 67, 0.15);\n",
              "      fill: #174EA6;\n",
              "    }\n",
              "\n",
              "    .colab-df-buttons div {\n",
              "      margin-bottom: 4px;\n",
              "    }\n",
              "\n",
              "    [theme=dark] .colab-df-convert {\n",
              "      background-color: #3B4455;\n",
              "      fill: #D2E3FC;\n",
              "    }\n",
              "\n",
              "    [theme=dark] .colab-df-convert:hover {\n",
              "      background-color: #434B5C;\n",
              "      box-shadow: 0px 1px 3px 1px rgba(0, 0, 0, 0.15);\n",
              "      filter: drop-shadow(0px 1px 2px rgba(0, 0, 0, 0.3));\n",
              "      fill: #FFFFFF;\n",
              "    }\n",
              "  </style>\n",
              "\n",
              "    <script>\n",
              "      const buttonEl =\n",
              "        document.querySelector('#df-ab281df5-366c-49c6-aedb-6b9a9d799e73 button.colab-df-convert');\n",
              "      buttonEl.style.display =\n",
              "        google.colab.kernel.accessAllowed ? 'block' : 'none';\n",
              "\n",
              "      async function convertToInteractive(key) {\n",
              "        const element = document.querySelector('#df-ab281df5-366c-49c6-aedb-6b9a9d799e73');\n",
              "        const dataTable =\n",
              "          await google.colab.kernel.invokeFunction('convertToInteractive',\n",
              "                                                    [key], {});\n",
              "        if (!dataTable) return;\n",
              "\n",
              "        const docLinkHtml = 'Like what you see? Visit the ' +\n",
              "          '<a target=\"_blank\" href=https://colab.research.google.com/notebooks/data_table.ipynb>data table notebook</a>'\n",
              "          + ' to learn more about interactive tables.';\n",
              "        element.innerHTML = '';\n",
              "        dataTable['output_type'] = 'display_data';\n",
              "        await google.colab.output.renderOutput(dataTable, element);\n",
              "        const docLink = document.createElement('div');\n",
              "        docLink.innerHTML = docLinkHtml;\n",
              "        element.appendChild(docLink);\n",
              "      }\n",
              "    </script>\n",
              "  </div>\n",
              "\n",
              "\n",
              "<div id=\"df-2262dc3c-3561-40b9-97b8-49f4c90c8ac8\">\n",
              "  <button class=\"colab-df-quickchart\" onclick=\"quickchart('df-2262dc3c-3561-40b9-97b8-49f4c90c8ac8')\"\n",
              "            title=\"Suggest charts\"\n",
              "            style=\"display:none;\">\n",
              "\n",
              "<svg xmlns=\"http://www.w3.org/2000/svg\" height=\"24px\"viewBox=\"0 0 24 24\"\n",
              "     width=\"24px\">\n",
              "    <g>\n",
              "        <path d=\"M19 3H5c-1.1 0-2 .9-2 2v14c0 1.1.9 2 2 2h14c1.1 0 2-.9 2-2V5c0-1.1-.9-2-2-2zM9 17H7v-7h2v7zm4 0h-2V7h2v10zm4 0h-2v-4h2v4z\"/>\n",
              "    </g>\n",
              "</svg>\n",
              "  </button>\n",
              "\n",
              "<style>\n",
              "  .colab-df-quickchart {\n",
              "      --bg-color: #E8F0FE;\n",
              "      --fill-color: #1967D2;\n",
              "      --hover-bg-color: #E2EBFA;\n",
              "      --hover-fill-color: #174EA6;\n",
              "      --disabled-fill-color: #AAA;\n",
              "      --disabled-bg-color: #DDD;\n",
              "  }\n",
              "\n",
              "  [theme=dark] .colab-df-quickchart {\n",
              "      --bg-color: #3B4455;\n",
              "      --fill-color: #D2E3FC;\n",
              "      --hover-bg-color: #434B5C;\n",
              "      --hover-fill-color: #FFFFFF;\n",
              "      --disabled-bg-color: #3B4455;\n",
              "      --disabled-fill-color: #666;\n",
              "  }\n",
              "\n",
              "  .colab-df-quickchart {\n",
              "    background-color: var(--bg-color);\n",
              "    border: none;\n",
              "    border-radius: 50%;\n",
              "    cursor: pointer;\n",
              "    display: none;\n",
              "    fill: var(--fill-color);\n",
              "    height: 32px;\n",
              "    padding: 0;\n",
              "    width: 32px;\n",
              "  }\n",
              "\n",
              "  .colab-df-quickchart:hover {\n",
              "    background-color: var(--hover-bg-color);\n",
              "    box-shadow: 0 1px 2px rgba(60, 64, 67, 0.3), 0 1px 3px 1px rgba(60, 64, 67, 0.15);\n",
              "    fill: var(--button-hover-fill-color);\n",
              "  }\n",
              "\n",
              "  .colab-df-quickchart-complete:disabled,\n",
              "  .colab-df-quickchart-complete:disabled:hover {\n",
              "    background-color: var(--disabled-bg-color);\n",
              "    fill: var(--disabled-fill-color);\n",
              "    box-shadow: none;\n",
              "  }\n",
              "\n",
              "  .colab-df-spinner {\n",
              "    border: 2px solid var(--fill-color);\n",
              "    border-color: transparent;\n",
              "    border-bottom-color: var(--fill-color);\n",
              "    animation:\n",
              "      spin 1s steps(1) infinite;\n",
              "  }\n",
              "\n",
              "  @keyframes spin {\n",
              "    0% {\n",
              "      border-color: transparent;\n",
              "      border-bottom-color: var(--fill-color);\n",
              "      border-left-color: var(--fill-color);\n",
              "    }\n",
              "    20% {\n",
              "      border-color: transparent;\n",
              "      border-left-color: var(--fill-color);\n",
              "      border-top-color: var(--fill-color);\n",
              "    }\n",
              "    30% {\n",
              "      border-color: transparent;\n",
              "      border-left-color: var(--fill-color);\n",
              "      border-top-color: var(--fill-color);\n",
              "      border-right-color: var(--fill-color);\n",
              "    }\n",
              "    40% {\n",
              "      border-color: transparent;\n",
              "      border-right-color: var(--fill-color);\n",
              "      border-top-color: var(--fill-color);\n",
              "    }\n",
              "    60% {\n",
              "      border-color: transparent;\n",
              "      border-right-color: var(--fill-color);\n",
              "    }\n",
              "    80% {\n",
              "      border-color: transparent;\n",
              "      border-right-color: var(--fill-color);\n",
              "      border-bottom-color: var(--fill-color);\n",
              "    }\n",
              "    90% {\n",
              "      border-color: transparent;\n",
              "      border-bottom-color: var(--fill-color);\n",
              "    }\n",
              "  }\n",
              "</style>\n",
              "\n",
              "  <script>\n",
              "    async function quickchart(key) {\n",
              "      const quickchartButtonEl =\n",
              "        document.querySelector('#' + key + ' button');\n",
              "      quickchartButtonEl.disabled = true;  // To prevent multiple clicks.\n",
              "      quickchartButtonEl.classList.add('colab-df-spinner');\n",
              "      try {\n",
              "        const charts = await google.colab.kernel.invokeFunction(\n",
              "            'suggestCharts', [key], {});\n",
              "      } catch (error) {\n",
              "        console.error('Error during call to suggestCharts:', error);\n",
              "      }\n",
              "      quickchartButtonEl.classList.remove('colab-df-spinner');\n",
              "      quickchartButtonEl.classList.add('colab-df-quickchart-complete');\n",
              "    }\n",
              "    (() => {\n",
              "      let quickchartButtonEl =\n",
              "        document.querySelector('#df-2262dc3c-3561-40b9-97b8-49f4c90c8ac8 button');\n",
              "      quickchartButtonEl.style.display =\n",
              "        google.colab.kernel.accessAllowed ? 'block' : 'none';\n",
              "    })();\n",
              "  </script>\n",
              "</div>\n",
              "\n",
              "    </div>\n",
              "  </div>\n"
            ]
          },
          "metadata": {},
          "execution_count": 4
        }
      ]
    },
    {
      "cell_type": "code",
      "source": [
        "mov.info()"
      ],
      "metadata": {
        "colab": {
          "base_uri": "https://localhost:8080/"
        },
        "id": "xmnpkwwBKu2D",
        "outputId": "2277b618-b05f-418b-8058-ba2bb9676374"
      },
      "execution_count": null,
      "outputs": [
        {
          "output_type": "stream",
          "name": "stdout",
          "text": [
            "<class 'pandas.core.frame.DataFrame'>\n",
            "RangeIndex: 4760 entries, 0 to 4759\n",
            "Data columns (total 21 columns):\n",
            " #   Column                    Non-Null Count  Dtype  \n",
            "---  ------                    --------------  -----  \n",
            " 0   Movie_ID                  4760 non-null   int64  \n",
            " 1   Movie_Title               4760 non-null   object \n",
            " 2   Movie_Genre               4760 non-null   object \n",
            " 3   Movie_Language            4760 non-null   object \n",
            " 4   Movie_Budget              4760 non-null   int64  \n",
            " 5   Movie_Popularity          4760 non-null   float64\n",
            " 6   Movie_Release_Date        4760 non-null   object \n",
            " 7   Movie_Revenue             4760 non-null   int64  \n",
            " 8   Movie_Runtime             4758 non-null   float64\n",
            " 9   Movie_Vote                4760 non-null   float64\n",
            " 10  Movie_Vote_Count          4760 non-null   int64  \n",
            " 11  Movie_Homepage            1699 non-null   object \n",
            " 12  Movie_Keywords            4373 non-null   object \n",
            " 13  Movie_Overview            4757 non-null   object \n",
            " 14  Movie_Production_House    4760 non-null   object \n",
            " 15  Movie_Production_Country  4760 non-null   object \n",
            " 16  Movie_Spoken_Language     4760 non-null   object \n",
            " 17  Movie_Tagline             3942 non-null   object \n",
            " 18  Movie_Cast                4733 non-null   object \n",
            " 19  Movie_Crew                4760 non-null   object \n",
            " 20  Movie_Director            4738 non-null   object \n",
            "dtypes: float64(3), int64(4), object(14)\n",
            "memory usage: 781.1+ KB\n"
          ]
        }
      ]
    },
    {
      "cell_type": "code",
      "source": [
        "mov.shape"
      ],
      "metadata": {
        "colab": {
          "base_uri": "https://localhost:8080/"
        },
        "id": "5RFYSba4K2_-",
        "outputId": "7715f8d7-fd34-48af-d501-99930f46b62d"
      },
      "execution_count": null,
      "outputs": [
        {
          "output_type": "execute_result",
          "data": {
            "text/plain": [
              "(4760, 21)"
            ]
          },
          "metadata": {},
          "execution_count": 6
        }
      ]
    },
    {
      "cell_type": "code",
      "source": [
        "mov.columns"
      ],
      "metadata": {
        "colab": {
          "base_uri": "https://localhost:8080/"
        },
        "id": "bu7vfKHGK6DL",
        "outputId": "446932fd-fda0-4e51-d1cd-cf7cc14ed2b7"
      },
      "execution_count": null,
      "outputs": [
        {
          "output_type": "execute_result",
          "data": {
            "text/plain": [
              "Index(['Movie_ID', 'Movie_Title', 'Movie_Genre', 'Movie_Language',\n",
              "       'Movie_Budget', 'Movie_Popularity', 'Movie_Release_Date',\n",
              "       'Movie_Revenue', 'Movie_Runtime', 'Movie_Vote', 'Movie_Vote_Count',\n",
              "       'Movie_Homepage', 'Movie_Keywords', 'Movie_Overview',\n",
              "       'Movie_Production_House', 'Movie_Production_Country',\n",
              "       'Movie_Spoken_Language', 'Movie_Tagline', 'Movie_Cast', 'Movie_Crew',\n",
              "       'Movie_Director'],\n",
              "      dtype='object')"
            ]
          },
          "metadata": {},
          "execution_count": 7
        }
      ]
    },
    {
      "cell_type": "markdown",
      "source": [
        "# **Get Feature Selection**"
      ],
      "metadata": {
        "id": "jz_Vi-jJVRiv"
      }
    },
    {
      "cell_type": "code",
      "source": [
        "mov_features = mov[['Movie_Genre', 'Movie_Keywords', 'Movie_Tagline', 'Movie_Cast', 'Movie_Director']].fillna('')"
      ],
      "metadata": {
        "id": "VXusb89FLA6H"
      },
      "execution_count": null,
      "outputs": []
    },
    {
      "cell_type": "code",
      "source": [
        "mov_features.shape"
      ],
      "metadata": {
        "colab": {
          "base_uri": "https://localhost:8080/"
        },
        "id": "6vB0s4BjLsad",
        "outputId": "5e8ff665-918f-45bc-8111-f3f231aea78b"
      },
      "execution_count": null,
      "outputs": [
        {
          "output_type": "execute_result",
          "data": {
            "text/plain": [
              "(4760, 5)"
            ]
          },
          "metadata": {},
          "execution_count": 9
        }
      ]
    },
    {
      "cell_type": "code",
      "source": [
        "mov_features"
      ],
      "metadata": {
        "colab": {
          "base_uri": "https://localhost:8080/",
          "height": 615
        },
        "id": "-BCHAT3NLw3z",
        "outputId": "f26d1c2f-dc9d-4957-8a67-8cdc9c47ff95"
      },
      "execution_count": null,
      "outputs": [
        {
          "output_type": "execute_result",
          "data": {
            "text/plain": [
              "                           Movie_Genre  \\\n",
              "0                         Crime Comedy   \n",
              "1     Adventure Action Science Fiction   \n",
              "2                     Animation Family   \n",
              "3                 Comedy Drama Romance   \n",
              "4                                Drama   \n",
              "...                                ...   \n",
              "4755                            Horror   \n",
              "4756               Comedy Family Drama   \n",
              "4757                    Thriller Drama   \n",
              "4758                            Family   \n",
              "4759                       Documentary   \n",
              "\n",
              "                                         Movie_Keywords  \\\n",
              "0             hotel new year's eve witch bet hotel room   \n",
              "1           android galaxy hermit death star lightsaber   \n",
              "2     father son relationship harbor underwater fish...   \n",
              "3     vietnam veteran hippie mentally disabled runni...   \n",
              "4     male nudity female nudity adultery midlife cri...   \n",
              "...                                                 ...   \n",
              "4755                                                      \n",
              "4756                                                      \n",
              "4757                     christian film sex trafficking   \n",
              "4758                                                      \n",
              "4759  music actors legendary perfomer classic hollyw...   \n",
              "\n",
              "                                          Movie_Tagline  \\\n",
              "0     Twelve outrageous guests. Four scandalous requ...   \n",
              "1          A long time ago in a galaxy far, far away...   \n",
              "2     There are 3.7 trillion fish in the ocean, they...   \n",
              "3     The world will never be the same, once you've ...   \n",
              "4                                          Look closer.   \n",
              "...                                                 ...   \n",
              "4755                The hot spot where Satan's waitin'.   \n",
              "4756           It’s better to stand out than to fit in.   \n",
              "4757           She never knew it could happen to her...   \n",
              "4758                                                      \n",
              "4759                                                      \n",
              "\n",
              "                                             Movie_Cast     Movie_Director  \n",
              "0     Tim Roth Antonio Banderas Jennifer Beals Madon...     Allison Anders  \n",
              "1     Mark Hamill Harrison Ford Carrie Fisher Peter ...       George Lucas  \n",
              "2     Albert Brooks Ellen DeGeneres Alexander Gould ...     Andrew Stanton  \n",
              "3     Tom Hanks Robin Wright Gary Sinise Mykelti Wil...    Robert Zemeckis  \n",
              "4     Kevin Spacey Annette Bening Thora Birch Wes Be...         Sam Mendes  \n",
              "...                                                 ...                ...  \n",
              "4755  Lisa Hart Carroll Michael Des Barres Paul Drak...         Pece Dingo  \n",
              "4756  Roni Akurati Brighton Sharbino Jason Lee Anjul...       Frank Lotito  \n",
              "4757  Nicole Smolen Kim Baldwin Ariana Stephens Brys...       Jaco Booyens  \n",
              "4758                                                                        \n",
              "4759                                    Tony Oppedisano  Simon Napier-Bell  \n",
              "\n",
              "[4760 rows x 5 columns]"
            ],
            "text/html": [
              "\n",
              "  <div id=\"df-63a9ded1-ba68-4f57-8409-a9d0b85edec6\" class=\"colab-df-container\">\n",
              "    <div>\n",
              "<style scoped>\n",
              "    .dataframe tbody tr th:only-of-type {\n",
              "        vertical-align: middle;\n",
              "    }\n",
              "\n",
              "    .dataframe tbody tr th {\n",
              "        vertical-align: top;\n",
              "    }\n",
              "\n",
              "    .dataframe thead th {\n",
              "        text-align: right;\n",
              "    }\n",
              "</style>\n",
              "<table border=\"1\" class=\"dataframe\">\n",
              "  <thead>\n",
              "    <tr style=\"text-align: right;\">\n",
              "      <th></th>\n",
              "      <th>Movie_Genre</th>\n",
              "      <th>Movie_Keywords</th>\n",
              "      <th>Movie_Tagline</th>\n",
              "      <th>Movie_Cast</th>\n",
              "      <th>Movie_Director</th>\n",
              "    </tr>\n",
              "  </thead>\n",
              "  <tbody>\n",
              "    <tr>\n",
              "      <th>0</th>\n",
              "      <td>Crime Comedy</td>\n",
              "      <td>hotel new year's eve witch bet hotel room</td>\n",
              "      <td>Twelve outrageous guests. Four scandalous requ...</td>\n",
              "      <td>Tim Roth Antonio Banderas Jennifer Beals Madon...</td>\n",
              "      <td>Allison Anders</td>\n",
              "    </tr>\n",
              "    <tr>\n",
              "      <th>1</th>\n",
              "      <td>Adventure Action Science Fiction</td>\n",
              "      <td>android galaxy hermit death star lightsaber</td>\n",
              "      <td>A long time ago in a galaxy far, far away...</td>\n",
              "      <td>Mark Hamill Harrison Ford Carrie Fisher Peter ...</td>\n",
              "      <td>George Lucas</td>\n",
              "    </tr>\n",
              "    <tr>\n",
              "      <th>2</th>\n",
              "      <td>Animation Family</td>\n",
              "      <td>father son relationship harbor underwater fish...</td>\n",
              "      <td>There are 3.7 trillion fish in the ocean, they...</td>\n",
              "      <td>Albert Brooks Ellen DeGeneres Alexander Gould ...</td>\n",
              "      <td>Andrew Stanton</td>\n",
              "    </tr>\n",
              "    <tr>\n",
              "      <th>3</th>\n",
              "      <td>Comedy Drama Romance</td>\n",
              "      <td>vietnam veteran hippie mentally disabled runni...</td>\n",
              "      <td>The world will never be the same, once you've ...</td>\n",
              "      <td>Tom Hanks Robin Wright Gary Sinise Mykelti Wil...</td>\n",
              "      <td>Robert Zemeckis</td>\n",
              "    </tr>\n",
              "    <tr>\n",
              "      <th>4</th>\n",
              "      <td>Drama</td>\n",
              "      <td>male nudity female nudity adultery midlife cri...</td>\n",
              "      <td>Look closer.</td>\n",
              "      <td>Kevin Spacey Annette Bening Thora Birch Wes Be...</td>\n",
              "      <td>Sam Mendes</td>\n",
              "    </tr>\n",
              "    <tr>\n",
              "      <th>...</th>\n",
              "      <td>...</td>\n",
              "      <td>...</td>\n",
              "      <td>...</td>\n",
              "      <td>...</td>\n",
              "      <td>...</td>\n",
              "    </tr>\n",
              "    <tr>\n",
              "      <th>4755</th>\n",
              "      <td>Horror</td>\n",
              "      <td></td>\n",
              "      <td>The hot spot where Satan's waitin'.</td>\n",
              "      <td>Lisa Hart Carroll Michael Des Barres Paul Drak...</td>\n",
              "      <td>Pece Dingo</td>\n",
              "    </tr>\n",
              "    <tr>\n",
              "      <th>4756</th>\n",
              "      <td>Comedy Family Drama</td>\n",
              "      <td></td>\n",
              "      <td>It’s better to stand out than to fit in.</td>\n",
              "      <td>Roni Akurati Brighton Sharbino Jason Lee Anjul...</td>\n",
              "      <td>Frank Lotito</td>\n",
              "    </tr>\n",
              "    <tr>\n",
              "      <th>4757</th>\n",
              "      <td>Thriller Drama</td>\n",
              "      <td>christian film sex trafficking</td>\n",
              "      <td>She never knew it could happen to her...</td>\n",
              "      <td>Nicole Smolen Kim Baldwin Ariana Stephens Brys...</td>\n",
              "      <td>Jaco Booyens</td>\n",
              "    </tr>\n",
              "    <tr>\n",
              "      <th>4758</th>\n",
              "      <td>Family</td>\n",
              "      <td></td>\n",
              "      <td></td>\n",
              "      <td></td>\n",
              "      <td></td>\n",
              "    </tr>\n",
              "    <tr>\n",
              "      <th>4759</th>\n",
              "      <td>Documentary</td>\n",
              "      <td>music actors legendary perfomer classic hollyw...</td>\n",
              "      <td></td>\n",
              "      <td>Tony Oppedisano</td>\n",
              "      <td>Simon Napier-Bell</td>\n",
              "    </tr>\n",
              "  </tbody>\n",
              "</table>\n",
              "<p>4760 rows × 5 columns</p>\n",
              "</div>\n",
              "    <div class=\"colab-df-buttons\">\n",
              "\n",
              "  <div class=\"colab-df-container\">\n",
              "    <button class=\"colab-df-convert\" onclick=\"convertToInteractive('df-63a9ded1-ba68-4f57-8409-a9d0b85edec6')\"\n",
              "            title=\"Convert this dataframe to an interactive table.\"\n",
              "            style=\"display:none;\">\n",
              "\n",
              "  <svg xmlns=\"http://www.w3.org/2000/svg\" height=\"24px\" viewBox=\"0 -960 960 960\">\n",
              "    <path d=\"M120-120v-720h720v720H120Zm60-500h600v-160H180v160Zm220 220h160v-160H400v160Zm0 220h160v-160H400v160ZM180-400h160v-160H180v160Zm440 0h160v-160H620v160ZM180-180h160v-160H180v160Zm440 0h160v-160H620v160Z\"/>\n",
              "  </svg>\n",
              "    </button>\n",
              "\n",
              "  <style>\n",
              "    .colab-df-container {\n",
              "      display:flex;\n",
              "      gap: 12px;\n",
              "    }\n",
              "\n",
              "    .colab-df-convert {\n",
              "      background-color: #E8F0FE;\n",
              "      border: none;\n",
              "      border-radius: 50%;\n",
              "      cursor: pointer;\n",
              "      display: none;\n",
              "      fill: #1967D2;\n",
              "      height: 32px;\n",
              "      padding: 0 0 0 0;\n",
              "      width: 32px;\n",
              "    }\n",
              "\n",
              "    .colab-df-convert:hover {\n",
              "      background-color: #E2EBFA;\n",
              "      box-shadow: 0px 1px 2px rgba(60, 64, 67, 0.3), 0px 1px 3px 1px rgba(60, 64, 67, 0.15);\n",
              "      fill: #174EA6;\n",
              "    }\n",
              "\n",
              "    .colab-df-buttons div {\n",
              "      margin-bottom: 4px;\n",
              "    }\n",
              "\n",
              "    [theme=dark] .colab-df-convert {\n",
              "      background-color: #3B4455;\n",
              "      fill: #D2E3FC;\n",
              "    }\n",
              "\n",
              "    [theme=dark] .colab-df-convert:hover {\n",
              "      background-color: #434B5C;\n",
              "      box-shadow: 0px 1px 3px 1px rgba(0, 0, 0, 0.15);\n",
              "      filter: drop-shadow(0px 1px 2px rgba(0, 0, 0, 0.3));\n",
              "      fill: #FFFFFF;\n",
              "    }\n",
              "  </style>\n",
              "\n",
              "    <script>\n",
              "      const buttonEl =\n",
              "        document.querySelector('#df-63a9ded1-ba68-4f57-8409-a9d0b85edec6 button.colab-df-convert');\n",
              "      buttonEl.style.display =\n",
              "        google.colab.kernel.accessAllowed ? 'block' : 'none';\n",
              "\n",
              "      async function convertToInteractive(key) {\n",
              "        const element = document.querySelector('#df-63a9ded1-ba68-4f57-8409-a9d0b85edec6');\n",
              "        const dataTable =\n",
              "          await google.colab.kernel.invokeFunction('convertToInteractive',\n",
              "                                                    [key], {});\n",
              "        if (!dataTable) return;\n",
              "\n",
              "        const docLinkHtml = 'Like what you see? Visit the ' +\n",
              "          '<a target=\"_blank\" href=https://colab.research.google.com/notebooks/data_table.ipynb>data table notebook</a>'\n",
              "          + ' to learn more about interactive tables.';\n",
              "        element.innerHTML = '';\n",
              "        dataTable['output_type'] = 'display_data';\n",
              "        await google.colab.output.renderOutput(dataTable, element);\n",
              "        const docLink = document.createElement('div');\n",
              "        docLink.innerHTML = docLinkHtml;\n",
              "        element.appendChild(docLink);\n",
              "      }\n",
              "    </script>\n",
              "  </div>\n",
              "\n",
              "\n",
              "<div id=\"df-16d70cbd-1737-4a7f-a506-bb9ab0eb7c66\">\n",
              "  <button class=\"colab-df-quickchart\" onclick=\"quickchart('df-16d70cbd-1737-4a7f-a506-bb9ab0eb7c66')\"\n",
              "            title=\"Suggest charts\"\n",
              "            style=\"display:none;\">\n",
              "\n",
              "<svg xmlns=\"http://www.w3.org/2000/svg\" height=\"24px\"viewBox=\"0 0 24 24\"\n",
              "     width=\"24px\">\n",
              "    <g>\n",
              "        <path d=\"M19 3H5c-1.1 0-2 .9-2 2v14c0 1.1.9 2 2 2h14c1.1 0 2-.9 2-2V5c0-1.1-.9-2-2-2zM9 17H7v-7h2v7zm4 0h-2V7h2v10zm4 0h-2v-4h2v4z\"/>\n",
              "    </g>\n",
              "</svg>\n",
              "  </button>\n",
              "\n",
              "<style>\n",
              "  .colab-df-quickchart {\n",
              "      --bg-color: #E8F0FE;\n",
              "      --fill-color: #1967D2;\n",
              "      --hover-bg-color: #E2EBFA;\n",
              "      --hover-fill-color: #174EA6;\n",
              "      --disabled-fill-color: #AAA;\n",
              "      --disabled-bg-color: #DDD;\n",
              "  }\n",
              "\n",
              "  [theme=dark] .colab-df-quickchart {\n",
              "      --bg-color: #3B4455;\n",
              "      --fill-color: #D2E3FC;\n",
              "      --hover-bg-color: #434B5C;\n",
              "      --hover-fill-color: #FFFFFF;\n",
              "      --disabled-bg-color: #3B4455;\n",
              "      --disabled-fill-color: #666;\n",
              "  }\n",
              "\n",
              "  .colab-df-quickchart {\n",
              "    background-color: var(--bg-color);\n",
              "    border: none;\n",
              "    border-radius: 50%;\n",
              "    cursor: pointer;\n",
              "    display: none;\n",
              "    fill: var(--fill-color);\n",
              "    height: 32px;\n",
              "    padding: 0;\n",
              "    width: 32px;\n",
              "  }\n",
              "\n",
              "  .colab-df-quickchart:hover {\n",
              "    background-color: var(--hover-bg-color);\n",
              "    box-shadow: 0 1px 2px rgba(60, 64, 67, 0.3), 0 1px 3px 1px rgba(60, 64, 67, 0.15);\n",
              "    fill: var(--button-hover-fill-color);\n",
              "  }\n",
              "\n",
              "  .colab-df-quickchart-complete:disabled,\n",
              "  .colab-df-quickchart-complete:disabled:hover {\n",
              "    background-color: var(--disabled-bg-color);\n",
              "    fill: var(--disabled-fill-color);\n",
              "    box-shadow: none;\n",
              "  }\n",
              "\n",
              "  .colab-df-spinner {\n",
              "    border: 2px solid var(--fill-color);\n",
              "    border-color: transparent;\n",
              "    border-bottom-color: var(--fill-color);\n",
              "    animation:\n",
              "      spin 1s steps(1) infinite;\n",
              "  }\n",
              "\n",
              "  @keyframes spin {\n",
              "    0% {\n",
              "      border-color: transparent;\n",
              "      border-bottom-color: var(--fill-color);\n",
              "      border-left-color: var(--fill-color);\n",
              "    }\n",
              "    20% {\n",
              "      border-color: transparent;\n",
              "      border-left-color: var(--fill-color);\n",
              "      border-top-color: var(--fill-color);\n",
              "    }\n",
              "    30% {\n",
              "      border-color: transparent;\n",
              "      border-left-color: var(--fill-color);\n",
              "      border-top-color: var(--fill-color);\n",
              "      border-right-color: var(--fill-color);\n",
              "    }\n",
              "    40% {\n",
              "      border-color: transparent;\n",
              "      border-right-color: var(--fill-color);\n",
              "      border-top-color: var(--fill-color);\n",
              "    }\n",
              "    60% {\n",
              "      border-color: transparent;\n",
              "      border-right-color: var(--fill-color);\n",
              "    }\n",
              "    80% {\n",
              "      border-color: transparent;\n",
              "      border-right-color: var(--fill-color);\n",
              "      border-bottom-color: var(--fill-color);\n",
              "    }\n",
              "    90% {\n",
              "      border-color: transparent;\n",
              "      border-bottom-color: var(--fill-color);\n",
              "    }\n",
              "  }\n",
              "</style>\n",
              "\n",
              "  <script>\n",
              "    async function quickchart(key) {\n",
              "      const quickchartButtonEl =\n",
              "        document.querySelector('#' + key + ' button');\n",
              "      quickchartButtonEl.disabled = true;  // To prevent multiple clicks.\n",
              "      quickchartButtonEl.classList.add('colab-df-spinner');\n",
              "      try {\n",
              "        const charts = await google.colab.kernel.invokeFunction(\n",
              "            'suggestCharts', [key], {});\n",
              "      } catch (error) {\n",
              "        console.error('Error during call to suggestCharts:', error);\n",
              "      }\n",
              "      quickchartButtonEl.classList.remove('colab-df-spinner');\n",
              "      quickchartButtonEl.classList.add('colab-df-quickchart-complete');\n",
              "    }\n",
              "    (() => {\n",
              "      let quickchartButtonEl =\n",
              "        document.querySelector('#df-16d70cbd-1737-4a7f-a506-bb9ab0eb7c66 button');\n",
              "      quickchartButtonEl.style.display =\n",
              "        google.colab.kernel.accessAllowed ? 'block' : 'none';\n",
              "    })();\n",
              "  </script>\n",
              "</div>\n",
              "\n",
              "  <div id=\"id_fc448680-12b2-40ce-bbbf-f75b876ddfd5\">\n",
              "    <style>\n",
              "      .colab-df-generate {\n",
              "        background-color: #E8F0FE;\n",
              "        border: none;\n",
              "        border-radius: 50%;\n",
              "        cursor: pointer;\n",
              "        display: none;\n",
              "        fill: #1967D2;\n",
              "        height: 32px;\n",
              "        padding: 0 0 0 0;\n",
              "        width: 32px;\n",
              "      }\n",
              "\n",
              "      .colab-df-generate:hover {\n",
              "        background-color: #E2EBFA;\n",
              "        box-shadow: 0px 1px 2px rgba(60, 64, 67, 0.3), 0px 1px 3px 1px rgba(60, 64, 67, 0.15);\n",
              "        fill: #174EA6;\n",
              "      }\n",
              "\n",
              "      [theme=dark] .colab-df-generate {\n",
              "        background-color: #3B4455;\n",
              "        fill: #D2E3FC;\n",
              "      }\n",
              "\n",
              "      [theme=dark] .colab-df-generate:hover {\n",
              "        background-color: #434B5C;\n",
              "        box-shadow: 0px 1px 3px 1px rgba(0, 0, 0, 0.15);\n",
              "        filter: drop-shadow(0px 1px 2px rgba(0, 0, 0, 0.3));\n",
              "        fill: #FFFFFF;\n",
              "      }\n",
              "    </style>\n",
              "    <button class=\"colab-df-generate\" onclick=\"generateWithVariable('mov_features')\"\n",
              "            title=\"Generate code using this dataframe.\"\n",
              "            style=\"display:none;\">\n",
              "\n",
              "  <svg xmlns=\"http://www.w3.org/2000/svg\" height=\"24px\"viewBox=\"0 0 24 24\"\n",
              "       width=\"24px\">\n",
              "    <path d=\"M7,19H8.4L18.45,9,17,7.55,7,17.6ZM5,21V16.75L18.45,3.32a2,2,0,0,1,2.83,0l1.4,1.43a1.91,1.91,0,0,1,.58,1.4,1.91,1.91,0,0,1-.58,1.4L9.25,21ZM18.45,9,17,7.55Zm-12,3A5.31,5.31,0,0,0,4.9,8.1,5.31,5.31,0,0,0,1,6.5,5.31,5.31,0,0,0,4.9,4.9,5.31,5.31,0,0,0,6.5,1,5.31,5.31,0,0,0,8.1,4.9,5.31,5.31,0,0,0,12,6.5,5.46,5.46,0,0,0,6.5,12Z\"/>\n",
              "  </svg>\n",
              "    </button>\n",
              "    <script>\n",
              "      (() => {\n",
              "      const buttonEl =\n",
              "        document.querySelector('#id_fc448680-12b2-40ce-bbbf-f75b876ddfd5 button.colab-df-generate');\n",
              "      buttonEl.style.display =\n",
              "        google.colab.kernel.accessAllowed ? 'block' : 'none';\n",
              "\n",
              "      buttonEl.onclick = () => {\n",
              "        google.colab.notebook.generateWithVariable('mov_features');\n",
              "      }\n",
              "      })();\n",
              "    </script>\n",
              "  </div>\n",
              "\n",
              "    </div>\n",
              "  </div>\n"
            ]
          },
          "metadata": {},
          "execution_count": 10
        }
      ]
    },
    {
      "cell_type": "code",
      "source": [
        "x = mov_features['Movie_Genre'] + ' ' + mov_features['Movie_Keywords'] + ' ' + mov_features['Movie_Tagline'] + ' ' + mov_features['Movie_Cast'] + ' ' + mov_features['Movie_Director']"
      ],
      "metadata": {
        "id": "aaYHaQ3UL4Qf"
      },
      "execution_count": null,
      "outputs": []
    },
    {
      "cell_type": "code",
      "source": [
        "x.shape"
      ],
      "metadata": {
        "colab": {
          "base_uri": "https://localhost:8080/"
        },
        "id": "xTNVTRjVMnvQ",
        "outputId": "9d17e024-deac-4b8f-c531-143dc01322fd"
      },
      "execution_count": null,
      "outputs": [
        {
          "output_type": "execute_result",
          "data": {
            "text/plain": [
              "(4760,)"
            ]
          },
          "metadata": {},
          "execution_count": 12
        }
      ]
    },
    {
      "cell_type": "markdown",
      "source": [
        "# **Get Feature Text Conversions to Tokens**"
      ],
      "metadata": {
        "id": "Y8GE0mvtVVbp"
      }
    },
    {
      "cell_type": "code",
      "source": [
        "from sklearn.feature_extraction.text import TfidfVectorizer"
      ],
      "metadata": {
        "id": "atTHgzWSMr7E"
      },
      "execution_count": null,
      "outputs": []
    },
    {
      "cell_type": "code",
      "source": [
        "tfidf = TfidfVectorizer()"
      ],
      "metadata": {
        "id": "qaOBNGVPM7PO"
      },
      "execution_count": null,
      "outputs": []
    },
    {
      "cell_type": "code",
      "source": [
        "x = tfidf.fit_transform(x)"
      ],
      "metadata": {
        "id": "Hfn0DJNrNA2z"
      },
      "execution_count": null,
      "outputs": []
    },
    {
      "cell_type": "code",
      "source": [
        "x.shape"
      ],
      "metadata": {
        "colab": {
          "base_uri": "https://localhost:8080/"
        },
        "id": "Vw93DghHNKEt",
        "outputId": "5109d8b7-43b7-45de-f7ed-f5347033e5d4"
      },
      "execution_count": null,
      "outputs": [
        {
          "output_type": "execute_result",
          "data": {
            "text/plain": [
              "(4760, 17258)"
            ]
          },
          "metadata": {},
          "execution_count": 16
        }
      ]
    },
    {
      "cell_type": "code",
      "source": [
        "print(x)"
      ],
      "metadata": {
        "colab": {
          "base_uri": "https://localhost:8080/"
        },
        "id": "PzcFB9weNKud",
        "outputId": "f8e45a1b-db76-467c-af0b-c5cda223f338"
      },
      "execution_count": null,
      "outputs": [
        {
          "output_type": "stream",
          "name": "stdout",
          "text": [
            "  (0, 617)\t0.1633382144407513\n",
            "  (0, 492)\t0.1432591540388685\n",
            "  (0, 15413)\t0.1465525095337543\n",
            "  (0, 9675)\t0.14226057295252661\n",
            "  (0, 9465)\t0.1659841367820977\n",
            "  (0, 1390)\t0.16898383612799558\n",
            "  (0, 7825)\t0.09799561597509843\n",
            "  (0, 1214)\t0.13865857545144072\n",
            "  (0, 729)\t0.13415063359531618\n",
            "  (0, 13093)\t0.1432591540388685\n",
            "  (0, 15355)\t0.10477815972666779\n",
            "  (0, 9048)\t0.0866842116160778\n",
            "  (0, 11161)\t0.06250380151644369\n",
            "  (0, 16773)\t0.17654247479915475\n",
            "  (0, 5612)\t0.08603537588547631\n",
            "  (0, 16735)\t0.10690083751525419\n",
            "  (0, 7904)\t0.13348000542112332\n",
            "  (0, 15219)\t0.09800472886453934\n",
            "  (0, 11242)\t0.07277788238484746\n",
            "  (0, 3878)\t0.11998399582562203\n",
            "  (0, 5499)\t0.11454057510303811\n",
            "  (0, 7071)\t0.19822417598406614\n",
            "  (0, 7454)\t0.14745635785412262\n",
            "  (0, 1495)\t0.19712637387361423\n",
            "  (0, 9206)\t0.15186283580984414\n",
            "  :\t:\n",
            "  (4757, 5455)\t0.12491480594769522\n",
            "  (4757, 2967)\t0.16273475835631626\n",
            "  (4757, 8464)\t0.23522565554066333\n",
            "  (4757, 6938)\t0.17088173678136628\n",
            "  (4757, 8379)\t0.17480603856721913\n",
            "  (4757, 15303)\t0.07654356007668191\n",
            "  (4757, 15384)\t0.09754322497537371\n",
            "  (4757, 7649)\t0.11479421494340192\n",
            "  (4757, 10896)\t0.14546473055066447\n",
            "  (4757, 4494)\t0.05675298448720501\n",
            "  (4758, 5238)\t1.0\n",
            "  (4759, 11264)\t0.33947721804318337\n",
            "  (4759, 11708)\t0.33947721804318337\n",
            "  (4759, 205)\t0.3237911628497312\n",
            "  (4759, 8902)\t0.3040290704566037\n",
            "  (4759, 14062)\t0.3237911628497312\n",
            "  (4759, 3058)\t0.2812896191863103\n",
            "  (4759, 7130)\t0.26419662449963793\n",
            "  (4759, 10761)\t0.3126617295732147\n",
            "  (4759, 4358)\t0.18306542312175342\n",
            "  (4759, 14051)\t0.20084315377640435\n",
            "  (4759, 5690)\t0.19534291014627303\n",
            "  (4759, 15431)\t0.19628653185946862\n",
            "  (4759, 1490)\t0.21197258705292082\n",
            "  (4759, 10666)\t0.15888268987343043\n"
          ]
        }
      ]
    },
    {
      "cell_type": "markdown",
      "source": [
        "# **Get Similarity Score using Cosine Similarity**"
      ],
      "metadata": {
        "id": "YGGM1pP3Eg8k"
      }
    },
    {
      "cell_type": "code",
      "source": [
        "from sklearn.metrics.pairwise import cosine_similarity"
      ],
      "metadata": {
        "id": "huH74d31NN11"
      },
      "execution_count": null,
      "outputs": []
    },
    {
      "cell_type": "code",
      "source": [
        "Similarity_Score = cosine_similarity(x)"
      ],
      "metadata": {
        "id": "WAM29AyENf6E"
      },
      "execution_count": null,
      "outputs": []
    },
    {
      "cell_type": "code",
      "source": [
        "Similarity_Score"
      ],
      "metadata": {
        "colab": {
          "base_uri": "https://localhost:8080/"
        },
        "id": "yhx934BzNwhV",
        "outputId": "86d77ec9-022a-470d-e8d2-508fdfb4eea0"
      },
      "execution_count": null,
      "outputs": [
        {
          "output_type": "execute_result",
          "data": {
            "text/plain": [
              "array([[1.        , 0.01351235, 0.03570468, ..., 0.        , 0.        ,\n",
              "        0.        ],\n",
              "       [0.01351235, 1.        , 0.00806674, ..., 0.        , 0.        ,\n",
              "        0.        ],\n",
              "       [0.03570468, 0.00806674, 1.        , ..., 0.        , 0.08014876,\n",
              "        0.        ],\n",
              "       ...,\n",
              "       [0.        , 0.        , 0.        , ..., 1.        , 0.        ,\n",
              "        0.        ],\n",
              "       [0.        , 0.        , 0.08014876, ..., 0.        , 1.        ,\n",
              "        0.        ],\n",
              "       [0.        , 0.        , 0.        , ..., 0.        , 0.        ,\n",
              "        1.        ]])"
            ]
          },
          "metadata": {},
          "execution_count": 20
        }
      ]
    },
    {
      "cell_type": "code",
      "source": [
        "Similarity_Score.shape"
      ],
      "metadata": {
        "colab": {
          "base_uri": "https://localhost:8080/"
        },
        "id": "Y1ZoNFMoNyRl",
        "outputId": "e66dc1ad-9271-424c-c1bc-e1cfe4f2327c"
      },
      "execution_count": null,
      "outputs": [
        {
          "output_type": "execute_result",
          "data": {
            "text/plain": [
              "(4760, 4760)"
            ]
          },
          "metadata": {},
          "execution_count": 21
        }
      ]
    },
    {
      "cell_type": "markdown",
      "source": [
        "# **Get Movie Name as Input from User and Validate Closest Spelling**"
      ],
      "metadata": {
        "id": "8MGPuuqWEtvj"
      }
    },
    {
      "cell_type": "code",
      "source": [
        "Favourite_Movie_Name = input('Enter Your Favourite Movie Name:')"
      ],
      "metadata": {
        "colab": {
          "base_uri": "https://localhost:8080/"
        },
        "id": "LIb3gHRcN4DF",
        "outputId": "7ff678bb-6207-41e1-9de2-38a402d05ff0"
      },
      "execution_count": null,
      "outputs": [
        {
          "name": "stdout",
          "output_type": "stream",
          "text": [
            "Enter Your Favourite Movie Name:Iron Man 3\n"
          ]
        }
      ]
    },
    {
      "cell_type": "code",
      "source": [
        "All_Movies_Title_List = mov['Movie_Title'].tolist()"
      ],
      "metadata": {
        "id": "oBoNEtkQOEiU"
      },
      "execution_count": null,
      "outputs": []
    },
    {
      "cell_type": "code",
      "source": [
        "import difflib"
      ],
      "metadata": {
        "id": "8yCkdwAnOh_2"
      },
      "execution_count": null,
      "outputs": []
    },
    {
      "cell_type": "code",
      "source": [
        "Movie_Recommendation = difflib.get_close_matches(Favourite_Movie_Name, All_Movies_Title_List)"
      ],
      "metadata": {
        "id": "_e5xmvl_OmmV"
      },
      "execution_count": null,
      "outputs": []
    },
    {
      "cell_type": "code",
      "source": [
        "print(Movie_Recommendation)"
      ],
      "metadata": {
        "colab": {
          "base_uri": "https://localhost:8080/"
        },
        "id": "n978FcpsO3xk",
        "outputId": "ee564da8-1387-4968-9ace-69ba832864b6"
      },
      "execution_count": null,
      "outputs": [
        {
          "output_type": "stream",
          "name": "stdout",
          "text": [
            "['Iron Man 3', 'Iron Man 2', 'Iron Man']\n"
          ]
        }
      ]
    },
    {
      "cell_type": "code",
      "source": [
        "Close_Match = Movie_Recommendation[0]\n",
        "print(Close_Match)"
      ],
      "metadata": {
        "colab": {
          "base_uri": "https://localhost:8080/"
        },
        "id": "i9Wt82koO7IO",
        "outputId": "74735656-14f8-4f2e-f62a-1e3e52b72d99"
      },
      "execution_count": null,
      "outputs": [
        {
          "output_type": "stream",
          "name": "stdout",
          "text": [
            "Iron Man 3\n"
          ]
        }
      ]
    },
    {
      "cell_type": "code",
      "source": [
        "Index_of_Close_Match_Movie = mov[mov.Movie_Title == Close_Match]['Movie_ID'].values[0]"
      ],
      "metadata": {
        "id": "HAedqDLmPCnF"
      },
      "execution_count": null,
      "outputs": []
    },
    {
      "cell_type": "code",
      "source": [
        "Recommendation_Score = list(enumerate(Similarity_Score[Index_of_Close_Match_Movie]))\n",
        "print(Recommendation_Score)"
      ],
      "metadata": {
        "colab": {
          "base_uri": "https://localhost:8080/"
        },
        "id": "JyAv4FlyP5dh",
        "outputId": "886f99a7-8d1b-49e4-e027-4424a317eaf4"
      },
      "execution_count": null,
      "outputs": [
        {
          "output_type": "stream",
          "name": "stdout",
          "text": [
            "[(0, 0.017091993412892234), (1, 0.02520892066809871), (2, 0.0), (3, 0.0), (4, 0.0), (5, 0.007383201677714788), (6, 0.030366100236839128), (7, 0.012172545685827589), (8, 0.0), (9, 0.017249233426560023), (10, 0.005183914435766654), (11, 0.007622919108179723), (12, 0.0), (13, 0.0), (14, 0.0), (15, 0.015629363921579476), (16, 0.0), (17, 0.03993349762607065), (18, 0.0), (19, 0.028725472872995476), (20, 0.0), (21, 0.0), (22, 0.016824890844146304), (23, 0.0), (24, 0.0), (25, 0.006089259109740599), (26, 0.0), (27, 0.04518018847329852), (28, 0.04079000253541935), (29, 0.0), (30, 0.0), (31, 0.015936148662497367), (32, 0.00989045597026908), (33, 0.0), (34, 0.0), (35, 0.010406853372145645), (36, 0.016167901266641693), (37, 0.010295846787836252), (38, 0.005559111288242608), (39, 0.052220374513091875), (40, 0.0054566912808302675), (41, 0.012549676427562897), (42, 0.0075296117889627635), (43, 0.0), (44, 0.023847497044951114), (45, 0.029155613483524467), (46, 0.047823154502716674), (47, 0.06021314034542931), (48, 0.005359877381611218), (49, 0.007135231037433525), (50, 0.0), (51, 0.0), (52, 0.007038467329937224), (53, 0.00607778435526101), (54, 0.01892945043394758), (55, 0.011784699888933322), (56, 0.011482975505571763), (57, 0.022905053736300748), (58, 0.011550365243935453), (59, 0.011620019210846162), (60, 0.020345206676449363), (61, 0.0), (62, 0.0), (63, 0.008976079835230983), (64, 0.020357379217439804), (65, 0.029524390532235684), (66, 0.007346939831737812), (67, 0.02559260646652214), (68, 0.0051589818178356265), (69, 0.05444129199394995), (70, 0.0), (71, 0.0), (72, 0.0), (73, 0.06044609511247606), (74, 0.018021473142314087), (75, 0.025802205964653647), (76, 0.023801624631733402), (77, 0.012770856222441583), (78, 0.029115485976727987), (79, 0.023285958121840603), (80, 0.025860089331778434), (81, 0.0), (82, 0.0180483247465979), (83, 0.0), (84, 0.02135393576471456), (85, 0.0), (86, 0.0), (87, 0.0), (88, 0.02061930469619863), (89, 0.022702549138842336), (90, 0.027598665765368922), (91, 0.020679463556612647), (92, 0.004280891011231847), (93, 0.027031912122250673), (94, 0.025918061349634345), (95, 0.029032101618752873), (96, 0.0), (97, 0.0), (98, 0.0), (99, 0.0), (100, 0.0), (101, 0.019616780561535034), (102, 0.023826936187327445), (103, 0.0), (104, 0.0), (105, 0.007300685401684431), (106, 0.022108362312596122), (107, 0.0), (108, 0.0), (109, 0.0), (110, 0.0), (111, 0.006838238490900426), (112, 0.0), (113, 0.0), (114, 0.0), (115, 0.015054174772727007), (116, 0.0), (117, 0.0), (118, 0.01157233866179721), (119, 0.011065104539649265), (120, 0.0), (121, 0.0), (122, 0.004481020673730202), (123, 0.005322064110887523), (124, 0.006721697072966844), (125, 0.005568859157432779), (126, 0.0), (127, 0.0), (128, 0.04653169979306503), (129, 0.0), (130, 0.01606175498488653), (131, 0.007458025604847789), (132, 0.0), (133, 0.0), (134, 0.0), (135, 0.056687603829713946), (136, 0.0), (137, 0.007578856413946112), (138, 0.0), (139, 0.005457784160732947), (140, 0.0), (141, 0.025515628115604906), (142, 0.0), (143, 0.05285021864210322), (144, 0.004622744764312854), (145, 0.0), (146, 0.0), (147, 0.04019566084897372), (148, 0.004414299546330519), (149, 0.0), (150, 0.029144470104611468), (151, 0.0291545631487655), (152, 0.02740818308744751), (153, 0.013255657414570582), (154, 0.0), (155, 0.01647932799839053), (156, 0.0), (157, 0.0), (158, 0.0), (159, 0.003807149761809318), (160, 0.01999029160104145), (161, 0.006616724229114091), (162, 0.00534278937924019), (163, 0.0), (164, 0.0), (165, 0.009749716686230727), (166, 0.0), (167, 0.0), (168, 0.0), (169, 0.0), (170, 0.004407462478421079), (171, 0.048841331195226045), (172, 0.0), (173, 0.0), (174, 0.0), (175, 0.0), (176, 0.0), (177, 0.0), (178, 0.0), (179, 0.006165087240535624), (180, 0.0051981462748315315), (181, 0.004832053424028879), (182, 0.006465082219220866), (183, 0.0), (184, 0.0), (185, 0.00606373608412403), (186, 0.0), (187, 0.01486314257771535), (188, 0.0), (189, 0.029226316510117187), (190, 0.029357790351556057), (191, 0.04675318899735449), (192, 0.0), (193, 0.032204298432701284), (194, 0.0), (195, 0.012374819106436506), (196, 0.01236610870839968), (197, 0.0), (198, 0.0), (199, 0.06185530868612865), (200, 0.0), (201, 0.01176707712202529), (202, 0.004830281836097759), (203, 0.0), (204, 0.06397201373055593), (205, 0.007794827778186507), (206, 0.0), (207, 0.026864045481186864), (208, 0.011973829128168224), (209, 0.0), (210, 0.005242637930401295), (211, 0.0), (212, 0.0), (213, 0.0), (214, 0.0), (215, 0.007231931718349478), (216, 0.0), (217, 0.004741292159727633), (218, 0.0058556283587699685), (219, 0.006525894357344276), (220, 0.023057288720915396), (221, 0.0), (222, 0.0), (223, 0.004684205334435375), (224, 0.0), (225, 0.0), (226, 0.0), (227, 0.007867128200433416), (228, 0.051377013153178844), (229, 0.0), (230, 0.004737224462470191), (231, 0.011826788605014035), (232, 0.012143143158552349), (233, 0.004801026152000321), (234, 0.024290292486335914), (235, 0.05229081895965539), (236, 0.0), (237, 0.011175553112126051), (238, 0.0), (239, 0.00680324665293766), (240, 0.006813632948543274), (241, 0.006398180776221571), (242, 0.01192665263634463), (243, 0.005182578929299861), (244, 0.00475872173512176), (245, 0.07464793718439802), (246, 0.0), (247, 0.012683561632765487), (248, 0.04583428609425944), (249, 0.01936746593914836), (250, 0.025846432894966728), (251, 0.0), (252, 0.020690842293919494), (253, 0.0), (254, 0.0), (255, 0.0), (256, 0.0), (257, 0.020394348373606378), (258, 0.02841579896360074), (259, 0.02900356358237619), (260, 0.026769479680728247), (261, 0.027230010016409026), (262, 0.0), (263, 0.026708368248743335), (264, 0.028262073360571408), (265, 0.0), (266, 0.0037428525199256933), (267, 0.0), (268, 0.020718998088991632), (269, 0.004174013175304428), (270, 0.007698732128640305), (271, 0.003728001859542068), (272, 0.0), (273, 0.0), (274, 0.0), (275, 0.0), (276, 0.0), (277, 0.03252837976091674), (278, 0.0), (279, 0.0), (280, 0.0), (281, 0.0), (282, 0.0), (283, 0.01709401823549687), (284, 0.0188359345461857), (285, 0.0), (286, 0.0055039211048211675), (287, 0.0), (288, 0.0158295377713297), (289, 0.009052018682425254), (290, 0.009203336824659718), (291, 0.0), (292, 0.010942449999334854), (293, 0.0), (294, 0.014841315912968125), (295, 0.009197661795418494), (296, 0.003645789302791671), (297, 0.006785627620822236), (298, 0.0067000598320428465), (299, 0.006412902451057951), (300, 0.006110574441136715), (301, 0.006784732328646024), (302, 0.013381186563892145), (303, 0.02366610354947276), (304, 0.0), (305, 0.032605578697458656), (306, 0.017173783239977366), (307, 0.01589418873732262), (308, 0.0), (309, 0.005854973752129978), (310, 0.010836052027138051), (311, 0.0), (312, 0.0), (313, 0.0), (314, 0.0298295340034838), (315, 0.018696998048671382), (316, 0.01045274166749174), (317, 0.006445723951692649), (318, 0.0), (319, 0.003985761558251997), (320, 0.011823730893452587), (321, 0.018091805195291657), (322, 0.018354722413182825), (323, 0.010088563066591753), (324, 0.006784787845317727), (325, 0.0069561832242563066), (326, 0.0), (327, 0.010117345791120173), (328, 0.004724407374122478), (329, 0.0), (330, 0.005086359699479277), (331, 0.0), (332, 0.0036423260571439593), (333, 0.0259466734234531), (334, 0.011001000843257433), (335, 0.0), (336, 0.004599993189793257), (337, 0.0), (338, 0.006716080805604378), (339, 0.0), (340, 0.006891368502250026), (341, 0.0), (342, 0.0), (343, 0.0), (344, 0.0), (345, 0.0062163241024106265), (346, 0.0), (347, 0.017002233200799476), (348, 0.0), (349, 0.0), (350, 0.005295716498244069), (351, 0.0), (352, 0.0), (353, 0.05965422483473218), (354, 0.0), (355, 0.0), (356, 0.0), (357, 0.01270468287597244), (358, 0.0), (359, 0.0), (360, 0.006984941501125701), (361, 0.006808500178448232), (362, 0.0070815344679976576), (363, 0.007008665527036306), (364, 0.03996699248794206), (365, 0.03277265852140879), (366, 0.006003183135521295), (367, 0.016232780395667164), (368, 0.028038481507153185), (369, 0.012968320230669635), (370, 0.0230605505936828), (371, 0.0), (372, 0.0), (373, 0.0), (374, 0.0), (375, 0.021553668110819556), (376, 0.01471943094745081), (377, 0.02379880508170586), (378, 0.04034705432340702), (379, 0.05022523016859271), (380, 0.04400350928017793), (381, 0.005238614753279426), (382, 0.010373468909374118), (383, 0.0), (384, 0.0078115418652617615), (385, 0.008149006181460156), (386, 0.0050652433898651225), (387, 0.0), (388, 0.0), (389, 0.01686956986728761), (390, 0.027164093510422208), (391, 0.0), (392, 0.0), (393, 0.0), (394, 0.04213663112288214), (395, 0.0), (396, 0.020525159276821615), (397, 0.0258051556354423), (398, 0.0), (399, 0.0), (400, 0.0), (401, 0.006500618617669891), (402, 0.0), (403, 0.0), (404, 0.0), (405, 0.026057351734472628), (406, 0.0), (407, 0.0), (408, 0.0), (409, 0.005905069730910733), (410, 0.04820857166043005), (411, 0.004464907637677796), (412, 0.019430647930272747), (413, 0.018094153321697903), (414, 0.019760793303189986), (415, 0.027794205001014042), (416, 0.0), (417, 0.010476145379665812), (418, 0.017075106670045574), (419, 0.007223781760561632), (420, 0.0), (421, 0.004960462495531901), (422, 0.0), (423, 0.0), (424, 0.012805842484129993), (425, 0.012794731991497915), (426, 0.010549099626075198), (427, 0.0162532122988951), (428, 0.005790724432124316), (429, 0.0), (430, 0.018238215282102097), (431, 0.0), (432, 0.0), (433, 0.006021497756666533), (434, 0.0), (435, 0.003944433716551462), (436, 0.0), (437, 0.0), (438, 0.03031304277460119), (439, 0.024163111540374538), (440, 0.017668968379372582), (441, 0.0), (442, 0.004033456955219064), (443, 0.0), (444, 0.0), (445, 0.006301784156703388), (446, 0.0), (447, 0.007643757600076548), (448, 0.0), (449, 0.019317215453451584), (450, 0.0), (451, 0.012278542130440797), (452, 0.00849451335503159), (453, 0.082566603109574), (454, 0.0), (455, 0.0), (456, 0.0077991945374964195), (457, 0.00588677659536813), (458, 0.005427763238965289), (459, 0.0), (460, 0.03998825254915177), (461, 0.007595484769165984), (462, 0.0), (463, 0.006822238740924633), (464, 0.007276283641986959), (465, 0.0), (466, 0.028394086578104376), (467, 0.011117725877041077), (468, 0.010553889575499513), (469, 0.015404075680621684), (470, 0.005130440673921005), (471, 0.0), (472, 0.03162642823604758), (473, 0.0), (474, 0.0), (475, 0.015440603012069934), (476, 0.0), (477, 0.01411269827323743), (478, 0.02614099374404299), (479, 0.0), (480, 0.09820441815001801), (481, 0.0), (482, 0.0), (483, 0.0), (484, 0.006484748014038719), (485, 0.007888741176350307), (486, 0.007069213253964961), (487, 0.0), (488, 0.0), (489, 0.0), (490, 0.0), (491, 0.032994752135585434), (492, 0.18958974513872556), (493, 0.0), (494, 0.0048867636172188565), (495, 0.023193530242276487), (496, 0.009628906527766153), (497, 0.04412259230652638), (498, 0.010752193642677536), (499, 0.0), (500, 0.004743111230551925), (501, 0.016737944872088743), (502, 0.0), (503, 0.022468903239811964), (504, 0.0), (505, 0.0), (506, 0.02523924221557092), (507, 0.0), (508, 0.0), (509, 0.017377286138423972), (510, 0.005884170046278246), (511, 0.022136539081216117), (512, 0.005781649728383347), (513, 0.0052879274120388895), (514, 0.005275270570658864), (515, 0.004384739206909102), (516, 0.04372113842680251), (517, 0.05123853670925499), (518, 0.0), (519, 0.009958204716043648), (520, 0.026729257365671145), (521, 0.0), (522, 0.0), (523, 0.0), (524, 0.0), (525, 0.0), (526, 0.0), (527, 0.0), (528, 0.018979339605881947), (529, 0.0), (530, 0.0), (531, 0.0), (532, 0.004517029877598265), (533, 0.08177144428864036), (534, 0.004804422850726058), (535, 0.007263428758679462), (536, 0.0), (537, 0.05504550837036059), (538, 0.0), (539, 0.011036455223403987), (540, 0.010409192286133899), (541, 0.0), (542, 0.008573248632455907), (543, 0.0), (544, 0.0), (545, 0.026986499198924516), (546, 0.022537550665550535), (547, 0.0), (548, 0.010576228917684309), (549, 0.0), (550, 0.012457508303742777), (551, 0.0), (552, 0.0836976790337431), (553, 0.03616571834214655), (554, 0.040687490259443626), (555, 0.04843694261618532), (556, 0.0071158159192141555), (557, 0.0), (558, 0.0), (559, 0.0), (560, 0.004879145152011247), (561, 0.036358106295512754), (562, 0.0), (563, 0.01327567606420629), (564, 0.0), (565, 0.026360692089007896), (566, 0.0), (567, 0.02752217155783621), (568, 0.01046035531921957), (569, 0.017078936973800234), (570, 0.015404661778901065), (571, 0.016468030271480368), (572, 0.028933079925612646), (573, 0.0), (574, 0.0), (575, 0.0), (576, 0.0), (577, 0.006592918637114037), (578, 0.0069475578529514725), (579, 0.02354839275836054), (580, 0.0), (581, 0.0), (582, 0.0), (583, 0.028234630607876565), (584, 0.0), (585, 0.0), (586, 0.006681229624138231), (587, 0.026156860000673503), (588, 0.0), (589, 0.0), (590, 0.021920552443833074), (591, 0.0309945689371416), (592, 0.011455089086259185), (593, 0.0), (594, 0.06636724143402688), (595, 0.06459778483337783), (596, 0.0), (597, 0.0), (598, 0.0), (599, 0.03643972614659609), (600, 0.029697628049345927), (601, 0.02407671299141903), (602, 0.023043305153157063), (603, 0.030018848773577092), (604, 0.062389575511201306), (605, 0.0), (606, 0.017497657472906544), (607, 0.0), (608, 0.005814054314178845), (609, 0.005840711405194628), (610, 0.011213565819965226), (611, 0.0), (612, 0.007815685175434153), (613, 0.027818934326715023), (614, 0.05521499736618604), (615, 0.011683078171934279), (616, 0.0), (617, 0.0), (618, 0.0), (619, 0.021708212358768145), (620, 0.0), (621, 0.010344032605257132), (622, 0.015644011975310457), (623, 0.0), (624, 0.0), (625, 0.014582039817012107), (626, 0.0), (627, 0.008685003695047244), (628, 0.0), (629, 0.0), (630, 0.0), (631, 0.011596295522161237), (632, 0.004396422186491296), (633, 0.0), (634, 0.0), (635, 0.012313475907713731), (636, 0.0), (637, 0.007622947958872666), (638, 0.0067846256735653605), (639, 0.009523660011271596), (640, 0.015604282925929778), (641, 0.004593008654888378), (642, 0.0063584237127010355), (643, 0.0), (644, 0.004621003941194635), (645, 0.02498530073852675), (646, 0.0), (647, 0.0), (648, 0.02222720132015903), (649, 0.0), (650, 0.006005255217605462), (651, 0.0046963739942387), (652, 0.0), (653, 0.004232317327816769), (654, 0.005126956573905267), (655, 0.0068741893080407936), (656, 0.030646207496495177), (657, 0.0), (658, 0.014950155624888089), (659, 0.006856988065105499), (660, 0.0), (661, 0.01659698313694712), (662, 0.007137267895135888), (663, 0.01883289621963747), (664, 0.0), (665, 0.007377730895110737), (666, 0.03175908340661822), (667, 0.0), (668, 0.003848440511314238), (669, 0.004475826755444181), (670, 0.005994862584900766), (671, 0.0), (672, 0.008675241485041845), (673, 0.005308370113020622), (674, 0.04793636072846167), (675, 0.0), (676, 0.0), (677, 0.007029158645451547), (678, 0.0), (679, 0.008483727696169436), (680, 0.0), (681, 0.03921449518701125), (682, 0.005470891238897603), (683, 0.005491588460978604), (684, 0.0035694540979894092), (685, 0.0), (686, 0.025816367491023638), (687, 0.010793826665930767), (688, 0.013543302834985508), (689, 0.007320924043095272), (690, 0.011374900176459864), (691, 0.0), (692, 0.009747838714438779), (693, 0.0), (694, 0.0), (695, 0.0), (696, 0.0074095584920078365), (697, 0.0), (698, 0.0), (699, 0.005767959374168019), (700, 0.06614219306637857), (701, 0.0), (702, 0.08809580428765759), (703, 0.0), (704, 0.023094895316769493), (705, 0.0), (706, 0.0), (707, 0.0), (708, 0.0), (709, 0.012328278595523297), (710, 0.0068386623788788126), (711, 0.0), (712, 0.006503658992109266), (713, 0.019221206867044163), (714, 0.011411781274685947), (715, 0.06505275243093306), (716, 0.011826915813424266), (717, 0.0), (718, 0.0), (719, 0.009821892889690185), (720, 0.00616874385706764), (721, 0.0), (722, 0.0), (723, 0.004117971830567424), (724, 0.006369708944481752), (725, 0.009594276303042902), (726, 0.08269714642198613), (727, 0.004779213624314401), (728, 0.005246611061436451), (729, 0.005424392028103454), (730, 0.0), (731, 0.0), (732, 0.0), (733, 0.038451661442924535), (734, 0.0), (735, 0.0), (736, 0.02325284021728631), (737, 0.0), (738, 0.016135773415420843), (739, 0.0), (740, 0.004938259610657216), (741, 0.0), (742, 0.0), (743, 0.007564407858189052), (744, 0.0), (745, 0.021597046102732463), (746, 0.0), (747, 0.041340287743971506), (748, 0.0), (749, 0.02866533514464302), (750, 0.017263003379859396), (751, 0.02818733665815577), (752, 0.0), (753, 0.014172101274510152), (754, 0.0), (755, 0.0), (756, 0.03041538772193002), (757, 0.0), (758, 0.0), (759, 0.0), (760, 0.0), (761, 0.0), (762, 0.03635639665419306), (763, 0.03959813975871063), (764, 0.0), (765, 0.0), (766, 0.0), (767, 0.0069829552911123355), (768, 0.0), (769, 0.016723031785763207), (770, 0.0), (771, 0.0), (772, 0.0), (773, 0.0), (774, 0.0), (775, 0.004906885002943186), (776, 0.015465722627303242), (777, 0.0), (778, 0.017438310631890122), (779, 0.022415913705231674), (780, 0.0), (781, 0.015504830255996511), (782, 0.0), (783, 0.0), (784, 0.0), (785, 0.0073656610030131), (786, 0.006165484745735641), (787, 0.07040651857352738), (788, 0.04331545405765752), (789, 0.0), (790, 0.0), (791, 0.0), (792, 0.025299357211517878), (793, 0.011712992026065386), (794, 0.0), (795, 0.005749461313847786), (796, 0.0), (797, 0.007682563111051234), (798, 0.0), (799, 0.0), (800, 0.004372312086183887), (801, 0.006743105785612497), (802, 0.026595463525966992), (803, 0.004347694672601986), (804, 0.0043751786438814), (805, 0.0), (806, 0.007596684815690853), (807, 0.005844664456429419), (808, 0.0), (809, 0.03626443556147074), (810, 0.006877588475910546), (811, 0.0), (812, 0.016021973468119226), (813, 0.0), (814, 0.007561828373407397), (815, 0.019081906069221187), (816, 0.0), (817, 0.06564756683320919), (818, 0.0), (819, 0.0), (820, 0.006502519753840649), (821, 0.010329149641962656), (822, 0.08548665136910354), (823, 0.0), (824, 0.005126167820278648), (825, 0.004717851912496403), (826, 0.012028284251332361), (827, 0.0115982127035555), (828, 0.0), (829, 0.0067623008611340995), (830, 0.0), (831, 0.0), (832, 0.0), (833, 0.0), (834, 0.0), (835, 0.0), (836, 0.0), (837, 0.017857157427587887), (838, 0.0), (839, 0.06086533813345386), (840, 0.045674281113150354), (841, 0.05915317786512656), (842, 0.01973861436221086), (843, 0.0), (844, 0.0), (845, 0.012799211789148654), (846, 0.007537648398764461), (847, 0.0), (848, 0.004905792248677307), (849, 0.01127093188472747), (850, 0.0), (851, 0.004261420379128624), (852, 0.006135416086179789), (853, 0.02789737114950555), (854, 0.011667668764143959), (855, 0.0), (856, 0.014409318407951172), (857, 0.0), (858, 0.0), (859, 0.006958349009997741), (860, 0.0), (861, 0.0), (862, 0.0), (863, 0.0), (864, 0.0), (865, 0.007558571242616455), (866, 0.00452218450718984), (867, 0.0), (868, 0.004516437516086049), (869, 0.004987476961720208), (870, 0.0), (871, 0.006590201445225388), (872, 0.0737410451717295), (873, 0.0), (874, 0.04696200027786275), (875, 0.012378542150785748), (876, 0.0), (877, 0.013550858006540937), (878, 0.026410846205833914), (879, 0.0), (880, 0.0), (881, 0.0), (882, 0.0056855378377065145), (883, 0.0), (884, 0.0), (885, 0.0), (886, 0.021778397465586335), (887, 0.0), (888, 0.0), (889, 0.06933145155679216), (890, 0.0), (891, 0.03072740774529869), (892, 0.006377242602041611), (893, 0.0), (894, 0.007292147625342758), (895, 0.006858220452611957), (896, 0.008041681451534223), (897, 0.0), (898, 0.006631351805492051), (899, 0.0), (900, 0.0), (901, 0.0), (902, 0.06477980779539573), (903, 0.02189578735812685), (904, 0.005726172260312432), (905, 0.005627103542535721), (906, 0.0), (907, 0.0), (908, 0.012489686588139853), (909, 0.006482607401835555), (910, 0.0), (911, 0.010684944366978288), (912, 0.021373249237813984), (913, 0.044491593145833945), (914, 0.007941494888447186), (915, 0.010852674823025965), (916, 0.0), (917, 0.0), (918, 0.05766255019247456), (919, 0.011461441841376357), (920, 0.012645891249867723), (921, 0.005969347168385058), (922, 0.0), (923, 0.0), (924, 0.0), (925, 0.0), (926, 0.01074404920748796), (927, 0.0), (928, 0.005076290283756237), (929, 0.008819211955722066), (930, 0.0), (931, 0.0), (932, 0.05776393308547083), (933, 0.0), (934, 0.0), (935, 0.005965772234147758), (936, 0.005771061017299937), (937, 0.0), (938, 0.007378749874007186), (939, 0.0069432746174875335), (940, 0.0), (941, 0.0), (942, 0.0), (943, 0.0), (944, 0.0), (945, 0.011420051543811309), (946, 0.018548839680731947), (947, 0.006561783130636055), (948, 0.006124915579583039), (949, 0.0), (950, 0.0), (951, 0.005414569045956564), (952, 0.018317192887991746), (953, 0.005926992457777882), (954, 0.02916927233046561), (955, 0.0), (956, 0.020422038988338363), (957, 0.0), (958, 0.0), (959, 0.0), (960, 0.0), (961, 0.0), (962, 0.0), (963, 0.0895648059492591), (964, 0.0), (965, 0.011253707802641637), (966, 0.010648776468217517), (967, 0.0), (968, 0.0), (969, 0.02371059288379252), (970, 0.0), (971, 0.007577045920997119), (972, 0.0), (973, 0.0), (974, 0.0045537299137096), (975, 0.0), (976, 0.0), (977, 0.16239456273812877), (978, 0.006808841504455062), (979, 0.0), (980, 0.0), (981, 0.026261610836851128), (982, 0.0), (983, 0.0), (984, 0.007002110715049602), (985, 0.0), (986, 0.0048607205924979715), (987, 0.007635243738348837), (988, 0.0), (989, 0.0), (990, 0.019435330615810223), (991, 0.0), (992, 0.07433400085981086), (993, 0.0), (994, 0.004943438947198903), (995, 0.02092394308076139), (996, 0.00686417515117863), (997, 0.019614538230316936), (998, 0.0), (999, 0.0), (1000, 0.0043752645049397855), (1001, 0.010749154590509487), (1002, 0.0), (1003, 0.01732010899473027), (1004, 0.02131774750086805), (1005, 0.003718117233625704), (1006, 0.0), (1007, 0.018625600176010233), (1008, 0.0), (1009, 0.0065304016019074665), (1010, 0.004114292101089008), (1011, 0.09157485363844706), (1012, 0.011172738467133871), (1013, 0.024681707546174013), (1014, 0.025267473227270222), (1015, 0.0052583174820520885), (1016, 0.0057612654891868904), (1017, 0.00472813338380988), (1018, 0.0), (1019, 0.0), (1020, 0.0), (1021, 0.0), (1022, 0.023251958471572878), (1023, 0.00546795768275559), (1024, 0.005066464086982342), (1025, 0.0), (1026, 0.007223453279653733), (1027, 0.0), (1028, 0.0), (1029, 0.0), (1030, 0.0), (1031, 0.04459607234787318), (1032, 0.0), (1033, 0.0), (1034, 0.007049590187424108), (1035, 0.011876996540128238), (1036, 0.0069427973503943625), (1037, 0.0), (1038, 0.0), (1039, 0.048975952210494826), (1040, 0.0), (1041, 0.07058725507414873), (1042, 0.006148038571905263), (1043, 0.0), (1044, 0.011843326897608352), (1045, 0.01156486558097883), (1046, 0.01852399309080935), (1047, 0.0), (1048, 0.0), (1049, 0.0), (1050, 0.005464192370267206), (1051, 0.007844196073784452), (1052, 0.0), (1053, 0.0), (1054, 0.004593317716861803), (1055, 0.015472425354068934), (1056, 0.023728776699217476), (1057, 0.11151197361980487), (1058, 0.0), (1059, 0.0), (1060, 0.0), (1061, 0.006627140444158331), (1062, 0.012310190262119873), (1063, 0.010897169013683868), (1064, 0.0), (1065, 0.004446070417125555), (1066, 0.03863078631501161), (1067, 0.006117373031736891), (1068, 0.0), (1069, 0.0500319428697551), (1070, 0.0), (1071, 0.0), (1072, 0.0), (1073, 0.0), (1074, 0.021876281155071682), (1075, 0.0), (1076, 0.011784895463200367), (1077, 0.0), (1078, 0.0), (1079, 0.019437021764290047), (1080, 0.0), (1081, 0.0), (1082, 0.041194474067332516), (1083, 0.03985344690214939), (1084, 0.007213113292451699), (1085, 0.006538720700772042), (1086, 0.0068755377666439655), (1087, 0.006520742874200031), (1088, 0.0), (1089, 0.0), (1090, 0.012085120474359976), (1091, 0.030898107832167034), (1092, 0.004054521501936905), (1093, 0.0), (1094, 0.0), (1095, 0.03639796145276818), (1096, 0.004732426686668106), (1097, 0.016617960905607264), (1098, 0.0), (1099, 0.011959300220391326), (1100, 0.0), (1101, 0.017223379329162226), (1102, 0.04722438156075536), (1103, 0.0), (1104, 0.0), (1105, 0.0), (1106, 0.0), (1107, 0.0), (1108, 0.02879723794469828), (1109, 0.0), (1110, 0.022703818656626545), (1111, 0.028840897250640547), (1112, 0.0), (1113, 0.010887710447079948), (1114, 0.005907640091245689), (1115, 0.05234959132813565), (1116, 0.0077985154603656525), (1117, 0.0), (1118, 0.013235635833844177), (1119, 0.007859412046832038), (1120, 0.05405709927048159), (1121, 0.0), (1122, 0.012446896016552208), (1123, 0.0), (1124, 0.0), (1125, 0.04272073364095931), (1126, 0.006333493875817775), (1127, 0.004787801019983038), (1128, 0.0), (1129, 0.02181752492611956), (1130, 0.0072132842707241995), (1131, 0.0), (1132, 0.0), (1133, 0.0), (1134, 0.025440214661073792), (1135, 0.010465985887177568), (1136, 0.0), (1137, 0.05682641083093308), (1138, 0.004920714676870252), (1139, 0.0), (1140, 0.026025196119871953), (1141, 0.005198484807029114), (1142, 0.0), (1143, 0.0), (1144, 0.0), (1145, 0.0), (1146, 0.01638400499730724), (1147, 0.0), (1148, 0.0), (1149, 0.0), (1150, 0.03044123268331392), (1151, 0.02829993456897513), (1152, 0.02204986092981), (1153, 0.003410644834674669), (1154, 0.026991002271479533), (1155, 0.023956257823749903), (1156, 0.0), (1157, 0.006754228315047339), (1158, 0.0), (1159, 0.0), (1160, 0.0), (1161, 0.020850342071007808), (1162, 0.005307036190111049), (1163, 0.0), (1164, 0.01773367566442439), (1165, 0.031280242930645935), (1166, 0.0), (1167, 0.0), (1168, 0.0), (1169, 0.0), (1170, 0.0), (1171, 0.015349251047308544), (1172, 0.004870345561449735), (1173, 0.010206519986227881), (1174, 0.004972912686270153), (1175, 0.0064729445363072655), (1176, 0.0), (1177, 0.0), (1178, 0.0), (1179, 0.03263272717976133), (1180, 0.006856703062390918), (1181, 0.020109121806793133), (1182, 0.0), (1183, 0.004515163925567582), (1184, 0.0), (1185, 0.011882301550341286), (1186, 0.006463667931328189), (1187, 0.0), (1188, 0.0), (1189, 0.0), (1190, 0.0), (1191, 0.007390330895039039), (1192, 0.0), (1193, 0.0), (1194, 0.005603870155591882), (1195, 0.04815585308836702), (1196, 0.0), (1197, 0.006768283708998662), (1198, 0.006348942482074539), (1199, 0.0), (1200, 0.0), (1201, 0.0), (1202, 0.0), (1203, 0.0), (1204, 0.0), (1205, 0.018029618397342358), (1206, 0.011991678191120764), (1207, 0.017807318965903516), (1208, 0.0), (1209, 0.0), (1210, 0.023732469837714834), (1211, 0.0), (1212, 0.036184854145467814), (1213, 0.0), (1214, 0.00407891854530564), (1215, 0.024583423479434496), (1216, 0.0), (1217, 0.04033507674947439), (1218, 0.0), (1219, 0.012357823724160291), (1220, 0.02375054569212252), (1221, 0.01757241197274484), (1222, 0.019937968138745658), (1223, 0.007389771384789844), (1224, 0.0), (1225, 0.019663785457940675), (1226, 0.004815458465310546), (1227, 0.0), (1228, 0.006882825665948), (1229, 0.012763602098429413), (1230, 0.020933349094343898), (1231, 0.006146168900755077), (1232, 0.0), (1233, 0.025467234798900205), (1234, 0.0), (1235, 0.0), (1236, 0.0), (1237, 0.0), (1238, 0.006370214416440983), (1239, 0.0), (1240, 0.012499531835063953), (1241, 0.023550969698864645), (1242, 0.0058675286790341495), (1243, 0.0), (1244, 0.01163343062114965), (1245, 0.016425252530720854), (1246, 0.0284275721363701), (1247, 0.06784605952755046), (1248, 0.0), (1249, 0.027454493859607788), (1250, 0.044091136021122884), (1251, 0.0), (1252, 0.0048195014004705624), (1253, 0.03074379031010284), (1254, 0.011559029584550913), (1255, 0.006994359346280555), (1256, 0.022949480060781985), (1257, 0.012047343750641596), (1258, 0.01364382882703477), (1259, 0.004446100566365194), (1260, 0.0), (1261, 0.0), (1262, 0.028148000186596203), (1263, 0.032184728881131504), (1264, 0.0), (1265, 0.023703435086624456), (1266, 0.01805001057179291), (1267, 0.0), (1268, 0.0), (1269, 0.04828020629051873), (1270, 0.028045083356137136), (1271, 0.0), (1272, 0.0063196430173291275), (1273, 0.033369188722655645), (1274, 0.05154587452738471), (1275, 0.0), (1276, 0.0036282831522875514), (1277, 0.0), (1278, 0.0), (1279, 0.006197756336189172), (1280, 0.03005338921920747), (1281, 0.02763889045332504), (1282, 0.0), (1283, 0.009918359892785472), (1284, 0.0071658668528239745), (1285, 0.020879974476198035), (1286, 0.0), (1287, 0.0061795496406522625), (1288, 0.005835800500657298), (1289, 0.0), (1290, 0.004309549303018299), (1291, 0.0), (1292, 0.004783556434573711), (1293, 0.06262073566503568), (1294, 0.0), (1295, 0.016778754159498966), (1296, 0.05807919550860678), (1297, 0.0), (1298, 0.0), (1299, 0.0), (1300, 0.006224520064851287), (1301, 0.009853339475643406), (1302, 0.0049337018501608735), (1303, 0.0), (1304, 0.007363744982146656), (1305, 0.0), (1306, 0.021465112777383017), (1307, 0.006035906408534417), (1308, 0.012638236607944484), (1309, 0.015952803736642793), (1310, 0.010179302250880732), (1311, 0.0), (1312, 0.006212183251858013), (1313, 0.0), (1314, 0.004785227874509228), (1315, 0.05304811529229838), (1316, 0.0), (1317, 0.0059643162543242), (1318, 0.006565106669982815), (1319, 0.0), (1320, 0.003818588603007031), (1321, 0.012980219882277343), (1322, 0.0), (1323, 0.0), (1324, 0.012030699352289079), (1325, 0.0), (1326, 0.009206904912804376), (1327, 0.026409896650109066), (1328, 0.011893467338315655), (1329, 0.0), (1330, 0.05049405835737275), (1331, 0.0), (1332, 0.005419807688790293), (1333, 0.006839766215907433), (1334, 0.02441522250640859), (1335, 0.01234746620766836), (1336, 0.0), (1337, 0.004964184208318644), (1338, 0.004784393498606283), (1339, 0.0), (1340, 0.0), (1341, 0.023164065135155367), (1342, 0.0), (1343, 0.0), (1344, 0.005952500936920799), (1345, 0.0), (1346, 0.011342803668829133), (1347, 0.0), (1348, 0.02495389830911743), (1349, 0.0), (1350, 0.01098611796822695), (1351, 0.0054287522933278345), (1352, 0.009580276395093932), (1353, 0.006844530644492708), (1354, 0.039617117150079796), (1355, 0.0), (1356, 0.057416891505495934), (1357, 0.011266589466392314), (1358, 0.06223826888661026), (1359, 0.0), (1360, 0.0), (1361, 0.01721250420815452), (1362, 0.0), (1363, 0.0), (1364, 0.0), (1365, 0.006216194371900562), (1366, 0.031008964388221233), (1367, 0.0), (1368, 0.01088181863778118), (1369, 0.003981394513023981), (1370, 0.0), (1371, 0.0), (1372, 0.0), (1373, 0.0062138127190282675), (1374, 0.01770509751956568), (1375, 0.0), (1376, 0.0), (1377, 0.0039239898733063215), (1378, 0.0), (1379, 0.022536460610426884), (1380, 0.011894542417493697), (1381, 0.032387800677776225), (1382, 0.007598217984595596), (1383, 0.0), (1384, 0.029890680266883286), (1385, 0.011292555616644443), (1386, 0.03821909357640889), (1387, 0.03767833508193274), (1388, 0.006441865512582135), (1389, 0.006754071624818691), (1390, 0.0), (1391, 0.02576906054113741), (1392, 0.0), (1393, 0.005107703507437797), (1394, 0.0), (1395, 0.0), (1396, 0.05057196345360991), (1397, 0.005546547217058936), (1398, 0.013056034791532492), (1399, 0.0), (1400, 0.0), (1401, 0.006772802530622319), (1402, 0.007719136617327763), (1403, 0.0), (1404, 0.0), (1405, 0.006471679146562264), (1406, 0.004754197421306861), (1407, 0.0), (1408, 0.012493444882024671), (1409, 0.0), (1410, 0.0), (1411, 0.007274199124728502), (1412, 0.017741547279561412), (1413, 0.1266678672849487), (1414, 0.0), (1415, 0.0), (1416, 0.007034554216055183), (1417, 0.003797152013056654), (1418, 0.008669262853969375), (1419, 0.004870230123878119), (1420, 0.0), (1421, 0.007096543641396946), (1422, 0.0), (1423, 0.0), (1424, 0.0), (1425, 0.007488582804749735), (1426, 0.0), (1427, 0.0), (1428, 0.03597684574999621), (1429, 0.0), (1430, 0.0), (1431, 0.0075378530626290085), (1432, 0.005067042393303681), (1433, 0.01576448797915432), (1434, 0.0), (1435, 0.007525935713730831), (1436, 0.011933298651097123), (1437, 0.06542572113796905), (1438, 0.0), (1439, 0.0), (1440, 0.01145248310015217), (1441, 0.0), (1442, 0.00481585568672447), (1443, 0.005018757427761774), (1444, 0.0), (1445, 0.0), (1446, 0.0), (1447, 0.0), (1448, 0.0), (1449, 0.0), (1450, 0.0), (1451, 0.0), (1452, 0.0), (1453, 0.0), (1454, 0.005342946057658786), (1455, 0.004858522811717502), (1456, 0.006832672671300316), (1457, 0.006855397295366226), (1458, 0.009545715264996008), (1459, 0.0381667369715118), (1460, 0.012485755380705718), (1461, 0.007443665788387376), (1462, 0.0), (1463, 0.007097458916002246), (1464, 0.0), (1465, 0.0), (1466, 0.04007475736883688), (1467, 0.07298078169030195), (1468, 0.06619854986683556), (1469, 0.022577901879922778), (1470, 0.011673983977000067), (1471, 0.0036072737360013894), (1472, 0.007446882783545638), (1473, 0.0), (1474, 0.00715289814346294), (1475, 0.006686413969088519), (1476, 0.007457985607447805), (1477, 0.01562924269019076), (1478, 0.004658164413791317), (1479, 0.0), (1480, 0.006842178000033715), (1481, 0.0), (1482, 0.006434392541773767), (1483, 0.004826703639012937), (1484, 0.0051455960663278665), (1485, 0.0), (1486, 0.024018291076036348), (1487, 0.0), (1488, 0.0), (1489, 0.008271630006190567), (1490, 0.006128245559152509), (1491, 0.0), (1492, 0.006370397818773588), (1493, 0.0), (1494, 0.0), (1495, 0.006525414964197019), (1496, 0.0), (1497, 0.0), (1498, 0.023745738056225422), (1499, 0.0), (1500, 0.0), (1501, 0.0), (1502, 0.04429371095980314), (1503, 0.04267837057019773), (1504, 0.004817844669397906), (1505, 0.0520221164159007), (1506, 0.005041113493309307), (1507, 0.0), (1508, 0.05305377026986956), (1509, 0.0), (1510, 0.004910823066540353), (1511, 0.005282206966257091), (1512, 0.004896119779788016), (1513, 0.005067294110549679), (1514, 0.005935892383069599), (1515, 0.02840712780210915), (1516, 0.005009695886515802), (1517, 0.0), (1518, 0.00792812920992716), (1519, 0.0), (1520, 0.0), (1521, 0.005539498189059847), (1522, 0.011389009261457767), (1523, 0.006288955064352833), (1524, 0.013483750889710948), (1525, 0.0), (1526, 0.0), (1527, 0.004760685365667493), (1528, 0.0), (1529, 0.03280043681744869), (1530, 0.02311322853154564), (1531, 0.0), (1532, 0.0), (1533, 0.0), (1534, 0.007661083443548354), (1535, 0.018339024934697367), (1536, 0.07869932051959802), (1537, 0.013089247355278041), (1538, 0.0), (1539, 0.0), (1540, 0.005682488331071623), (1541, 0.0), (1542, 0.0), (1543, 0.006782071885838261), (1544, 0.004669582019363397), (1545, 0.004664677217390625), (1546, 0.04874922472267676), (1547, 0.013135821272288102), (1548, 0.006157436531890305), (1549, 0.0), (1550, 0.022776127544877962), (1551, 0.0), (1552, 0.010783252033535723), (1553, 0.0), (1554, 0.061347300863828794), (1555, 0.0), (1556, 0.0), (1557, 0.03200333941929435), (1558, 0.0), (1559, 0.018485253258970165), (1560, 0.03513482745511706), (1561, 0.00707559832576026), (1562, 0.0), (1563, 0.0), (1564, 0.0049819949953218545), (1565, 0.0), (1566, 0.028245889789414474), (1567, 0.01021651382378969), (1568, 0.0), (1569, 0.0), (1570, 0.011861152128104156), (1571, 0.006086050919374671), (1572, 0.012000688137670776), (1573, 0.0), (1574, 0.0), (1575, 0.01814310744525664), (1576, 0.0038962844279164474), (1577, 0.011376827456648059), (1578, 0.0), (1579, 0.02652895689004582), (1580, 0.0), (1581, 0.02155032534145311), (1582, 0.0), (1583, 0.0), (1584, 0.015474796523243437), (1585, 0.0), (1586, 0.0), (1587, 0.04071510810956674), (1588, 0.02749508349325828), (1589, 0.007210854576785612), (1590, 0.022160690710774103), (1591, 0.005633736377669996), (1592, 0.04165107124931572), (1593, 0.06528611885787813), (1594, 0.0), (1595, 0.0), (1596, 0.0), (1597, 0.0070910636414915525), (1598, 0.006331484599111873), (1599, 0.004925135417063209), (1600, 0.013841975248446525), (1601, 0.0056931916591290155), (1602, 0.0), (1603, 0.011835785151405381), (1604, 0.011182221636441874), (1605, 0.021486786540161784), (1606, 0.021487225555968638), (1607, 0.006246105138517377), (1608, 0.035950394594968016), (1609, 0.0), (1610, 0.0068155104584476985), (1611, 0.011397846582072383), (1612, 0.0), (1613, 0.01762529630514837), (1614, 0.0), (1615, 0.007595483174934518), (1616, 0.0), (1617, 0.0), (1618, 0.022365466049625422), (1619, 0.0), (1620, 0.0), (1621, 0.0), (1622, 0.0), (1623, 0.0), (1624, 0.0), (1625, 0.0), (1626, 0.0), (1627, 0.07063243671473676), (1628, 0.0), (1629, 0.0), (1630, 0.0), (1631, 0.0), (1632, 0.0), (1633, 0.0), (1634, 0.0072959377532333695), (1635, 0.0), (1636, 0.0), (1637, 0.0), (1638, 0.0), (1639, 0.006231811333605932), (1640, 0.006927472636142455), (1641, 0.0), (1642, 0.0), (1643, 0.0), (1644, 0.0), (1645, 0.02726531363025627), (1646, 0.00592296100518667), (1647, 0.0), (1648, 0.0), (1649, 0.07712988546293154), (1650, 0.011895050177904808), (1651, 0.04358674972145504), (1652, 0.0), (1653, 0.02126774954088235), (1654, 0.007026622342223225), (1655, 0.0), (1656, 0.0), (1657, 0.026345592306503497), (1658, 0.0), (1659, 0.005184921629331187), (1660, 0.0), (1661, 0.0), (1662, 0.01579289746924382), (1663, 0.0), (1664, 0.12885305140634135), (1665, 0.004554611964815412), (1666, 0.0), (1667, 0.0), (1668, 0.0), (1669, 0.0), (1670, 0.0), (1671, 0.0), (1672, 0.01955278007512926), (1673, 0.006853061576970798), (1674, 0.0), (1675, 0.029732440354432538), (1676, 0.0), (1677, 0.02491401190150782), (1678, 0.019475124852222907), (1679, 0.0), (1680, 0.004417861525955619), (1681, 0.00534053347265806), (1682, 0.02922693097662088), (1683, 0.0), (1684, 0.0), (1685, 0.0), (1686, 0.006557285353096629), (1687, 0.005157600889828591), (1688, 0.0), (1689, 0.0), (1690, 0.0), (1691, 0.0), (1692, 0.0048129944709330436), (1693, 0.021687022605382644), (1694, 0.0), (1695, 0.011916468025841809), (1696, 0.041130479754403336), (1697, 0.013204153838409264), (1698, 0.006358464982385381), (1699, 0.0), (1700, 0.032581056968062495), (1701, 0.013380432184983167), (1702, 0.0), (1703, 0.0), (1704, 0.0), (1705, 0.012077272218708912), (1706, 0.01390069825074203), (1707, 0.0), (1708, 0.005224643570763801), (1709, 0.009120452546450018), (1710, 0.0), (1711, 0.0), (1712, 0.0), (1713, 0.012806905982385097), (1714, 0.01117770235103737), (1715, 0.0), (1716, 0.01900352141239523), (1717, 0.0), (1718, 0.0), (1719, 0.0), (1720, 0.0), (1721, 0.004551881321799234), (1722, 0.0), (1723, 0.0), (1724, 0.0), (1725, 0.007090784784988154), (1726, 0.0), (1727, 0.005057680446228779), (1728, 0.0037577079058472244), (1729, 0.0), (1730, 0.0), (1731, 0.0068764837425145265), (1732, 0.005199062620747652), (1733, 0.0), (1734, 0.0050970180360346866), (1735, 0.0270432215336373), (1736, 0.005092378067158169), (1737, 0.007852333721429815), (1738, 0.0060889201479543366), (1739, 0.006618906825894394), (1740, 0.07416338872566934), (1741, 0.0), (1742, 0.0), (1743, 0.0), (1744, 0.007022533250231091), (1745, 0.052980725922284685), (1746, 0.0), (1747, 0.0), (1748, 0.0), (1749, 0.004562421362886211), (1750, 0.015143479803926748), (1751, 0.004921603396210954), (1752, 0.0), (1753, 0.0), (1754, 0.059344844922269685), (1755, 0.006103415736515081), (1756, 0.01597909888545461), (1757, 0.007251651983373653), (1758, 0.007416794148339535), (1759, 0.0), (1760, 0.0), (1761, 0.0), (1762, 0.0), (1763, 0.0), (1764, 0.0161570862836611), (1765, 0.0), (1766, 0.0), (1767, 0.014142884436699052), (1768, 0.007568449809388485), (1769, 0.0), (1770, 0.0052305623178779265), (1771, 0.0), (1772, 0.024491097761188116), (1773, 0.0), (1774, 0.0), (1775, 0.0), (1776, 0.0), (1777, 0.015125336225971245), (1778, 0.0), (1779, 0.0), (1780, 0.014406142908191352), (1781, 0.004138972725440813), (1782, 0.0), (1783, 0.022870017514114424), (1784, 0.0), (1785, 0.0), (1786, 0.0), (1787, 0.006972134832197237), (1788, 0.016636851259313256), (1789, 0.010414600891237531), (1790, 0.0), (1791, 0.02839672132949944), (1792, 0.0), (1793, 0.0), (1794, 0.0), (1795, 0.0), (1796, 0.004438344187904805), (1797, 0.009887695450958727), (1798, 0.0189933318397909), (1799, 0.02388648267512202), (1800, 0.0), (1801, 0.0), (1802, 0.053787241969999344), (1803, 0.0), (1804, 0.0), (1805, 0.009230866868713368), (1806, 0.0), (1807, 0.0), (1808, 0.0), (1809, 0.010192808786725467), (1810, 0.04749029814022707), (1811, 0.0), (1812, 0.012048018325169935), (1813, 0.0), (1814, 0.0), (1815, 0.005631011668174451), (1816, 0.0), (1817, 0.0), (1818, 0.011585398177258392), (1819, 0.0), (1820, 0.0), (1821, 0.0), (1822, 0.0051349997617635935), (1823, 0.0368161085430784), (1824, 0.006919500425546884), (1825, 0.0), (1826, 0.0), (1827, 0.006656688582584056), (1828, 0.00419733689618445), (1829, 0.0), (1830, 0.0), (1831, 0.0), (1832, 0.0), (1833, 0.005492176943140512), (1834, 0.0), (1835, 0.0), (1836, 0.01881400313325083), (1837, 0.0), (1838, 0.020496414666157488), (1839, 0.0), (1840, 0.01339541617520905), (1841, 0.011730365154434404), (1842, 0.02089803223588483), (1843, 0.0), (1844, 0.0070417876666881325), (1845, 0.006225053571852312), (1846, 0.01815790477800614), (1847, 0.005022366119458477), (1848, 0.0), (1849, 0.0), (1850, 0.011881532770720899), (1851, 0.0), (1852, 0.025949507839431864), (1853, 0.005148937481384121), (1854, 0.0), (1855, 0.03061222804651726), (1856, 0.0), (1857, 0.007246912830575205), (1858, 0.0), (1859, 0.0), (1860, 0.0219657841620856), (1861, 0.0), (1862, 0.0), (1863, 0.0), (1864, 0.01629788888167636), (1865, 0.0), (1866, 0.0), (1867, 0.0072699608067159525), (1868, 0.0), (1869, 0.0), (1870, 0.004347730247181829), (1871, 0.03785960931205998), (1872, 0.023361753373716158), (1873, 0.0), (1874, 0.0), (1875, 0.0), (1876, 0.004892378442470782), (1877, 0.0), (1878, 0.006989489414555747), (1879, 0.0), (1880, 0.0), (1881, 0.005087898970413595), (1882, 0.0), (1883, 0.0052879347272139065), (1884, 0.0), (1885, 0.0), (1886, 0.00896429370002938), (1887, 0.026325264226905273), (1888, 0.0), (1889, 0.0065117272689658974), (1890, 0.0), (1891, 0.007297427319039767), (1892, 0.0), (1893, 0.0), (1894, 0.012221663809058234), (1895, 0.017558922999353566), (1896, 0.0), (1897, 0.0), (1898, 0.010545923734783219), (1899, 0.006862535039013281), (1900, 0.0), (1901, 0.011558765925860146), (1902, 0.007737488899169954), (1903, 0.015851060971168306), (1904, 0.02984732690999277), (1905, 0.02592969821306318), (1906, 0.0), (1907, 0.0), (1908, 0.1983017823448728), (1909, 0.0), (1910, 0.0), (1911, 0.024257429907607153), (1912, 0.00614076947299802), (1913, 0.007264448999322202), (1914, 0.0), (1915, 0.014001331055011971), (1916, 0.0), (1917, 0.0), (1918, 0.007775588866430877), (1919, 0.005145102732750152), (1920, 0.0), (1921, 0.0), (1922, 0.0), (1923, 0.008175417847931783), (1924, 0.0), (1925, 0.027644475251846934), (1926, 0.006815418522293914), (1927, 0.0), (1928, 0.0), (1929, 0.0), (1930, 0.0074415324941161905), (1931, 0.011523306991530027), (1932, 0.014303919697426545), (1933, 0.0), (1934, 0.015797462750842834), (1935, 0.0), (1936, 0.011526979581573674), (1937, 0.004778128957118867), (1938, 0.01925792989187383), (1939, 0.04562133177192104), (1940, 0.008603582739550553), (1941, 0.005822138752873147), (1942, 0.0), (1943, 0.0), (1944, 0.019293788472288444), (1945, 0.011363985585015392), (1946, 0.0), (1947, 0.0), (1948, 0.01933908996209166), (1949, 0.005043058216660791), (1950, 0.00601283079587671), (1951, 0.0), (1952, 0.0), (1953, 0.0), (1954, 0.0065208368276990294), (1955, 0.006737200675820765), (1956, 0.0), (1957, 0.0), (1958, 0.015027667812658175), (1959, 0.0), (1960, 0.0), (1961, 0.00660753119838852), (1962, 0.0), (1963, 0.005955847736526355), (1964, 0.006654297683711141), (1965, 0.006699478921419327), (1966, 0.01646513855215987), (1967, 0.0), (1968, 0.014357506257903255), (1969, 0.02229071629163156), (1970, 0.0), (1971, 0.02846625739822362), (1972, 0.0), (1973, 0.004576044478515693), (1974, 0.0), (1975, 0.0), (1976, 0.046856064679787326), (1977, 0.0043310567608934), (1978, 0.006560993454330077), (1979, 0.006773310025254023), (1980, 0.0), (1981, 0.03169473045424687), (1982, 0.02585096366296181), (1983, 0.0), (1984, 0.03408038899772622), (1985, 0.004915371254233733), (1986, 0.0), (1987, 0.017109944303858347), (1988, 0.0), (1989, 0.005151589819839498), (1990, 0.0), (1991, 0.01718965608744249), (1992, 0.006877176282017346), (1993, 0.0), (1994, 0.0), (1995, 0.0), (1996, 0.0), (1997, 0.0), (1998, 0.0), (1999, 0.007245186725096238), (2000, 0.0), (2001, 0.0), (2002, 0.0), (2003, 0.0), (2004, 0.0), (2005, 0.006619196889017698), (2006, 0.0054699296813043585), (2007, 0.006719172497693848), (2008, 0.0), (2009, 0.0), (2010, 0.008906692743357062), (2011, 0.0), (2012, 0.005594203794589618), (2013, 0.03186868050030522), (2014, 0.011217433710348858), (2015, 0.011776808339059072), (2016, 0.011708365059177573), (2017, 0.06204200701919793), (2018, 0.01382121362928146), (2019, 0.006369944656374471), (2020, 0.004149330823602662), (2021, 0.05387461769245149), (2022, 0.005838022893541142), (2023, 0.0), (2024, 0.004658158574283583), (2025, 0.010085180575512963), (2026, 0.0), (2027, 0.0), (2028, 0.005209657440692627), (2029, 0.0), (2030, 0.023706816682898885), (2031, 0.0), (2032, 0.0), (2033, 0.023852969808600064), (2034, 0.015356722610637988), (2035, 0.012472308874703398), (2036, 0.0), (2037, 0.0), (2038, 0.031548055135093574), (2039, 0.0), (2040, 0.005374052604138636), (2041, 0.0), (2042, 0.0), (2043, 0.006666039031800448), (2044, 0.005167027928265462), (2045, 0.011461971562950101), (2046, 0.0), (2047, 0.006504920799192729), (2048, 0.00660157791479264), (2049, 0.0), (2050, 0.006115857414895955), (2051, 0.0), (2052, 0.004536558135812308), (2053, 0.0), (2054, 0.007729580537562691), (2055, 0.021848117941700627), (2056, 0.0), (2057, 0.0), (2058, 0.01968108951788688), (2059, 0.0), (2060, 0.0), (2061, 0.022089542995629336), (2062, 0.01640749296828105), (2063, 0.0), (2064, 0.0), (2065, 0.058532397881537884), (2066, 0.01268761509197221), (2067, 0.011346179965929685), (2068, 0.0), (2069, 0.022823998872251935), (2070, 0.026639736057255968), (2071, 0.0), (2072, 0.0), (2073, 0.0), (2074, 0.006498659115334032), (2075, 0.014778049904852644), (2076, 0.0), (2077, 0.005932468293002931), (2078, 0.03921304654157912), (2079, 0.008403365059970611), (2080, 0.0), (2081, 0.004869579296262172), (2082, 0.0052772083192075755), (2083, 0.0050907021770675905), (2084, 0.0), (2085, 0.005068134237828912), (2086, 0.0180472170085006), (2087, 0.0), (2088, 0.005096499244634067), (2089, 0.0), (2090, 0.01768484074711151), (2091, 0.02211284498970381), (2092, 0.0), (2093, 0.017238968964590023), (2094, 0.029504542632501272), (2095, 0.012388810286031015), (2096, 0.0), (2097, 0.0), (2098, 0.0), (2099, 0.0), (2100, 0.013246043929299862), (2101, 0.0), (2102, 0.0), (2103, 0.010982053417011419), (2104, 0.0), (2105, 0.0), (2106, 0.0), (2107, 0.0), (2108, 0.0), (2109, 0.0), (2110, 0.0), (2111, 0.023297095574959018), (2112, 0.008124819631054698), (2113, 0.0038065831350511804), (2114, 0.024558151941150463), (2115, 0.0), (2116, 0.0), (2117, 0.010818364180849822), (2118, 0.004578240536326143), (2119, 0.0), (2120, 0.006859499215839627), (2121, 0.0), (2122, 0.0), (2123, 0.0), (2124, 0.010426332700908914), (2125, 0.02581259278312784), (2126, 0.0), (2127, 0.00946812324906629), (2128, 0.0), (2129, 0.006821025475771547), (2130, 0.013924647460245146), (2131, 0.0070715567102990155), (2132, 0.006149865657931931), (2133, 0.0), (2134, 0.0), (2135, 0.006712922862461202), (2136, 0.03058796324609063), (2137, 0.0), (2138, 0.0), (2139, 0.01058515021434445), (2140, 0.0), (2141, 0.0), (2142, 0.0), (2143, 0.007038091194402664), (2144, 0.0), (2145, 0.02051381817313342), (2146, 0.0), (2147, 0.007813532352460408), (2148, 0.0), (2149, 0.0), (2150, 0.010921777479867048), (2151, 0.0), (2152, 0.0), (2153, 0.0113400167382031), (2154, 0.0), (2155, 0.0), (2156, 0.0), (2157, 0.006189836499098031), (2158, 0.0), (2159, 0.0), (2160, 0.0), (2161, 0.0), (2162, 0.0), (2163, 0.006568376807375301), (2164, 0.012623824168780278), (2165, 0.0), (2166, 0.0045812394472639125), (2167, 0.0), (2168, 0.0), (2169, 0.0), (2170, 0.0), (2171, 0.006929059435211787), (2172, 0.006568346155804456), (2173, 0.0), (2174, 0.0), (2175, 0.0), (2176, 0.0), (2177, 0.0200816353293962), (2178, 0.0283736071754354), (2179, 0.0), (2180, 0.024930098200758997), (2181, 0.005521491255071623), (2182, 0.0054647037949141644), (2183, 0.005947751620059818), (2184, 0.004569484775278145), (2185, 0.0101037438009642), (2186, 0.0), (2187, 0.008448493155455204), (2188, 0.014920520089433021), (2189, 0.0), (2190, 0.0), (2191, 0.0), (2192, 0.0), (2193, 0.0), (2194, 0.0), (2195, 0.0), (2196, 0.007784547849680471), (2197, 0.004114251068109108), (2198, 0.01285231509640403), (2199, 0.0), (2200, 0.0356919516073427), (2201, 0.0), (2202, 0.0), (2203, 0.006735892729019138), (2204, 0.0), (2205, 0.04904935715465537), (2206, 0.056142673496465026), (2207, 0.04932029160541986), (2208, 0.019755783579009936), (2209, 0.0), (2210, 0.004945810247532889), (2211, 0.0), (2212, 0.0048538884584663124), (2213, 0.0), (2214, 0.0), (2215, 0.0), (2216, 0.03706618246879777), (2217, 0.04391055253375392), (2218, 0.0071305661608570756), (2219, 0.0), (2220, 0.0), (2221, 0.014086929840263515), (2222, 0.0), (2223, 0.0), (2224, 0.004615897055017514), (2225, 0.0), (2226, 0.0), (2227, 0.02179022517042019), (2228, 0.0), (2229, 0.0), (2230, 0.0), (2231, 0.025524766835742407), (2232, 0.06184513160864734), (2233, 0.030972296256952005), (2234, 0.0), (2235, 0.055356895904119276), (2236, 0.0), (2237, 0.009896592337496719), (2238, 0.005037664963094101), (2239, 0.011925596030537423), (2240, 0.006459907235176003), (2241, 0.005058395922685053), (2242, 0.0), (2243, 0.0052177065441643125), (2244, 0.0), (2245, 0.0071100396170663445), (2246, 0.0), (2247, 0.0), (2248, 0.0), (2249, 0.0067075742339968315), (2250, 0.007345409127336901), (2251, 0.0), (2252, 0.0), (2253, 0.0), (2254, 0.0), (2255, 0.0), (2256, 0.0), (2257, 0.0), (2258, 0.0), (2259, 0.034267273041312066), (2260, 0.0), (2261, 0.0), (2262, 0.0), (2263, 0.0), (2264, 0.00653985509105066), (2265, 0.015382886537194225), (2266, 0.0), (2267, 0.0), (2268, 0.0), (2269, 0.02821006820759226), (2270, 0.0), (2271, 0.006966554581495976), (2272, 0.0), (2273, 0.10707149523411427), (2274, 0.011249146804911993), (2275, 0.01655626269616749), (2276, 0.004996682188258389), (2277, 0.028609535305374384), (2278, 0.0171905449798899), (2279, 0.00717245552149705), (2280, 0.016785582633285157), (2281, 0.009766149849458816), (2282, 0.0), (2283, 0.024892884579260696), (2284, 0.0), (2285, 0.011542793582320257), (2286, 0.021654824291421442), (2287, 0.022985076538439904), (2288, 0.0), (2289, 0.0), (2290, 0.0), (2291, 0.0), (2292, 0.0), (2293, 0.0), (2294, 0.004202385216017861), (2295, 0.0), (2296, 0.009474201232345639), (2297, 0.0), (2298, 0.011129458132697334), (2299, 0.0), (2300, 0.0), (2301, 0.0), (2302, 0.0), (2303, 0.02014429459033461), (2304, 0.0), (2305, 0.0), (2306, 0.0), (2307, 0.0), (2308, 0.0), (2309, 0.0), (2310, 0.0), (2311, 0.0), (2312, 0.0), (2313, 0.0), (2314, 0.0), (2315, 0.011268725828428704), (2316, 0.01895059363958919), (2317, 0.006811183827058863), (2318, 0.0), (2319, 0.0), (2320, 0.0), (2321, 0.07260193405438464), (2322, 0.007170647260073814), (2323, 0.006643010485515404), (2324, 0.008275463731071835), (2325, 0.0), (2326, 0.019085916872751203), (2327, 0.006863265529042904), (2328, 0.0), (2329, 0.006291146519480771), (2330, 0.037623438272466066), (2331, 0.006039844063789623), (2332, 0.006609629671071674), (2333, 0.0), (2334, 0.007576782318918058), (2335, 0.0), (2336, 0.0), (2337, 0.024730574157343796), (2338, 0.0), (2339, 0.0), (2340, 0.0), (2341, 0.0), (2342, 0.0), (2343, 0.0), (2344, 0.0), (2345, 0.0), (2346, 0.0), (2347, 0.0), (2348, 0.0), (2349, 0.0), (2350, 0.0), (2351, 0.0), (2352, 0.011772690843965487), (2353, 0.011612031234873789), (2354, 0.0), (2355, 0.014126850977218573), (2356, 0.012607961597006138), (2357, 0.04209502993175068), (2358, 0.0), (2359, 0.0), (2360, 0.0), (2361, 0.0051597063863037754), (2362, 0.0), (2363, 0.006011436614507646), (2364, 0.005156931821946698), (2365, 0.04449446011256363), (2366, 0.0), (2367, 0.0), (2368, 0.0), (2369, 0.0), (2370, 0.0), (2371, 0.0), (2372, 0.0), (2373, 0.0), (2374, 0.0), (2375, 0.008087105266270806), (2376, 0.0), (2377, 0.0), (2378, 0.005724704182073393), (2379, 0.0), (2380, 0.0), (2381, 0.01257462547651818), (2382, 0.0), (2383, 0.005408733240179484), (2384, 0.0), (2385, 0.0), (2386, 0.0), (2387, 0.0), (2388, 0.0), (2389, 0.010060285458761382), (2390, 0.02341471111398785), (2391, 0.00786226178955654), (2392, 0.0), (2393, 0.007855807459348498), (2394, 0.0), (2395, 0.0), (2396, 0.007428203218530516), (2397, 0.03097801285169103), (2398, 0.0), (2399, 0.004490252200400694), (2400, 0.00832601945907824), (2401, 0.007154199040407121), (2402, 0.0066665558287940345), (2403, 0.0), (2404, 0.0), (2405, 0.007656207998749403), (2406, 0.00864674070849856), (2407, 0.0), (2408, 0.0), (2409, 0.0), (2410, 0.0334147256928161), (2411, 0.0), (2412, 0.004223806934058816), (2413, 0.02960458325709521), (2414, 0.006465340575632852), (2415, 0.005902649454380408), (2416, 0.0), (2417, 0.0), (2418, 0.0), (2419, 0.0), (2420, 0.0), (2421, 0.030334877166648216), (2422, 0.05229361202093959), (2423, 0.0), (2424, 0.004409136329466941), (2425, 0.0), (2426, 0.010165653625288235), (2427, 0.0131006162335322), (2428, 0.012446648265855207), (2429, 0.004509200415411063), (2430, 0.0), (2431, 0.0), (2432, 0.021021904867423606), (2433, 0.009876567312927853), (2434, 0.0), (2435, 0.0), (2436, 0.0), (2437, 0.0), (2438, 0.0), (2439, 0.017905726364969857), (2440, 0.0846519997583131), (2441, 0.0), (2442, 0.065976665647728), (2443, 0.011128427765809964), (2444, 0.011504360370753808), (2445, 0.006775303395361851), (2446, 0.0), (2447, 0.018940785017413024), (2448, 0.0), (2449, 0.007408972743291153), (2450, 0.021714671097504825), (2451, 0.26683092175654993), (2452, 0.0), (2453, 0.007786904895501485), (2454, 0.0), (2455, 0.0), (2456, 0.0), (2457, 0.00662179336031388), (2458, 0.0), (2459, 0.00592081036162204), (2460, 0.0064152743962301705), (2461, 0.007137405137881353), (2462, 0.0), (2463, 0.0), (2464, 0.0), (2465, 0.0), (2466, 0.0), (2467, 0.0), (2468, 0.01428463397862374), (2469, 0.0), (2470, 0.0054940026428262735), (2471, 0.016750348655076144), (2472, 0.012868580153028875), (2473, 0.0061084332988130055), (2474, 0.004920881746110381), (2475, 0.0), (2476, 0.005531224840104467), (2477, 0.11128519690552865), (2478, 0.0), (2479, 0.03151608597395973), (2480, 0.0), (2481, 0.0), (2482, 0.0), (2483, 0.0), (2484, 0.022656432015791286), (2485, 0.0), (2486, 0.0), (2487, 0.007460336612822005), (2488, 0.008996316914010365), (2489, 0.0), (2490, 0.0), (2491, 0.0), (2492, 0.0), (2493, 0.022843712929252673), (2494, 0.007936509467894853), (2495, 0.0), (2496, 0.03757064581354452), (2497, 0.024303331855004995), (2498, 0.0), (2499, 0.005172006504106069), (2500, 0.023641769492807444), (2501, 0.04859077636592352), (2502, 0.006494805276855221), (2503, 0.0), (2504, 0.0062622732516344915), (2505, 0.0), (2506, 0.011314992508881301), (2507, 0.0), (2508, 0.0), (2509, 0.0), (2510, 0.0), (2511, 0.0076301909506385004), (2512, 0.06782252202626043), (2513, 0.024320971583791554), (2514, 0.0), (2515, 0.0), (2516, 0.0), (2517, 0.0), (2518, 0.0), (2519, 0.0), (2520, 0.0), (2521, 0.02839370190431469), (2522, 0.012020178159509027), (2523, 0.0), (2524, 0.0), (2525, 0.0), (2526, 0.0), (2527, 0.01457386857599206), (2528, 0.0), (2529, 0.0), (2530, 0.0143347176802662), (2531, 0.007671797069044529), (2532, 0.00724092018410519), (2533, 0.0), (2534, 0.0), (2535, 0.0), (2536, 0.0), (2537, 0.0), (2538, 0.0), (2539, 0.02666794178037746), (2540, 0.004636181610131512), (2541, 0.006246817897679363), (2542, 0.0), (2543, 0.0), (2544, 0.027612731919803173), (2545, 0.0), (2546, 0.0), (2547, 0.006405697512121476), (2548, 0.0), (2549, 0.017919197717514948), (2550, 0.0), (2551, 0.0065170013330293625), (2552, 0.022236229253478606), (2553, 0.0), (2554, 0.01137770922893705), (2555, 0.01282534878464247), (2556, 0.0), (2557, 0.0), (2558, 0.0), (2559, 0.014826180982316965), (2560, 0.0), (2561, 0.024235469453378723), (2562, 0.004829225747179337), (2563, 0.0), (2564, 0.0), (2565, 0.0), (2566, 0.0), (2567, 0.013383691297423752), (2568, 0.0), (2569, 0.006337736618333198), (2570, 0.0), (2571, 0.023483294568382086), (2572, 0.0), (2573, 0.06868335416480917), (2574, 0.012504498167840427), (2575, 0.007010332069233115), (2576, 0.0055031354577365806), (2577, 0.0), (2578, 0.015838702321758356), (2579, 0.0), (2580, 0.006573892873124635), (2581, 0.006078695379096019), (2582, 0.0), (2583, 0.0), (2584, 0.023100925067120352), (2585, 0.0), (2586, 0.0), (2587, 0.0), (2588, 0.0), (2589, 0.0), (2590, 0.005970742866163608), (2591, 0.0), (2592, 0.0), (2593, 0.021310637683794622), (2594, 0.0), (2595, 0.0), (2596, 0.0), (2597, 0.0), (2598, 0.0), (2599, 0.0183142223035354), (2600, 0.006137116278949293), (2601, 0.0), (2602, 0.0), (2603, 0.006182596082691008), (2604, 0.0), (2605, 0.024384069545079948), (2606, 0.0), (2607, 0.0), (2608, 0.0), (2609, 0.006841244911878516), (2610, 0.0), (2611, 0.0), (2612, 0.007109457289501945), (2613, 0.0), (2614, 0.0), (2615, 0.0059581066237279455), (2616, 0.011027457604092697), (2617, 0.006490138933041801), (2618, 0.016138239883677623), (2619, 0.0), (2620, 0.022040758711363902), (2621, 0.0), (2622, 0.04807689520408648), (2623, 0.0), (2624, 0.0), (2625, 0.005588791023010952), (2626, 0.005338732750317332), (2627, 0.0), (2628, 0.0), (2629, 0.0), (2630, 0.0), (2631, 0.0), (2632, 0.0), (2633, 0.0), (2634, 0.004545245078814795), (2635, 0.0), (2636, 0.005526593389866521), (2637, 0.006886289671007572), (2638, 0.0), (2639, 0.0), (2640, 0.011800679814866918), (2641, 0.010807562046917789), (2642, 0.010866224828478297), (2643, 0.0), (2644, 0.049223732266602385), (2645, 0.006260294970710094), (2646, 0.01421581043921272), (2647, 0.011423054324727648), (2648, 0.0), (2649, 0.0), (2650, 0.007648188169224261), (2651, 0.0), (2652, 0.0), (2653, 0.0), (2654, 0.0), (2655, 0.0), (2656, 0.0), (2657, 0.0071253828171709685), (2658, 0.0), (2659, 0.00700695173721984), (2660, 0.02033698893761382), (2661, 0.007902372385452074), (2662, 0.0), (2663, 0.0), (2664, 0.0), (2665, 0.0), (2666, 0.015576909061747189), (2667, 0.00662847679590784), (2668, 0.00500514196447572), (2669, 0.0), (2670, 0.00520677387470623), (2671, 0.005406748790147674), (2672, 0.012641255672002565), (2673, 0.0), (2674, 0.004477833630946102), (2675, 0.007716797840003492), (2676, 0.00557799243993698), (2677, 0.0), (2678, 0.0), (2679, 0.04219315660419374), (2680, 0.040205975528846846), (2681, 0.0), (2682, 0.020347836064953544), (2683, 0.0), (2684, 0.0), (2685, 0.0), (2686, 0.0), (2687, 0.021013763538729694), (2688, 0.025907465204931444), (2689, 0.044463205693342396), (2690, 0.0), (2691, 0.029362974190830903), (2692, 0.0), (2693, 0.0), (2694, 0.0), (2695, 0.0), (2696, 0.0), (2697, 0.0039823154689803296), (2698, 0.0), (2699, 0.006867618687892441), (2700, 0.0), (2701, 0.0), (2702, 0.0), (2703, 0.0), (2704, 0.0), (2705, 0.0), (2706, 0.01162296438413316), (2707, 0.013236950768035237), (2708, 0.04409421926073202), (2709, 0.0), (2710, 0.012681099985924997), (2711, 0.053919545206655886), (2712, 0.0), (2713, 0.04737390923483273), (2714, 0.005148203698556764), (2715, 0.030751093737592647), (2716, 0.0), (2717, 0.0), (2718, 0.009842313601606778), (2719, 0.0), (2720, 0.014328844912770962), (2721, 0.0), (2722, 0.032425589117110444), (2723, 0.0), (2724, 0.03294903937341892), (2725, 0.02839313929943572), (2726, 0.0), (2727, 0.0), (2728, 0.006700452035308248), (2729, 0.0301102288801295), (2730, 0.0), (2731, 0.0), (2732, 0.0), (2733, 0.0), (2734, 0.00585078867954148), (2735, 0.0), (2736, 0.0), (2737, 0.0), (2738, 0.0), (2739, 0.0), (2740, 0.01444335939112409), (2741, 0.005775036566623917), (2742, 0.004516404446630025), (2743, 0.0), (2744, 0.0), (2745, 0.0), (2746, 0.02418247684790747), (2747, 0.0), (2748, 0.0), (2749, 0.03238543824035556), (2750, 0.0), (2751, 0.004612926683122949), (2752, 0.0), (2753, 0.0), (2754, 0.005099870676696261), (2755, 0.006782178402350281), (2756, 0.029260428837556418), (2757, 0.0), (2758, 0.0), (2759, 0.0), (2760, 0.01130018280945996), (2761, 0.0), (2762, 0.0), (2763, 0.0062638441773908895), (2764, 0.0), (2765, 0.0), (2766, 0.01694782404014622), (2767, 0.0037950980762976056), (2768, 0.006914753413354101), (2769, 0.0), (2770, 0.014012286212298893), (2771, 0.0), (2772, 0.005762289894098294), (2773, 0.0), (2774, 0.009012325614117323), (2775, 0.0), (2776, 0.0), (2777, 0.011312395676281187), (2778, 0.0058819492236045325), (2779, 0.0), (2780, 0.005036735323939108), (2781, 0.019081730801621517), (2782, 0.0), (2783, 0.0), (2784, 0.0), (2785, 0.0), (2786, 0.0), (2787, 0.00462550724284436), (2788, 0.004952296464301683), (2789, 0.014084838984978608), (2790, 0.02555594017769026), (2791, 0.004461195303562506), (2792, 0.0), (2793, 0.06219982491343702), (2794, 0.0), (2795, 0.11140901004014075), (2796, 0.0), (2797, 0.0), (2798, 0.007475171127308777), (2799, 0.0), (2800, 0.0), (2801, 0.0), (2802, 0.0), (2803, 0.010263781509508872), (2804, 0.02336593901732837), (2805, 0.0), (2806, 0.007103292298072384), (2807, 0.0), (2808, 0.007132962721943155), (2809, 0.0), (2810, 0.005451781588698566), (2811, 0.005327006338028554), (2812, 0.0), (2813, 0.0), (2814, 0.0), (2815, 0.004893138934755574), (2816, 0.0), (2817, 0.007849403755756667), (2818, 0.032530579187571934), (2819, 0.005153093117785017), (2820, 0.004254757235607155), (2821, 0.0), (2822, 0.016086520597211985), (2823, 0.0), (2824, 0.042145235956403994), (2825, 0.00480547795303942), (2826, 0.011338594298843397), (2827, 0.0), (2828, 0.016379000478237732), (2829, 0.08721622443389379), (2830, 0.007138320756689332), (2831, 0.0), (2832, 0.0), (2833, 0.05524701414530017), (2834, 0.0), (2835, 0.0), (2836, 0.0), (2837, 0.02041382242811271), (2838, 0.0), (2839, 0.0), (2840, 0.005425385325056641), (2841, 0.020558517122539338), (2842, 0.010570202565378354), (2843, 0.07666617156809644), (2844, 0.004017584018263174), (2845, 0.006775425273279455), (2846, 0.0), (2847, 0.011135304257111903), (2848, 0.02819399742987488), (2849, 0.0), (2850, 0.02805064797284406), (2851, 0.009056913571279747), (2852, 0.02594183440281895), (2853, 0.0), (2854, 0.013577852802294524), (2855, 0.0), (2856, 0.0), (2857, 0.009086692231449861), (2858, 0.0), (2859, 0.0), (2860, 0.030621075592872055), (2861, 0.0), (2862, 0.00453339581706086), (2863, 0.0), (2864, 0.00552938938248514), (2865, 0.0), (2866, 0.0), (2867, 0.005001977082161917), (2868, 0.006810564546358721), (2869, 0.0), (2870, 0.0), (2871, 0.0), (2872, 0.0), (2873, 0.0), (2874, 0.0), (2875, 0.0), (2876, 0.0), (2877, 0.012360262715630314), (2878, 0.0), (2879, 0.0), (2880, 0.005242799560653718), (2881, 0.005509286064040957), (2882, 0.0), (2883, 0.0), (2884, 0.008497756494229038), (2885, 0.004560268908710919), (2886, 0.04205153130351695), (2887, 0.006498993577492427), (2888, 0.012217127972696903), (2889, 0.0), (2890, 0.0), (2891, 0.0), (2892, 0.006987654868922764), (2893, 0.0), (2894, 0.0), (2895, 0.013499878641054567), (2896, 0.0), (2897, 0.0), (2898, 0.03075624317548439), (2899, 0.020501614955149655), (2900, 0.0), (2901, 0.0), (2902, 0.0), (2903, 0.005455131758057994), (2904, 0.0), (2905, 0.0), (2906, 0.0), (2907, 0.0), (2908, 0.003909083904927119), (2909, 0.0), (2910, 0.00475944979591924), (2911, 0.0), (2912, 0.0), (2913, 0.003989926267934715), (2914, 0.0), (2915, 0.0), (2916, 0.0), (2917, 0.0), (2918, 0.004686503620878606), (2919, 0.0), (2920, 0.005868511942417354), (2921, 0.008236928421344741), (2922, 0.006618789149850657), (2923, 0.0), (2924, 0.0), (2925, 0.0), (2926, 0.0), (2927, 0.028306577484582304), (2928, 0.0), (2929, 0.006565373488890909), (2930, 0.0), (2931, 0.0133177910681172), (2932, 0.0), (2933, 0.006251462723814691), (2934, 0.0), (2935, 0.004320244606737678), (2936, 0.0), (2937, 0.01619527412801688), (2938, 0.024634418388699238), (2939, 0.0), (2940, 0.012054775834990324), (2941, 0.0), (2942, 0.0), (2943, 0.00484695092597076), (2944, 0.02921291611353666), (2945, 0.0), (2946, 0.0), (2947, 0.004985796745840422), (2948, 0.006334741910300879), (2949, 0.0), (2950, 0.026820659713297255), (2951, 0.0), (2952, 0.008424682146750165), (2953, 0.0), (2954, 0.0), (2955, 0.028820894657646215), (2956, 0.007179019997752768), (2957, 0.0), (2958, 0.004531825477672194), (2959, 0.0051209060803203265), (2960, 0.01150313928373538), (2961, 0.0), (2962, 0.00462901227476572), (2963, 0.01305371965334529), (2964, 0.0), (2965, 0.006992697050449816), (2966, 0.0), (2967, 0.0), (2968, 0.0), (2969, 0.004034505858894385), (2970, 0.0), (2971, 0.00423259103504579), (2972, 0.0), (2973, 0.0), (2974, 0.0), (2975, 0.0064671871418585936), (2976, 0.0), (2977, 0.0), (2978, 0.0), (2979, 0.03037946675898018), (2980, 0.0), (2981, 0.012576710974451302), (2982, 0.02766129953178511), (2983, 0.0), (2984, 0.0), (2985, 0.006140144980754671), (2986, 0.0), (2987, 0.02666570112483777), (2988, 0.015184674483351356), (2989, 0.00677816575574432), (2990, 0.0065483792029751905), (2991, 0.0), (2992, 0.004535635375029105), (2993, 0.0), (2994, 0.0), (2995, 0.016059496205971906), (2996, 0.0), (2997, 0.0), (2998, 0.17156381855159558), (2999, 0.0), (3000, 0.0), (3001, 0.02693548222736048), (3002, 0.0049158811044233515), (3003, 0.0), (3004, 0.0), (3005, 0.0), (3006, 0.0), (3007, 0.0), (3008, 0.0), (3009, 0.0), (3010, 0.0), (3011, 0.007108396402822422), (3012, 0.0), (3013, 0.0), (3014, 0.0), (3015, 0.0), (3016, 0.0), (3017, 0.0), (3018, 0.007687601212587263), (3019, 0.0), (3020, 0.0), (3021, 0.01599217486051286), (3022, 0.048796525504084795), (3023, 0.0), (3024, 0.010113498896002705), (3025, 0.0), (3026, 0.0), (3027, 0.0), (3028, 0.0), (3029, 0.0), (3030, 0.0), (3031, 0.0), (3032, 0.0), (3033, 0.0), (3034, 0.0), (3035, 0.0), (3036, 0.0), (3037, 0.0), (3038, 0.0), (3039, 0.0), (3040, 0.0), (3041, 0.0), (3042, 0.0), (3043, 0.024179126606830487), (3044, 0.005302451825236654), (3045, 0.03463789100866864), (3046, 0.0), (3047, 0.0153873347880402), (3048, 0.04582435789522034), (3049, 0.0), (3050, 0.0), (3051, 0.024170763470539237), (3052, 0.0), (3053, 0.0), (3054, 0.0), (3055, 0.0), (3056, 0.012196565384223009), (3057, 0.03136547196194593), (3058, 0.03243520258412594), (3059, 0.02336423635514667), (3060, 0.014965432838234953), (3061, 0.0), (3062, 0.012503892058650759), (3063, 0.02800466539849446), (3064, 0.005293088486863329), (3065, 0.07563314403004959), (3066, 0.0), (3067, 0.0), (3068, 0.015057100725313506), (3069, 0.0), (3070, 0.004345282026378226), (3071, 0.013789983262859079), (3072, 0.0), (3073, 0.0), (3074, 0.0), (3075, 0.0), (3076, 0.0), (3077, 0.0), (3078, 0.0), (3079, 0.015616450948774962), (3080, 0.018887275617267534), (3081, 0.0), (3082, 0.006547165535305522), (3083, 0.0), (3084, 0.0), (3085, 0.004647057310201651), (3086, 0.007952170030113425), (3087, 0.0), (3088, 0.0), (3089, 0.02058787483000315), (3090, 0.014477513609927661), (3091, 0.005368558108777426), (3092, 0.0), (3093, 0.0), (3094, 0.0), (3095, 0.0), (3096, 0.06368178018322022), (3097, 0.005363894591200927), (3098, 0.0), (3099, 0.09072127513906039), (3100, 0.02636349964209809), (3101, 0.0), (3102, 0.0), (3103, 0.0), (3104, 0.0), (3105, 0.047432767687630946), (3106, 0.0), (3107, 0.0), (3108, 0.0), (3109, 0.007839931502616939), (3110, 0.0), (3111, 0.0), (3112, 0.005230778424471952), (3113, 0.0), (3114, 0.044704987628835936), (3115, 0.007572717395128317), (3116, 0.0), (3117, 0.008438928787904618), (3118, 0.0), (3119, 0.0), (3120, 0.0), (3121, 0.012864676758408439), (3122, 0.0), (3123, 0.020668565625669898), (3124, 0.011709453701607586), (3125, 0.0), (3126, 0.17119179871786597), (3127, 0.0), (3128, 0.12811410918839325), (3129, 0.009689881332307318), (3130, 0.004437733883303302), (3131, 0.030195133226900754), (3132, 0.02992279379772943), (3133, 0.03344718599607205), (3134, 0.029456953122945984), (3135, 0.010563487688746313), (3136, 0.010519043895796401), (3137, 0.0), (3138, 0.0), (3139, 0.0), (3140, 0.0), (3141, 0.0225046015187095), (3142, 0.01017769013086616), (3143, 0.0045178179821202214), (3144, 0.00548106029439092), (3145, 0.0), (3146, 0.0), (3147, 0.006852976956629348), (3148, 0.0), (3149, 0.007100457262389029), (3150, 0.02106660551321914), (3151, 0.0), (3152, 0.005005119737444478), (3153, 0.007580213634319794), (3154, 0.0), (3155, 0.023389044050695112), (3156, 0.010862771304852623), (3157, 0.0), (3158, 0.018991892137900944), (3159, 0.02875078320767383), (3160, 0.02232633409625374), (3161, 0.004798845812604712), (3162, 0.024223432151815678), (3163, 0.012275773414804705), (3164, 0.0), (3165, 0.005587174351287875), (3166, 0.0), (3167, 0.006592429834390638), (3168, 0.005477515236061326), (3169, 0.004986825078394852), (3170, 0.0), (3171, 0.0), (3172, 0.01313256537456395), (3173, 0.053053900934202286), (3174, 0.004851447057214923), (3175, 0.0), (3176, 0.0), (3177, 0.0), (3178, 0.0), (3179, 0.0), (3180, 0.042614376660133735), (3181, 0.023765524799263894), (3182, 0.07910627778086249), (3183, 0.0), (3184, 0.0), (3185, 0.08912422141010644), (3186, 0.0), (3187, 0.0), (3188, 0.007352908822518756), (3189, 0.007734031780997396), (3190, 0.0), (3191, 0.0431815974019756), (3192, 0.005373892968810978), (3193, 0.07015581973877982), (3194, 0.0), (3195, 0.0), (3196, 0.0), (3197, 0.0), (3198, 0.0), (3199, 0.011401074465648888), (3200, 0.0), (3201, 0.015103726377145599), (3202, 0.03548512552512612), (3203, 0.0), (3204, 0.0), (3205, 0.008389301611229005), (3206, 0.013645681848253027), (3207, 0.0), (3208, 0.07963516945329834), (3209, 0.007528559392503682), (3210, 0.004906699833291236), (3211, 0.0), (3212, 0.0), (3213, 0.004077612715484122), (3214, 0.0), (3215, 0.021744988807457507), (3216, 0.0), (3217, 0.0), (3218, 0.0), (3219, 0.00962010121496432), (3220, 0.0), (3221, 0.00544066688143452), (3222, 0.0), (3223, 0.007388806909332217), (3224, 0.0), (3225, 0.08002794291157964), (3226, 0.0), (3227, 0.004904745987559189), (3228, 0.0), (3229, 0.0), (3230, 0.0), (3231, 0.02091759371251394), (3232, 0.01629702778461329), (3233, 0.017432177650452567), (3234, 0.0), (3235, 0.0), (3236, 0.0), (3237, 0.007270811018716621), (3238, 0.0), (3239, 0.0), (3240, 0.0), (3241, 0.005074861964384328), (3242, 0.007728590931878614), (3243, 0.0), (3244, 0.006743361989717593), (3245, 0.0), (3246, 0.00705701352159199), (3247, 0.026382500937155707), (3248, 0.0), (3249, 0.0), (3250, 0.0), (3251, 0.0), (3252, 0.0), (3253, 0.005531744204467105), (3254, 0.006018926974176276), (3255, 0.0), (3256, 0.0), (3257, 0.0), (3258, 0.0), (3259, 0.012893480533482871), (3260, 0.007222429378061487), (3261, 0.0), (3262, 0.0), (3263, 0.005299378289507189), (3264, 0.0), (3265, 0.0), (3266, 0.0), (3267, 0.0044138638301881045), (3268, 0.0), (3269, 0.007962792215884869), (3270, 0.02166748234855959), (3271, 0.0), (3272, 0.014020086513231056), (3273, 0.0), (3274, 0.0), (3275, 0.005685535032979688), (3276, 0.017025153633299085), (3277, 0.0), (3278, 0.0), (3279, 0.0), (3280, 0.0), (3281, 0.0), (3282, 0.0), (3283, 0.0), (3284, 0.0), (3285, 0.0), (3286, 0.0062271628250376), (3287, 0.0066306409683633), (3288, 0.0), (3289, 0.007544056303666675), (3290, 0.0), (3291, 0.0), (3292, 0.0), (3293, 0.0), (3294, 0.03419990656151916), (3295, 0.0), (3296, 0.0), (3297, 0.005168814239601811), (3298, 0.035818199437140257), (3299, 0.0), (3300, 0.006917760697268257), (3301, 0.0), (3302, 0.0), (3303, 0.014982271767728735), (3304, 0.0), (3305, 0.017856057448488696), (3306, 0.004459622966643731), (3307, 0.0), (3308, 0.0), (3309, 0.0), (3310, 0.005074634839662104), (3311, 0.004400286169309911), (3312, 0.005649938364523181), (3313, 0.0), (3314, 0.0), (3315, 0.007032115761114652), (3316, 0.0), (3317, 0.0), (3318, 0.006634493025043241), (3319, 0.0), (3320, 0.0), (3321, 0.006811077740257471), (3322, 0.0), (3323, 0.12691496245076547), (3324, 0.0), (3325, 0.0), (3326, 0.0), (3327, 0.01235590941029596), (3328, 0.007413117942223943), (3329, 0.0), (3330, 0.007336229625904484), (3331, 0.05284489408807456), (3332, 0.022070461260226628), (3333, 0.0), (3334, 0.0), (3335, 0.0), (3336, 0.004378372407066645), (3337, 0.0), (3338, 0.0), (3339, 0.00418624463457768), (3340, 0.025994548902760598), (3341, 0.0), (3342, 0.018747323867359014), (3343, 0.004859513656097258), (3344, 0.0), (3345, 0.0), (3346, 0.006396887360345341), (3347, 0.0), (3348, 0.02960515320666363), (3349, 0.0), (3350, 0.0), (3351, 0.024106931040459828), (3352, 0.0), (3353, 0.0), (3354, 0.0), (3355, 0.0), (3356, 0.00555212928770418), (3357, 0.0), (3358, 0.0), (3359, 0.0), (3360, 0.011394655441447006), (3361, 0.046935495273959724), (3362, 0.0), (3363, 0.0), (3364, 0.0), (3365, 0.003430417014021836), (3366, 0.006194460520022356), (3367, 0.02826762115086017), (3368, 0.021292820346505027), (3369, 0.0), (3370, 0.00714538153488617), (3371, 0.0), (3372, 0.05657831793814097), (3373, 0.005475021544969024), (3374, 0.004827567654869297), (3375, 0.0), (3376, 0.0), (3377, 0.007505406760245133), (3378, 0.0), (3379, 0.0), (3380, 0.0), (3381, 0.0), (3382, 0.0), (3383, 0.005508050593754888), (3384, 0.0057029112746284066), (3385, 0.018991416038692758), (3386, 0.0), (3387, 0.007082812581954113), (3388, 0.007755939225319067), (3389, 0.015584317318109579), (3390, 0.00701376134459169), (3391, 0.0), (3392, 0.05939561815178841), (3393, 0.01836979627173942), (3394, 0.005593591191668781), (3395, 0.005892131857548195), (3396, 0.0), (3397, 0.00575612144161468), (3398, 0.027139276338746094), (3399, 0.0), (3400, 0.0), (3401, 0.0), (3402, 0.0), (3403, 0.0), (3404, 0.011474885751137828), (3405, 0.02398794909324654), (3406, 0.0), (3407, 0.0), (3408, 0.01959544790468883), (3409, 0.0), (3410, 0.0), (3411, 0.0), (3412, 0.0), (3413, 0.0), (3414, 0.0), (3415, 0.0), (3416, 0.004859881443134655), (3417, 0.0), (3418, 0.0), (3419, 0.013015598561037088), (3420, 0.0), (3421, 0.005092795100597538), (3422, 0.0), (3423, 0.0), (3424, 0.005329596889182021), (3425, 0.0), (3426, 0.005966503843406647), (3427, 0.05903682027091863), (3428, 0.0), (3429, 0.003307340427576327), (3430, 0.0), (3431, 0.0), (3432, 0.004828800238498295), (3433, 0.0), (3434, 0.0), (3435, 0.0), (3436, 0.0), (3437, 0.0), (3438, 0.012040348755721422), (3439, 0.008319187917638828), (3440, 0.0056518727116908725), (3441, 0.0048244802341511385), (3442, 0.0), (3443, 0.0047980099830424285), (3444, 0.007070075078374424), (3445, 0.004981804133911844), (3446, 0.0), (3447, 0.0), (3448, 0.01368172049916028), (3449, 0.0), (3450, 0.005649543895511296), (3451, 0.0052138734892449865), (3452, 0.015800733320290337), (3453, 0.02398820034361549), (3454, 0.011032427869536688), (3455, 0.0), (3456, 0.005027540363065365), (3457, 0.0), (3458, 0.005043261703892891), (3459, 0.0044201138153102115), (3460, 0.0), (3461, 0.006836838978236011), (3462, 0.0), (3463, 0.029113982834929227), (3464, 0.012957111897269124), (3465, 0.0046204334528653496), (3466, 0.0045794163365621005), (3467, 0.028583999082465325), (3468, 0.04520527224075515), (3469, 0.03160648494454281), (3470, 0.0), (3471, 0.0), (3472, 0.07441307797319618), (3473, 0.04416294143427515), (3474, 0.0), (3475, 0.0), (3476, 0.0), (3477, 0.0072994386778355395), (3478, 0.0), (3479, 0.0), (3480, 0.020840902902847493), (3481, 0.0), (3482, 0.006453206325725282), (3483, 0.0), (3484, 0.03953250541524634), (3485, 0.0), (3486, 0.011515535897868794), (3487, 0.0), (3488, 0.0), (3489, 0.0), (3490, 0.0), (3491, 0.0), (3492, 0.006406045163557911), (3493, 0.0), (3494, 0.0), (3495, 0.0), (3496, 0.0), (3497, 0.008042993169790352), (3498, 0.0), (3499, 0.0), (3500, 0.0), (3501, 0.0), (3502, 0.020509833772794354), (3503, 0.0), (3504, 0.0), (3505, 0.0), (3506, 0.008490113816244283), (3507, 0.0050426939359891525), (3508, 0.07642257830165966), (3509, 0.0), (3510, 0.0), (3511, 0.0), (3512, 0.0), (3513, 0.022850163242222762), (3514, 0.0050783039332873686), (3515, 0.018422806319331148), (3516, 0.03172505205714148), (3517, 0.0), (3518, 0.023673319886999555), (3519, 0.0), (3520, 0.01999423377166619), (3521, 0.0), (3522, 0.004978543353106282), (3523, 0.0), (3524, 0.0), (3525, 0.010628757391131814), (3526, 0.008670601729382183), (3527, 0.0), (3528, 0.020090190692227214), (3529, 0.0), (3530, 0.0), (3531, 0.004718149723079232), (3532, 0.03249489883366221), (3533, 0.0), (3534, 0.0), (3535, 0.0), (3536, 0.0), (3537, 0.0), (3538, 0.0), (3539, 0.0), (3540, 0.0), (3541, 0.0), (3542, 0.017337116881903713), (3543, 0.0), (3544, 0.0), (3545, 0.0), (3546, 0.0047852890567138635), (3547, 0.0), (3548, 0.0), (3549, 0.02208931619324963), (3550, 0.021578360227012115), (3551, 0.0), (3552, 0.0), (3553, 0.0), (3554, 0.005888512502847352), (3555, 0.03163190323332771), (3556, 0.004349440980238537), (3557, 0.0), (3558, 0.0), (3559, 0.01420287050884675), (3560, 0.039395460029475096), (3561, 0.0), (3562, 0.0), (3563, 0.013418315129510474), (3564, 0.007389859115162703), (3565, 0.0), (3566, 0.0060248260172793), (3567, 0.006145139241062855), (3568, 0.010816358488312073), (3569, 0.0), (3570, 0.0), (3571, 0.0), (3572, 0.0), (3573, 0.05323307239608694), (3574, 0.009852130718413314), (3575, 0.01921431501344418), (3576, 0.017209923574289965), (3577, 0.0), (3578, 0.01619120848286217), (3579, 0.006283456104655806), (3580, 0.0), (3581, 0.0), (3582, 0.010865018647229148), (3583, 0.0), (3584, 0.021624198293820028), (3585, 0.0), (3586, 0.012137749024667925), (3587, 0.007225109030667065), (3588, 0.005976655444222067), (3589, 0.021421962078899046), (3590, 0.0), (3591, 0.005076956620335542), (3592, 0.0), (3593, 0.029273110143575358), (3594, 0.02421013137227702), (3595, 0.020866415125696768), (3596, 0.007285239197281697), (3597, 0.033402019897348825), (3598, 0.005677772643625536), (3599, 0.0), (3600, 0.010169950682014959), (3601, 0.0), (3602, 0.0047830063016986975), (3603, 0.004957271786668582), (3604, 0.028802504523822086), (3605, 0.020849143159398186), (3606, 0.0), (3607, 0.0), (3608, 0.0), (3609, 0.004573979735042712), (3610, 0.008694253060420466), (3611, 0.0), (3612, 0.0), (3613, 0.0), (3614, 0.04876161065668935), (3615, 0.0), (3616, 0.0), (3617, 0.0), (3618, 0.0), (3619, 0.0), (3620, 0.0), (3621, 0.0), (3622, 0.0), (3623, 0.043269030109154345), (3624, 0.0), (3625, 0.016494962335810034), (3626, 0.011295290648435628), (3627, 0.0), (3628, 0.012333283682982091), (3629, 0.06424649594030402), (3630, 0.015270259534281152), (3631, 0.027762842291977067), (3632, 0.0), (3633, 0.04824807988958245), (3634, 0.014326788293459628), (3635, 0.01524844988375123), (3636, 0.0), (3637, 0.004254034725610519), (3638, 0.007996723773646878), (3639, 0.0), (3640, 0.0), (3641, 0.022559434153024964), (3642, 0.013257456305666318), (3643, 0.0), (3644, 0.0), (3645, 0.0036665354777455084), (3646, 0.0069605914091286376), (3647, 0.0), (3648, 0.0), (3649, 0.0), (3650, 0.035390295822707044), (3651, 0.0), (3652, 0.0), (3653, 0.0), (3654, 0.0), (3655, 0.006406339719179015), (3656, 0.02191894739319477), (3657, 0.00951764835280456), (3658, 0.010273372603715629), (3659, 0.0), (3660, 0.004690942473473447), (3661, 0.04636997849798381), (3662, 0.0), (3663, 0.0), (3664, 0.0), (3665, 0.0), (3666, 0.0), (3667, 0.0056280169938759525), (3668, 0.004117358377604881), (3669, 0.0), (3670, 0.0), (3671, 0.0), (3672, 0.0), (3673, 0.0), (3674, 0.0), (3675, 0.0), (3676, 0.004915771528125573), (3677, 0.0), (3678, 0.0), (3679, 0.0), (3680, 0.005500724475625119), (3681, 0.0), (3682, 0.0), (3683, 0.0), (3684, 0.010610212069985449), (3685, 0.03013759897499002), (3686, 0.039748060430903245), (3687, 0.0), (3688, 0.018775655912599866), (3689, 0.0), (3690, 0.02884274379800804), (3691, 0.0), (3692, 0.0451616171097685), (3693, 0.9999999999999998), (3694, 0.0), (3695, 0.007015546946759995), (3696, 0.0), (3697, 0.012425018523842944), (3698, 0.004831314487901037), (3699, 0.0), (3700, 0.010712813980560305), (3701, 0.0), (3702, 0.0), (3703, 0.00726067383615248), (3704, 0.0), (3705, 0.021521470028822577), (3706, 0.004747342908896089), (3707, 0.004950888185097418), (3708, 0.005616494898047823), (3709, 0.04239230818667698), (3710, 0.005171454103506199), (3711, 0.0), (3712, 0.0), (3713, 0.0), (3714, 0.018521289821115502), (3715, 0.006276996592792515), (3716, 0.0), (3717, 0.0), (3718, 0.12444953439511093), (3719, 0.0), (3720, 0.021046508992518205), (3721, 0.0), (3722, 0.0), (3723, 0.004590748766101381), (3724, 0.04447466510887117), (3725, 0.0), (3726, 0.005785311302251065), (3727, 0.0), (3728, 0.024699527257616472), (3729, 0.0), (3730, 0.0), (3731, 0.0), (3732, 0.006858235126664404), (3733, 0.0), (3734, 0.07790806321798065), (3735, 0.007097493531487994), (3736, 0.0), (3737, 0.0), (3738, 0.004449347100249512), (3739, 0.007442228329538119), (3740, 0.0), (3741, 0.005650501283579091), (3742, 0.014745197584077725), (3743, 0.029202650576620498), (3744, 0.03434811179484722), (3745, 0.0), (3746, 0.0), (3747, 0.051075228636574516), (3748, 0.0), (3749, 0.0), (3750, 0.004977950008917451), (3751, 0.03164924900888516), (3752, 0.0), (3753, 0.0), (3754, 0.0), (3755, 0.0), (3756, 0.0), (3757, 0.0), (3758, 0.0), (3759, 0.0), (3760, 0.0), (3761, 0.0), (3762, 0.0), (3763, 0.0), (3764, 0.0), (3765, 0.0), (3766, 0.0), (3767, 0.0), (3768, 0.0), (3769, 0.0), (3770, 0.0), (3771, 0.031029487108343978), (3772, 0.0), (3773, 0.09181396860787648), (3774, 0.007882613151785617), (3775, 0.0), (3776, 0.024535379187604435), (3777, 0.0), (3778, 0.0), (3779, 0.0), (3780, 0.007859828022356146), (3781, 0.0), (3782, 0.012080811274277323), (3783, 0.026619125829687854), (3784, 0.0), (3785, 0.08612646143706161), (3786, 0.010821504738071655), (3787, 0.0789800490720004), (3788, 0.0), (3789, 0.0), (3790, 0.10226733284830163), (3791, 0.0), (3792, 0.00748607883316878), (3793, 0.0), (3794, 0.004607388198749654), (3795, 0.02919493706204482), (3796, 0.0), (3797, 0.018751094944777107), (3798, 0.029275173123165483), (3799, 0.0), (3800, 0.03137837038216468), (3801, 0.0), (3802, 0.02388075188305805), (3803, 0.005611728805039568), (3804, 0.0), (3805, 0.03263322926038521), (3806, 0.0), (3807, 0.012161630112580271), (3808, 0.0), (3809, 0.0), (3810, 0.0), (3811, 0.022421183308573563), (3812, 0.007492501233133033), (3813, 0.008031936629489873), (3814, 0.004784644237672015), (3815, 0.0), (3816, 0.0), (3817, 0.07419744922506763), (3818, 0.0), (3819, 0.006950452821452355), (3820, 0.0), (3821, 0.0), (3822, 0.0), (3823, 0.0), (3824, 0.0), (3825, 0.04109547056803362), (3826, 0.006166197861384878), (3827, 0.0), (3828, 0.0), (3829, 0.0), (3830, 0.0064853951073919345), (3831, 0.0), (3832, 0.0), (3833, 0.0), (3834, 0.03019781630881635), (3835, 0.0279817006429161), (3836, 0.0), (3837, 0.0), (3838, 0.0), (3839, 0.0), (3840, 0.028932498382600275), (3841, 0.0), (3842, 0.0), (3843, 0.0), (3844, 0.0), (3845, 0.0), (3846, 0.17775989432429848), (3847, 0.0), (3848, 0.0), (3849, 0.019359988777200816), (3850, 0.02330723764480585), (3851, 0.0), (3852, 0.0), (3853, 0.0), (3854, 0.06273259230648812), (3855, 0.00624615416977765), (3856, 0.0), (3857, 0.0), (3858, 0.0), (3859, 0.057501335878355694), (3860, 0.004410445749642025), (3861, 0.0), (3862, 0.005080391615528856), (3863, 0.0), (3864, 0.0), (3865, 0.005720013957473909), (3866, 0.0), (3867, 0.024263790871786435), (3868, 0.014087026921172988), (3869, 0.05301068799305205), (3870, 0.011790875243208165), (3871, 0.006694408506687517), (3872, 0.0), (3873, 0.039648790988969146), (3874, 0.0), (3875, 0.0), (3876, 0.0067571902834074), (3877, 0.007141232796412738), (3878, 0.0), (3879, 0.0), (3880, 0.0), (3881, 0.0), (3882, 0.0), (3883, 0.0), (3884, 0.0), (3885, 0.0), (3886, 0.041544906351502396), (3887, 0.0), (3888, 0.051324633023727785), (3889, 0.01837696496472749), (3890, 0.0), (3891, 0.044675472117802185), (3892, 0.0), (3893, 0.0250954989604981), (3894, 0.0), (3895, 0.0), (3896, 0.0), (3897, 0.017965730809152588), (3898, 0.0), (3899, 0.0), (3900, 0.016294036328959215), (3901, 0.0), (3902, 0.0), (3903, 0.007346635658704428), (3904, 0.0), (3905, 0.0), (3906, 0.04641550303085767), (3907, 0.06551814563383057), (3908, 0.08861120916058317), (3909, 0.0), (3910, 0.020394571597357067), (3911, 0.0), (3912, 0.007520637575834691), (3913, 0.0), (3914, 0.0), (3915, 0.0), (3916, 0.018199907499514795), (3917, 0.010849226669878937), (3918, 0.0), (3919, 0.017713501526822283), (3920, 0.0), (3921, 0.0), (3922, 0.0), (3923, 0.02593269927367546), (3924, 0.0), (3925, 0.0), (3926, 0.007373127554935169), (3927, 0.0), (3928, 0.019294033941173034), (3929, 0.0), (3930, 0.0), (3931, 0.0), (3932, 0.0), (3933, 0.0), (3934, 0.0), (3935, 0.0), (3936, 0.0), (3937, 0.17354393364540596), (3938, 0.0), (3939, 0.0), (3940, 0.0), (3941, 0.0), (3942, 0.0), (3943, 0.0), (3944, 0.0), (3945, 0.0), (3946, 0.003772318115422214), (3947, 0.005621365372631483), (3948, 0.0), (3949, 0.0), (3950, 0.0), (3951, 0.0), (3952, 0.0), (3953, 0.02544183970975891), (3954, 0.0), (3955, 0.06503969801386142), (3956, 0.0), (3957, 0.013966778995811155), (3958, 0.0041715319539294415), (3959, 0.1066823463958258), (3960, 0.0), (3961, 0.0), (3962, 0.0), (3963, 0.01119394688195285), (3964, 0.0), (3965, 0.026954383915436197), (3966, 0.02266883081716941), (3967, 0.0), (3968, 0.02963800879859486), (3969, 0.0), (3970, 0.0), (3971, 0.0), (3972, 0.05893314081999555), (3973, 0.0), (3974, 0.006625601077181728), (3975, 0.0), (3976, 0.0), (3977, 0.030482013996461547), (3978, 0.004639798057149501), (3979, 0.011974290325601645), (3980, 0.009047819840289333), (3981, 0.0), (3982, 0.028216152201024088), (3983, 0.0055148361496568585), (3984, 0.0), (3985, 0.007037114398273855), (3986, 0.0), (3987, 0.0), (3988, 0.0), (3989, 0.037428591053162964), (3990, 0.0), (3991, 0.006048703240635262), (3992, 0.0), (3993, 0.01129571341311194), (3994, 0.07855246917837444), (3995, 0.0), (3996, 0.0), (3997, 0.023218013009824887), (3998, 0.060181106239911436), (3999, 0.0), (4000, 0.0), (4001, 0.03123139545575874), (4002, 0.0), (4003, 0.0), (4004, 0.0), (4005, 0.005197795194663634), (4006, 0.0), (4007, 0.0), (4008, 0.0), (4009, 0.005926379692488638), (4010, 0.0), (4011, 0.006913375381042203), (4012, 0.004590989914131606), (4013, 0.0), (4014, 0.017144799624800446), (4015, 0.01799056991692652), (4016, 0.006396278810406906), (4017, 0.0), (4018, 0.007221257183822445), (4019, 0.0), (4020, 0.004772230403810575), (4021, 0.0), (4022, 0.0), (4023, 0.0), (4024, 0.0), (4025, 0.0), (4026, 0.0), (4027, 0.0), (4028, 0.028234717566761273), (4029, 0.0), (4030, 0.0), (4031, 0.007497786013870219), (4032, 0.0), (4033, 0.012897785320200698), (4034, 0.007115746999359326), (4035, 0.006405151948756983), (4036, 0.0062669942584188485), (4037, 0.07587577628316285), (4038, 0.030627242195766423), (4039, 0.004741901012368534), (4040, 0.0), (4041, 0.028546252200875012), (4042, 0.0), (4043, 0.0), (4044, 0.004413700044354121), (4045, 0.02069293312105923), (4046, 0.045982241911728935), (4047, 0.0), (4048, 0.0), (4049, 0.0), (4050, 0.0), (4051, 0.0), (4052, 0.0), (4053, 0.0), (4054, 0.017967483857719214), (4055, 0.010172636007486052), (4056, 0.0112174272325609), (4057, 0.0), (4058, 0.0), (4059, 0.006884040986710341), (4060, 0.0), (4061, 0.0), (4062, 0.0), (4063, 0.015637885530841607), (4064, 0.0), (4065, 0.0), (4066, 0.0), (4067, 0.0), (4068, 0.0049419095949386595), (4069, 0.0), (4070, 0.0355910770307689), (4071, 0.0), (4072, 0.0), (4073, 0.007174870449510317), (4074, 0.005772093302481881), (4075, 0.0), (4076, 0.04685618012296612), (4077, 0.10526558421698042), (4078, 0.0), (4079, 0.0), (4080, 0.0), (4081, 0.0), (4082, 0.0), (4083, 0.0), (4084, 0.0), (4085, 0.0), (4086, 0.014906327142150823), (4087, 0.018420301379010635), (4088, 0.004985062158529429), (4089, 0.007664749479234299), (4090, 0.0), (4091, 0.05992491468271044), (4092, 0.0), (4093, 0.004975947262044973), (4094, 0.010426450808331655), (4095, 0.004128236450588836), (4096, 0.10117988116327979), (4097, 0.008061383133643817), (4098, 0.0049862605210957076), (4099, 0.01127539234103634), (4100, 0.04381480309525741), (4101, 0.0), (4102, 0.0), (4103, 0.011339402350205674), (4104, 0.0), (4105, 0.0), (4106, 0.020679316077660395), (4107, 0.0), (4108, 0.0), (4109, 0.00666070388941965), (4110, 0.006533255092277471), (4111, 0.0), (4112, 0.011008746827738121), (4113, 0.0), (4114, 0.010610559570603606), (4115, 0.0), (4116, 0.005303337909714182), (4117, 0.0), (4118, 0.006916643062651557), (4119, 0.00540655464655991), (4120, 0.0), (4121, 0.005532648142357476), (4122, 0.0060412766330781), (4123, 0.0), (4124, 0.0), (4125, 0.0), (4126, 0.0), (4127, 0.0), (4128, 0.03545458326399929), (4129, 0.0), (4130, 0.012327188597602894), (4131, 0.0052055643459523035), (4132, 0.025004639685491582), (4133, 0.0), (4134, 0.0), (4135, 0.0), (4136, 0.0), (4137, 0.00742886754719581), (4138, 0.0), (4139, 0.016362903213594435), (4140, 0.0), (4141, 0.0), (4142, 0.014419438563053975), (4143, 0.004372604751874861), (4144, 0.005392951178398207), (4145, 0.0), (4146, 0.0), (4147, 0.0), (4148, 0.004845399306660338), (4149, 0.03380276015731366), (4150, 0.0), (4151, 0.0), (4152, 0.029309457587980984), (4153, 0.04406789609650671), (4154, 0.015311590828249642), (4155, 0.02975413190964937), (4156, 0.0), (4157, 0.0), (4158, 0.0), (4159, 0.0068989690441656785), (4160, 0.007191234917153808), (4161, 0.0), (4162, 0.0), (4163, 0.0), (4164, 0.0), (4165, 0.034194388994525336), (4166, 0.0), (4167, 0.0), (4168, 0.11202315524002866), (4169, 0.015682711256855858), (4170, 0.0), (4171, 0.02029769371350955), (4172, 0.0), (4173, 0.007876020401808148), (4174, 0.006775479308925299), (4175, 0.0), (4176, 0.0), (4177, 0.0), (4178, 0.0), (4179, 0.0), (4180, 0.0), (4181, 0.031109734458306545), (4182, 0.0), (4183, 0.0), (4184, 0.0), (4185, 0.005454942112666091), (4186, 0.011191376499283886), (4187, 0.008352589959963849), (4188, 0.011206156826329496), (4189, 0.0), (4190, 0.0), (4191, 0.0), (4192, 0.0), (4193, 0.010256735669900137), (4194, 0.007855871695447636), (4195, 0.00641003985311758), (4196, 0.013967699405102011), (4197, 0.03105154069948667), (4198, 0.0), (4199, 0.023123762223103535), (4200, 0.0), (4201, 0.0), (4202, 0.006801867653220526), (4203, 0.0), (4204, 0.0), (4205, 0.0), (4206, 0.0), (4207, 0.00798896463364575), (4208, 0.0), (4209, 0.0), (4210, 0.01143970965605473), (4211, 0.0110711398724971), (4212, 0.0), (4213, 0.0), (4214, 0.0), (4215, 0.0), (4216, 0.0), (4217, 0.0), (4218, 0.036738670931065226), (4219, 0.0), (4220, 0.0), (4221, 0.00650374421376351), (4222, 0.0), (4223, 0.0), (4224, 0.011030049241588456), (4225, 0.0), (4226, 0.0), (4227, 0.0), (4228, 0.0), (4229, 0.0), (4230, 0.0), (4231, 0.0), (4232, 0.0), (4233, 0.0051522026146889), (4234, 0.0), (4235, 0.0), (4236, 0.010430468647669444), (4237, 0.0), (4238, 0.03293417874323766), (4239, 0.0), (4240, 0.045031971016515224), (4241, 0.004810890229813232), (4242, 0.0), (4243, 0.0), (4244, 0.005572791333989847), (4245, 0.0), (4246, 0.0), (4247, 0.07973224465572235), (4248, 0.004835627183358008), (4249, 0.005019080962780122), (4250, 0.01765879376740664), (4251, 0.0), (4252, 0.007082544243908213), (4253, 0.0), (4254, 0.0), (4255, 0.004931184023590089), (4256, 0.0), (4257, 0.0), (4258, 0.0), (4259, 0.0), (4260, 0.0), (4261, 0.06800704818845044), (4262, 0.015284909696328123), (4263, 0.0), (4264, 0.04133379843247087), (4265, 0.0), (4266, 0.0170985336469456), (4267, 0.0), (4268, 0.023136315738985874), (4269, 0.006879808432826717), (4270, 0.0119671897720599), (4271, 0.00910871728152509), (4272, 0.010699656503268654), (4273, 0.0), (4274, 0.01121032626129902), (4275, 0.0), (4276, 0.025261439779998028), (4277, 0.006742620619568454), (4278, 0.0), (4279, 0.020425062656286488), (4280, 0.0), (4281, 0.0), (4282, 0.0), (4283, 0.03504131530439667), (4284, 0.0), (4285, 0.02559362772853423), (4286, 0.007782888138241808), (4287, 0.007605139574447773), (4288, 0.006525510312349485), (4289, 0.012004082108269035), (4290, 0.0), (4291, 0.0), (4292, 0.030836034473464915), (4293, 0.005428114792117701), (4294, 0.011551255164652264), (4295, 0.0), (4296, 0.0), (4297, 0.0), (4298, 0.0), (4299, 0.0), (4300, 0.006464072331239006), (4301, 0.0), (4302, 0.021296532969582775), (4303, 0.006159083753070841), (4304, 0.0), (4305, 0.0), (4306, 0.0), (4307, 0.0), (4308, 0.0), (4309, 0.0), (4310, 0.012238118660354763), (4311, 0.0), (4312, 0.02343158676655538), (4313, 0.0), (4314, 0.04586622065836987), (4315, 0.0), (4316, 0.0), (4317, 0.0), (4318, 0.0), (4319, 0.0), (4320, 0.0), (4321, 0.007008279508114579), (4322, 0.0), (4323, 0.006755935185002494), (4324, 0.0), (4325, 0.004511926118917393), (4326, 0.0), (4327, 0.0), (4328, 0.004544301191467769), (4329, 0.007558493714415168), (4330, 0.0), (4331, 0.0), (4332, 0.0), (4333, 0.00828329479268429), (4334, 0.03832394664705915), (4335, 0.08845210105469638), (4336, 0.0), (4337, 0.0), (4338, 0.021016799913324464), (4339, 0.01547854127023589), (4340, 0.0), (4341, 0.007608311852893833), (4342, 0.049642647842071744), (4343, 0.0), (4344, 0.05947273142180072), (4345, 0.004614131567492837), (4346, 0.019658838738505734), (4347, 0.006863537127166581), (4348, 0.0), (4349, 0.0), (4350, 0.0), (4351, 0.03238382983421794), (4352, 0.0), (4353, 0.010617168370718938), (4354, 0.006709662618165498), (4355, 0.0), (4356, 0.006846073074861452), (4357, 0.0), (4358, 0.0), (4359, 0.0), (4360, 0.0), (4361, 0.0), (4362, 0.0), (4363, 0.0), (4364, 0.02338097964850589), (4365, 0.0980311140804016), (4366, 0.024723205129540342), (4367, 0.0), (4368, 0.0), (4369, 0.0), (4370, 0.0), (4371, 0.0), (4372, 0.0), (4373, 0.016417781018985493), (4374, 0.006987628729192642), (4375, 0.0), (4376, 0.0049872566378561245), (4377, 0.0), (4378, 0.0), (4379, 0.005040016186687912), (4380, 0.0), (4381, 0.0), (4382, 0.0), (4383, 0.017004040260567517), (4384, 0.027774926251669642), (4385, 0.0), (4386, 0.0), (4387, 0.0), (4388, 0.007570076246828168), (4389, 0.0), (4390, 0.005054893737688674), (4391, 0.017124436476046806), (4392, 0.005122239446831609), (4393, 0.005487503557434065), (4394, 0.0), (4395, 0.0), (4396, 0.0), (4397, 0.0), (4398, 0.0), (4399, 0.013913916978436075), (4400, 0.0), (4401, 0.026098051558964178), (4402, 0.006806763870475354), (4403, 0.0), (4404, 0.0), (4405, 0.005829186836761599), (4406, 0.017923276011728728), (4407, 0.009628767959755745), (4408, 0.0), (4409, 0.0), (4410, 0.005119229938599493), (4411, 0.0), (4412, 0.0), (4413, 0.0), (4414, 0.0), (4415, 0.0), (4416, 0.0), (4417, 0.0), (4418, 0.008423792591943802), (4419, 0.01175771536976144), (4420, 0.0), (4421, 0.0), (4422, 0.0), (4423, 0.0), (4424, 0.0), (4425, 0.0), (4426, 0.0), (4427, 0.007353036964008217), (4428, 0.006090365160902042), (4429, 0.004223589061375258), (4430, 0.005093023537044313), (4431, 0.0), (4432, 0.004257709054619705), (4433, 0.024236243657338848), (4434, 0.07449474099794677), (4435, 0.004887640502525514), (4436, 0.005245394537795039), (4437, 0.006621587923266898), (4438, 0.07209465904301576), (4439, 0.01036581796586945), (4440, 0.006220931380172346), (4441, 0.0), (4442, 0.0), (4443, 0.0059590388060690265), (4444, 0.006372140563571067), (4445, 0.020230370238347326), (4446, 0.0), (4447, 0.004413257976326298), (4448, 0.0), (4449, 0.0), (4450, 0.0043120978139166545), (4451, 0.0), (4452, 0.0), (4453, 0.024350953176190047), (4454, 0.0073996450154987245), (4455, 0.0725481154969383), (4456, 0.011614954191380762), (4457, 0.006390296132662384), (4458, 0.0), (4459, 0.0), (4460, 0.008344246408952588), (4461, 0.0), (4462, 0.005497171924931462), (4463, 0.0), (4464, 0.0), (4465, 0.0), (4466, 0.045289632352624384), (4467, 0.044926918942341236), (4468, 0.06929784457258296), (4469, 0.0), (4470, 0.0), (4471, 0.0), (4472, 0.023495602267085497), (4473, 0.006411210729245761), (4474, 0.0), (4475, 0.0), (4476, 0.0), (4477, 0.005683049795523828), (4478, 0.006857322213122374), (4479, 0.049616789402881764), (4480, 0.0), (4481, 0.004647705610996545), (4482, 0.08349057817686664), (4483, 0.0), (4484, 0.0), (4485, 0.0), (4486, 0.0050420601679666685), (4487, 0.016694267999373787), (4488, 0.0), (4489, 0.0), (4490, 0.0345940953688136), (4491, 0.012271801977615309), (4492, 0.006890049477261605), (4493, 0.055723413231333896), (4494, 0.0), (4495, 0.0), (4496, 0.026589332390320693), (4497, 0.015413859516234356), (4498, 0.0), (4499, 0.0), (4500, 0.0), (4501, 0.006480070611160226), (4502, 0.0), (4503, 0.08074613001933435), (4504, 0.0), (4505, 0.0656062373614542), (4506, 0.0), (4507, 0.0), (4508, 0.0), (4509, 0.01116402034357181), (4510, 0.02267032152677097), (4511, 0.0), (4512, 0.0), (4513, 0.0), (4514, 0.0), (4515, 0.008191410196097086), (4516, 0.10293745413154753), (4517, 0.0), (4518, 0.0), (4519, 0.0051456587359859545), (4520, 0.0), (4521, 0.0), (4522, 0.0), (4523, 0.00613562083724417), (4524, 0.0), (4525, 0.0), (4526, 0.0073156227250587465), (4527, 0.0), (4528, 0.0), (4529, 0.0), (4530, 0.0), (4531, 0.0), (4532, 0.0), (4533, 0.006564313689606716), (4534, 0.004731110385356372), (4535, 0.026144792500107653), (4536, 0.0), (4537, 0.0), (4538, 0.02315078252635768), (4539, 0.0), (4540, 0.0), (4541, 0.0), (4542, 0.007277955789844897), (4543, 0.004685433923052989), (4544, 0.0), (4545, 0.0), (4546, 0.02190299138050383), (4547, 0.042775662000183), (4548, 0.0), (4549, 0.005396283280755273), (4550, 0.010933700958582876), (4551, 0.0), (4552, 0.0), (4553, 0.051359066753649284), (4554, 0.0), (4555, 0.08119286401953933), (4556, 0.0), (4557, 0.0119636015405157), (4558, 0.0), (4559, 0.0), (4560, 0.0), (4561, 0.0), (4562, 0.0), (4563, 0.0), (4564, 0.01085950379107491), (4565, 0.0), (4566, 0.0), (4567, 0.044403957091298116), (4568, 0.023366689110125093), (4569, 0.01293108938830937), (4570, 0.007667167491349462), (4571, 0.0), (4572, 0.0), (4573, 0.0047156600204716305), (4574, 0.007881900183450648), (4575, 0.0), (4576, 0.022562986038453747), (4577, 0.0), (4578, 0.0), (4579, 0.0), (4580, 0.0), (4581, 0.02848610914974871), (4582, 0.0), (4583, 0.0), (4584, 0.0), (4585, 0.0), (4586, 0.005065283330715323), (4587, 0.0343884232983392), (4588, 0.04212226480334125), (4589, 0.013200865999743978), (4590, 0.010947438083731604), (4591, 0.004524187525676781), (4592, 0.0), (4593, 0.0), (4594, 0.0), (4595, 0.0), (4596, 0.0), (4597, 0.005636128772273934), (4598, 0.005775154042991644), (4599, 0.0), (4600, 0.011188268857576213), (4601, 0.0), (4602, 0.0), (4603, 0.0), (4604, 0.0), (4605, 0.0), (4606, 0.006158360834608272), (4607, 0.0), (4608, 0.004316719368217637), (4609, 0.01135590061916189), (4610, 0.0), (4611, 0.0), (4612, 0.0), (4613, 0.03489482893064208), (4614, 0.0), (4615, 0.0), (4616, 0.0), (4617, 0.0), (4618, 0.0), (4619, 0.005367098031112962), (4620, 0.0), (4621, 0.0), (4622, 0.017986661724359348), (4623, 0.0), (4624, 0.0), (4625, 0.0), (4626, 0.12824082102518417), (4627, 0.0), (4628, 0.0), (4629, 0.005074531920540902), (4630, 0.02803507718281269), (4631, 0.005907176264631508), (4632, 0.06351202000807085), (4633, 0.0), (4634, 0.0), (4635, 0.0338292818944443), (4636, 0.0), (4637, 0.0), (4638, 0.015457124628449066), (4639, 0.007702770787323399), (4640, 0.0), (4641, 0.0), (4642, 0.005740649130072473), (4643, 0.006597579230836233), (4644, 0.0), (4645, 0.0), (4646, 0.00620215356913945), (4647, 0.004398713616787351), (4648, 0.0), (4649, 0.004467303395069306), (4650, 0.0), (4651, 0.0), (4652, 0.0), (4653, 0.0059474185245254), (4654, 0.0), (4655, 0.0), (4656, 0.005245446532168323), (4657, 0.0), (4658, 0.0), (4659, 0.01319300623937121), (4660, 0.020895073935002634), (4661, 0.05925238888909933), (4662, 0.025164898886453718), (4663, 0.006563110296417565), (4664, 0.0), (4665, 0.0), (4666, 0.006585620778503548), (4667, 0.0), (4668, 0.0), (4669, 0.0), (4670, 0.016231525618331907), (4671, 0.0), (4672, 0.0), (4673, 0.00471143141224855), (4674, 0.0), (4675, 0.0), (4676, 0.030634628579036816), (4677, 0.10913583921051268), (4678, 0.0), (4679, 0.006471748498152412), (4680, 0.0), (4681, 0.0), (4682, 0.004720116118859952), (4683, 0.01700192306895299), (4684, 0.012476196927694874), (4685, 0.0), (4686, 0.023371760249450098), (4687, 0.0), (4688, 0.0), (4689, 0.0), (4690, 0.0045618756361573256), (4691, 0.0), (4692, 0.0), (4693, 0.0), (4694, 0.0), (4695, 0.0), (4696, 0.0), (4697, 0.015750883245870605), (4698, 0.005868939049244833), (4699, 0.00830562113280021), (4700, 0.0), (4701, 0.0), (4702, 0.0), (4703, 0.012088033260044328), (4704, 0.0), (4705, 0.006954879271745627), (4706, 0.0), (4707, 0.0), (4708, 0.035053892448328836), (4709, 0.0066119929494245205), (4710, 0.0), (4711, 0.0), (4712, 0.0), (4713, 0.0), (4714, 0.049526241915563575), (4715, 0.0), (4716, 0.005041577185381878), (4717, 0.0), (4718, 0.0), (4719, 0.0), (4720, 0.0), (4721, 0.0), (4722, 0.0), (4723, 0.005947584601696632), (4724, 0.0), (4725, 0.03560950046714001), (4726, 0.005231135646194183), (4727, 0.005225682406192893), (4728, 0.0), (4729, 0.0), (4730, 0.020185379148116776), (4731, 0.0), (4732, 0.0), (4733, 0.004058822181336536), (4734, 0.0), (4735, 0.0), (4736, 0.0), (4737, 0.0), (4738, 0.0), (4739, 0.024930827224861625), (4740, 0.0), (4741, 0.005543152278863854), (4742, 0.012521001749460388), (4743, 0.004746325939329595), (4744, 0.0), (4745, 0.005018174870691369), (4746, 0.0), (4747, 0.005598331787729247), (4748, 0.0), (4749, 0.0), (4750, 0.0), (4751, 0.0), (4752, 0.008757374429414147), (4753, 0.0), (4754, 0.03845253420777005), (4755, 0.0), (4756, 0.015281504518665777), (4757, 0.007730439941270687), (4758, 0.0), (4759, 0.0)]\n"
          ]
        }
      ]
    },
    {
      "cell_type": "code",
      "source": [
        "len(Recommendation_Score)"
      ],
      "metadata": {
        "colab": {
          "base_uri": "https://localhost:8080/"
        },
        "id": "KxW3vf_lQjr_",
        "outputId": "8b7a9678-39ec-4df4-9ce8-5dd4d344f83b"
      },
      "execution_count": null,
      "outputs": [
        {
          "output_type": "execute_result",
          "data": {
            "text/plain": [
              "4760"
            ]
          },
          "metadata": {},
          "execution_count": 32
        }
      ]
    },
    {
      "cell_type": "markdown",
      "source": [
        "# **Get All Movies Sort Based on Recommendation Score wrt Favourite Movie**"
      ],
      "metadata": {
        "id": "jQk6GQxHFCj5"
      }
    },
    {
      "cell_type": "code",
      "source": [
        "Sorted_Similar_Movies = sorted(Recommendation_Score ,key = lambda x:x[1], reverse = True)\n",
        "print(Sorted_Similar_Movies)"
      ],
      "metadata": {
        "colab": {
          "base_uri": "https://localhost:8080/"
        },
        "id": "8thN_FGUQpgt",
        "outputId": "55bb9706-27ee-4235-a6de-ed7d5a4e662d"
      },
      "execution_count": null,
      "outputs": [
        {
          "output_type": "stream",
          "name": "stdout",
          "text": [
            "[(3693, 0.9999999999999998), (2451, 0.26683092175654993), (1908, 0.1983017823448728), (492, 0.18958974513872556), (3846, 0.17775989432429848), (3937, 0.17354393364540596), (2998, 0.17156381855159558), (3126, 0.17119179871786597), (977, 0.16239456273812877), (1664, 0.12885305140634135), (4626, 0.12824082102518417), (3128, 0.12811410918839325), (3323, 0.12691496245076547), (1413, 0.1266678672849487), (3718, 0.12444953439511093), (4168, 0.11202315524002866), (1057, 0.11151197361980487), (2795, 0.11140901004014075), (2477, 0.11128519690552865), (4677, 0.10913583921051268), (2273, 0.10707149523411427), (3959, 0.1066823463958258), (4077, 0.10526558421698042), (4516, 0.10293745413154753), (3790, 0.10226733284830163), (4096, 0.10117988116327979), (480, 0.09820441815001801), (4365, 0.0980311140804016), (3773, 0.09181396860787648), (1011, 0.09157485363844706), (3099, 0.09072127513906039), (963, 0.0895648059492591), (3185, 0.08912422141010644), (3908, 0.08861120916058317), (4335, 0.08845210105469638), (702, 0.08809580428765759), (2829, 0.08721622443389379), (3785, 0.08612646143706161), (822, 0.08548665136910354), (2440, 0.0846519997583131), (552, 0.0836976790337431), (4482, 0.08349057817686664), (726, 0.08269714642198613), (453, 0.082566603109574), (533, 0.08177144428864036), (4555, 0.08119286401953933), (4503, 0.08074613001933435), (3225, 0.08002794291157964), (4247, 0.07973224465572235), (3208, 0.07963516945329834), (3182, 0.07910627778086249), (3787, 0.0789800490720004), (1536, 0.07869932051959802), (3994, 0.07855246917837444), (3734, 0.07790806321798065), (1649, 0.07712988546293154), (2843, 0.07666617156809644), (3508, 0.07642257830165966), (4037, 0.07587577628316285), (3065, 0.07563314403004959), (245, 0.07464793718439802), (4434, 0.07449474099794677), (3472, 0.07441307797319618), (992, 0.07433400085981086), (3817, 0.07419744922506763), (1740, 0.07416338872566934), (872, 0.0737410451717295), (1467, 0.07298078169030195), (2321, 0.07260193405438464), (4455, 0.0725481154969383), (4438, 0.07209465904301576), (1627, 0.07063243671473676), (1041, 0.07058725507414873), (787, 0.07040651857352738), (3193, 0.07015581973877982), (889, 0.06933145155679216), (4468, 0.06929784457258296), (2573, 0.06868335416480917), (4261, 0.06800704818845044), (1247, 0.06784605952755046), (2512, 0.06782252202626043), (594, 0.06636724143402688), (1468, 0.06619854986683556), (700, 0.06614219306637857), (2442, 0.065976665647728), (817, 0.06564756683320919), (4505, 0.0656062373614542), (3907, 0.06551814563383057), (1437, 0.06542572113796905), (1593, 0.06528611885787813), (715, 0.06505275243093306), (3955, 0.06503969801386142), (902, 0.06477980779539573), (595, 0.06459778483337783), (3629, 0.06424649594030402), (204, 0.06397201373055593), (3096, 0.06368178018322022), (4632, 0.06351202000807085), (3854, 0.06273259230648812), (1293, 0.06262073566503568), (604, 0.062389575511201306), (1358, 0.06223826888661026), (2793, 0.06219982491343702), (2017, 0.06204200701919793), (199, 0.06185530868612865), (2232, 0.06184513160864734), (1554, 0.061347300863828794), (839, 0.06086533813345386), (73, 0.06044609511247606), (47, 0.06021314034542931), (3998, 0.060181106239911436), (4091, 0.05992491468271044), (353, 0.05965422483473218), (4344, 0.05947273142180072), (3392, 0.05939561815178841), (1754, 0.059344844922269685), (4661, 0.05925238888909933), (841, 0.05915317786512656), (3427, 0.05903682027091863), (3972, 0.05893314081999555), (2065, 0.058532397881537884), (1296, 0.05807919550860678), (932, 0.05776393308547083), (918, 0.05766255019247456), (3859, 0.057501335878355694), (1356, 0.057416891505495934), (1137, 0.05682641083093308), (135, 0.056687603829713946), (3372, 0.05657831793814097), (2206, 0.056142673496465026), (4493, 0.055723413231333896), (2235, 0.055356895904119276), (2833, 0.05524701414530017), (614, 0.05521499736618604), (537, 0.05504550837036059), (69, 0.05444129199394995), (1120, 0.05405709927048159), (2711, 0.053919545206655886), (2021, 0.05387461769245149), (1802, 0.053787241969999344), (3573, 0.05323307239608694), (3173, 0.053053900934202286), (1508, 0.05305377026986956), (1315, 0.05304811529229838), (3869, 0.05301068799305205), (1745, 0.052980725922284685), (143, 0.05285021864210322), (3331, 0.05284489408807456), (1115, 0.05234959132813565), (2422, 0.05229361202093959), (235, 0.05229081895965539), (39, 0.052220374513091875), (1505, 0.0520221164159007), (1274, 0.05154587452738471), (228, 0.051377013153178844), (4553, 0.051359066753649284), (3888, 0.051324633023727785), (517, 0.05123853670925499), (3747, 0.051075228636574516), (1396, 0.05057196345360991), (1330, 0.05049405835737275), (379, 0.05022523016859271), (1069, 0.0500319428697551), (4342, 0.049642647842071744), (4479, 0.049616789402881764), (4714, 0.049526241915563575), (2207, 0.04932029160541986), (2644, 0.049223732266602385), (2205, 0.04904935715465537), (1039, 0.048975952210494826), (171, 0.048841331195226045), (3022, 0.048796525504084795), (3614, 0.04876161065668935), (1546, 0.04874922472267676), (2501, 0.04859077636592352), (555, 0.04843694261618532), (1269, 0.04828020629051873), (3633, 0.04824807988958245), (410, 0.04820857166043005), (1195, 0.04815585308836702), (2622, 0.04807689520408648), (674, 0.04793636072846167), (46, 0.047823154502716674), (1810, 0.04749029814022707), (3105, 0.047432767687630946), (2713, 0.04737390923483273), (1102, 0.04722438156075536), (874, 0.04696200027786275), (3361, 0.046935495273959724), (4076, 0.04685618012296612), (1976, 0.046856064679787326), (191, 0.04675318899735449), (128, 0.04653169979306503), (3906, 0.04641550303085767), (3661, 0.04636997849798381), (4046, 0.045982241911728935), (4314, 0.04586622065836987), (248, 0.04583428609425944), (3048, 0.04582435789522034), (840, 0.045674281113150354), (1939, 0.04562133177192104), (4466, 0.045289632352624384), (3468, 0.04520527224075515), (27, 0.04518018847329852), (3692, 0.0451616171097685), (4240, 0.045031971016515224), (4467, 0.044926918942341236), (3114, 0.044704987628835936), (3891, 0.044675472117802185), (1031, 0.04459607234787318), (2365, 0.04449446011256363), (913, 0.044491593145833945), (3724, 0.04447466510887117), (2689, 0.044463205693342396), (4567, 0.044403957091298116), (1502, 0.04429371095980314), (3473, 0.04416294143427515), (497, 0.04412259230652638), (2708, 0.04409421926073202), (1250, 0.044091136021122884), (4153, 0.04406789609650671), (380, 0.04400350928017793), (2217, 0.04391055253375392), (4100, 0.04381480309525741), (516, 0.04372113842680251), (1651, 0.04358674972145504), (788, 0.04331545405765752), (3623, 0.043269030109154345), (3191, 0.0431815974019756), (4547, 0.042775662000183), (1125, 0.04272073364095931), (1503, 0.04267837057019773), (3180, 0.042614376660133735), (3709, 0.04239230818667698), (2679, 0.04219315660419374), (2824, 0.042145235956403994), (394, 0.04213663112288214), (4588, 0.04212226480334125), (2357, 0.04209502993175068), (2886, 0.04205153130351695), (1592, 0.04165107124931572), (3886, 0.041544906351502396), (747, 0.041340287743971506), (4264, 0.04133379843247087), (1082, 0.041194474067332516), (1696, 0.041130479754403336), (3825, 0.04109547056803362), (28, 0.04079000253541935), (1587, 0.04071510810956674), (554, 0.040687490259443626), (378, 0.04034705432340702), (1217, 0.04033507674947439), (2680, 0.040205975528846846), (147, 0.04019566084897372), (1466, 0.04007475736883688), (460, 0.03998825254915177), (364, 0.03996699248794206), (17, 0.03993349762607065), (1083, 0.03985344690214939), (3686, 0.039748060430903245), (3873, 0.039648790988969146), (1354, 0.039617117150079796), (763, 0.03959813975871063), (3484, 0.03953250541524634), (3560, 0.039395460029475096), (681, 0.03921449518701125), (2078, 0.03921304654157912), (1066, 0.03863078631501161), (4754, 0.03845253420777005), (733, 0.038451661442924535), (4334, 0.03832394664705915), (1386, 0.03821909357640889), (1459, 0.0381667369715118), (1871, 0.03785960931205998), (1387, 0.03767833508193274), (2330, 0.037623438272466066), (2496, 0.03757064581354452), (3989, 0.037428591053162964), (2216, 0.03706618246879777), (1823, 0.0368161085430784), (4218, 0.036738670931065226), (599, 0.03643972614659609), (1095, 0.03639796145276818), (561, 0.036358106295512754), (762, 0.03635639665419306), (809, 0.03626443556147074), (1212, 0.036184854145467814), (553, 0.03616571834214655), (1428, 0.03597684574999621), (1608, 0.035950394594968016), (3298, 0.035818199437140257), (2200, 0.0356919516073427), (4725, 0.03560950046714001), (4070, 0.0355910770307689), (3202, 0.03548512552512612), (4128, 0.03545458326399929), (3650, 0.035390295822707044), (1560, 0.03513482745511706), (4708, 0.035053892448328836), (4283, 0.03504131530439667), (4613, 0.03489482893064208), (3045, 0.03463789100866864), (4490, 0.0345940953688136), (4587, 0.0343884232983392), (3744, 0.03434811179484722), (2259, 0.034267273041312066), (3294, 0.03419990656151916), (4165, 0.034194388994525336), (1984, 0.03408038899772622), (4635, 0.0338292818944443), (4149, 0.03380276015731366), (3133, 0.03344718599607205), (2410, 0.0334147256928161), (3597, 0.033402019897348825), (1273, 0.033369188722655645), (491, 0.032994752135585434), (2724, 0.03294903937341892), (4238, 0.03293417874323766), (1529, 0.03280043681744869), (365, 0.03277265852140879), (3805, 0.03263322926038521), (1179, 0.03263272717976133), (305, 0.032605578697458656), (1700, 0.032581056968062495), (2818, 0.032530579187571934), (277, 0.03252837976091674), (3532, 0.03249489883366221), (3058, 0.03243520258412594), (2722, 0.032425589117110444), (1381, 0.032387800677776225), (2749, 0.03238543824035556), (4351, 0.03238382983421794), (193, 0.032204298432701284), (1263, 0.032184728881131504), (1557, 0.03200333941929435), (2013, 0.03186868050030522), (666, 0.03175908340661822), (3516, 0.03172505205714148), (1981, 0.03169473045424687), (3751, 0.03164924900888516), (3555, 0.03163190323332771), (472, 0.03162642823604758), (3469, 0.03160648494454281), (2038, 0.031548055135093574), (2479, 0.03151608597395973), (3800, 0.03137837038216468), (3057, 0.03136547196194593), (1165, 0.031280242930645935), (4001, 0.03123139545575874), (4181, 0.031109734458306545), (4197, 0.03105154069948667), (3771, 0.031029487108343978), (1366, 0.031008964388221233), (591, 0.0309945689371416), (2397, 0.03097801285169103), (2233, 0.030972296256952005), (1091, 0.030898107832167034), (4292, 0.030836034473464915), (2898, 0.03075624317548439), (2715, 0.030751093737592647), (1253, 0.03074379031010284), (891, 0.03072740774529869), (656, 0.030646207496495177), (4676, 0.030634628579036816), (4038, 0.030627242195766423), (2860, 0.030621075592872055), (1855, 0.03061222804651726), (2136, 0.03058796324609063), (3977, 0.030482013996461547), (1150, 0.03044123268331392), (756, 0.03041538772193002), (2979, 0.03037946675898018), (6, 0.030366100236839128), (2421, 0.030334877166648216), (438, 0.03031304277460119), (3834, 0.03019781630881635), (3131, 0.030195133226900754), (3685, 0.03013759897499002), (2729, 0.0301102288801295), (1280, 0.03005338921920747), (603, 0.030018848773577092), (3132, 0.02992279379772943), (1384, 0.029890680266883286), (1904, 0.02984732690999277), (314, 0.0298295340034838), (4155, 0.02975413190964937), (1675, 0.029732440354432538), (600, 0.029697628049345927), (3968, 0.02963800879859486), (3348, 0.02960515320666363), (2413, 0.02960458325709521), (65, 0.029524390532235684), (2094, 0.029504542632501272), (3134, 0.029456953122945984), (2691, 0.029362974190830903), (190, 0.029357790351556057), (4152, 0.029309457587980984), (3798, 0.029275173123165483), (3593, 0.029273110143575358), (2756, 0.029260428837556418), (1682, 0.02922693097662088), (189, 0.029226316510117187), (2944, 0.02921291611353666), (3743, 0.029202650576620498), (3795, 0.02919493706204482), (954, 0.02916927233046561), (45, 0.029155613483524467), (151, 0.0291545631487655), (150, 0.029144470104611468), (78, 0.029115485976727987), (3463, 0.029113982834929227), (95, 0.029032101618752873), (259, 0.02900356358237619), (572, 0.028933079925612646), (3840, 0.028932498382600275), (3690, 0.02884274379800804), (1111, 0.028840897250640547), (2955, 0.028820894657646215), (3604, 0.028802504523822086), (1108, 0.02879723794469828), (3159, 0.02875078320767383), (19, 0.028725472872995476), (749, 0.02866533514464302), (2277, 0.028609535305374384), (3467, 0.028583999082465325), (4041, 0.028546252200875012), (4581, 0.02848610914974871), (1971, 0.02846625739822362), (1246, 0.0284275721363701), (258, 0.02841579896360074), (1515, 0.02840712780210915), (1791, 0.02839672132949944), (466, 0.028394086578104376), (2521, 0.02839370190431469), (2725, 0.02839313929943572), (2178, 0.0283736071754354), (2927, 0.028306577484582304), (1151, 0.02829993456897513), (3367, 0.02826762115086017), (264, 0.028262073360571408), (1566, 0.028245889789414474), (4028, 0.028234717566761273), (583, 0.028234630607876565), (3982, 0.028216152201024088), (2269, 0.02821006820759226), (2848, 0.02819399742987488), (751, 0.02818733665815577), (1262, 0.028148000186596203), (2850, 0.02805064797284406), (1270, 0.028045083356137136), (368, 0.028038481507153185), (4630, 0.02803507718281269), (3063, 0.02800466539849446), (3835, 0.0279817006429161), (853, 0.02789737114950555), (613, 0.027818934326715023), (415, 0.027794205001014042), (4384, 0.027774926251669642), (3631, 0.027762842291977067), (2982, 0.02766129953178511), (1925, 0.027644475251846934), (1281, 0.02763889045332504), (2544, 0.027612731919803173), (90, 0.027598665765368922), (567, 0.02752217155783621), (1588, 0.02749508349325828), (1249, 0.027454493859607788), (152, 0.02740818308744751), (1645, 0.02726531363025627), (261, 0.027230010016409026), (390, 0.027164093510422208), (3398, 0.027139276338746094), (1735, 0.0270432215336373), (93, 0.027031912122250673), (1154, 0.026991002271479533), (545, 0.026986499198924516), (3965, 0.026954383915436197), (3001, 0.02693548222736048), (207, 0.026864045481186864), (2950, 0.026820659713297255), (260, 0.026769479680728247), (520, 0.026729257365671145), (263, 0.026708368248743335), (2539, 0.02666794178037746), (2987, 0.02666570112483777), (2070, 0.026639736057255968), (3783, 0.026619125829687854), (802, 0.026595463525966992), (4496, 0.026589332390320693), (1579, 0.02652895689004582), (878, 0.026410846205833914), (1327, 0.026409896650109066), (3247, 0.026382500937155707), (3100, 0.02636349964209809), (565, 0.026360692089007896), (1657, 0.026345592306503497), (1887, 0.026325264226905273), (981, 0.026261610836851128), (587, 0.026156860000673503), (4535, 0.026144792500107653), (478, 0.02614099374404299), (4401, 0.026098051558964178), (405, 0.026057351734472628), (1140, 0.026025196119871953), (3340, 0.025994548902760598), (1852, 0.025949507839431864), (333, 0.0259466734234531), (2852, 0.02594183440281895), (3923, 0.02593269927367546), (1905, 0.02592969821306318), (94, 0.025918061349634345), (2688, 0.025907465204931444), (80, 0.025860089331778434), (1982, 0.02585096366296181), (250, 0.025846432894966728), (686, 0.025816367491023638), (2125, 0.02581259278312784), (397, 0.0258051556354423), (75, 0.025802205964653647), (1391, 0.02576906054113741), (4285, 0.02559362772853423), (67, 0.02559260646652214), (2790, 0.02555594017769026), (2231, 0.025524766835742407), (141, 0.025515628115604906), (1233, 0.025467234798900205), (3953, 0.02544183970975891), (1134, 0.025440214661073792), (792, 0.025299357211517878), (1014, 0.025267473227270222), (4276, 0.025261439779998028), (506, 0.02523924221557092), (1, 0.02520892066809871), (4662, 0.025164898886453718), (3893, 0.0250954989604981), (4132, 0.025004639685491582), (645, 0.02498530073852675), (1348, 0.02495389830911743), (4739, 0.024930827224861625), (2180, 0.024930098200758997), (1677, 0.02491401190150782), (2283, 0.024892884579260696), (2337, 0.024730574157343796), (4366, 0.024723205129540342), (3728, 0.024699527257616472), (1013, 0.024681707546174013), (2938, 0.024634418388699238), (1215, 0.024583423479434496), (2114, 0.024558151941150463), (3776, 0.024535379187604435), (1772, 0.024491097761188116), (1334, 0.02441522250640859), (2605, 0.024384069545079948), (4453, 0.024350953176190047), (2513, 0.024320971583791554), (2497, 0.024303331855004995), (234, 0.024290292486335914), (3867, 0.024263790871786435), (1911, 0.024257429907607153), (4433, 0.024236243657338848), (2561, 0.024235469453378723), (3162, 0.024223432151815678), (3594, 0.02421013137227702), (2746, 0.02418247684790747), (3043, 0.024179126606830487), (3051, 0.024170763470539237), (439, 0.024163111540374538), (3351, 0.024106931040459828), (601, 0.02407671299141903), (1486, 0.024018291076036348), (3453, 0.02398820034361549), (3405, 0.02398794909324654), (1155, 0.023956257823749903), (1799, 0.02388648267512202), (3802, 0.02388075188305805), (2033, 0.023852969808600064), (44, 0.023847497044951114), (102, 0.023826936187327445), (76, 0.023801624631733402), (377, 0.02379880508170586), (3181, 0.023765524799263894), (1220, 0.02375054569212252), (1498, 0.023745738056225422), (1210, 0.023732469837714834), (1056, 0.023728776699217476), (969, 0.02371059288379252), (2030, 0.023706816682898885), (1265, 0.023703435086624456), (3518, 0.023673319886999555), (303, 0.02366610354947276), (2500, 0.023641769492807444), (1241, 0.023550969698864645), (579, 0.02354839275836054), (4472, 0.023495602267085497), (2571, 0.023483294568382086), (4312, 0.02343158676655538), (2390, 0.02341471111398785), (3155, 0.023389044050695112), (4364, 0.02338097964850589), (4686, 0.023371760249450098), (4568, 0.023366689110125093), (2804, 0.02336593901732837), (3059, 0.02336423635514667), (1872, 0.023361753373716158), (3850, 0.02330723764480585), (2111, 0.023297095574959018), (79, 0.023285958121840603), (736, 0.02325284021728631), (1022, 0.023251958471572878), (3997, 0.023218013009824887), (495, 0.023193530242276487), (1341, 0.023164065135155367), (4538, 0.02315078252635768), (4268, 0.023136315738985874), (4199, 0.023123762223103535), (1530, 0.02311322853154564), (2584, 0.023100925067120352), (704, 0.023094895316769493), (370, 0.0230605505936828), (220, 0.023057288720915396), (602, 0.023043305153157063), (2287, 0.022985076538439904), (1256, 0.022949480060781985), (57, 0.022905053736300748), (1783, 0.022870017514114424), (3513, 0.022850163242222762), (2493, 0.022843712929252673), (2069, 0.022823998872251935), (1550, 0.022776127544877962), (1110, 0.022703818656626545), (89, 0.022702549138842336), (4510, 0.02267032152677097), (3966, 0.02266883081716941), (2484, 0.022656432015791286), (1469, 0.022577901879922778), (4576, 0.022562986038453747), (3641, 0.022559434153024964), (546, 0.022537550665550535), (1379, 0.022536460610426884), (3141, 0.0225046015187095), (503, 0.022468903239811964), (3811, 0.022421183308573563), (779, 0.022415913705231674), (1618, 0.022365466049625422), (3160, 0.02232633409625374), (1969, 0.02229071629163156), (2552, 0.022236229253478606), (648, 0.02222720132015903), (1590, 0.022160690710774103), (511, 0.022136539081216117), (2091, 0.02211284498970381), (106, 0.022108362312596122), (2061, 0.022089542995629336), (3549, 0.02208931619324963), (3332, 0.022070461260226628), (1152, 0.02204986092981), (2620, 0.022040758711363902), (1860, 0.0219657841620856), (590, 0.021920552443833074), (3656, 0.02191894739319477), (4546, 0.02190299138050383), (903, 0.02189578735812685), (1074, 0.021876281155071682), (2055, 0.021848117941700627), (1129, 0.02181752492611956), (2227, 0.02179022517042019), (886, 0.021778397465586335), (3215, 0.021744988807457507), (2450, 0.021714671097504825), (619, 0.021708212358768145), (1693, 0.021687022605382644), (3270, 0.02166748234855959), (2286, 0.021654824291421442), (3584, 0.021624198293820028), (745, 0.021597046102732463), (3550, 0.021578360227012115), (375, 0.021553668110819556), (1581, 0.02155032534145311), (3705, 0.021521470028822577), (1606, 0.021487225555968638), (1605, 0.021486786540161784), (1306, 0.021465112777383017), (3589, 0.021421962078899046), (912, 0.021373249237813984), (84, 0.02135393576471456), (1004, 0.02131774750086805), (2593, 0.021310637683794622), (4302, 0.021296532969582775), (3368, 0.021292820346505027), (1653, 0.02126774954088235), (3150, 0.02106660551321914), (3720, 0.021046508992518205), (2432, 0.021021904867423606), (4338, 0.021016799913324464), (2687, 0.021013763538729694), (1230, 0.020933349094343898), (995, 0.02092394308076139), (3231, 0.02091759371251394), (1842, 0.02089803223588483), (4660, 0.020895073935002634), (1285, 0.020879974476198035), (3595, 0.020866415125696768), (1161, 0.020850342071007808), (3605, 0.020849143159398186), (3480, 0.020840902902847493), (268, 0.020718998088991632), (4045, 0.02069293312105923), (252, 0.020690842293919494), (91, 0.020679463556612647), (4106, 0.020679316077660395), (3123, 0.020668565625669898), (88, 0.02061930469619863), (3089, 0.02058787483000315), (2841, 0.020558517122539338), (396, 0.020525159276821615), (2145, 0.02051381817313342), (3502, 0.020509833772794354), (2899, 0.020501614955149655), (1838, 0.020496414666157488), (4279, 0.020425062656286488), (956, 0.020422038988338363), (2837, 0.02041382242811271), (3910, 0.020394571597357067), (257, 0.020394348373606378), (64, 0.020357379217439804), (2682, 0.020347836064953544), (60, 0.020345206676449363), (2660, 0.02033698893761382), (4171, 0.02029769371350955), (4445, 0.020230370238347326), (4730, 0.020185379148116776), (2303, 0.02014429459033461), (1181, 0.020109121806793133), (3528, 0.020090190692227214), (2177, 0.0200816353293962), (3520, 0.01999423377166619), (160, 0.01999029160104145), (1222, 0.019937968138745658), (414, 0.019760793303189986), (2208, 0.019755783579009936), (842, 0.01973861436221086), (2058, 0.01968108951788688), (1225, 0.019663785457940675), (4346, 0.019658838738505734), (101, 0.019616780561535034), (997, 0.019614538230316936), (3408, 0.01959544790468883), (1672, 0.01955278007512926), (1678, 0.019475124852222907), (1079, 0.019437021764290047), (990, 0.019435330615810223), (412, 0.019430647930272747), (249, 0.01936746593914836), (3849, 0.019359988777200816), (1948, 0.01933908996209166), (449, 0.019317215453451584), (3928, 0.019294033941173034), (1944, 0.019293788472288444), (1938, 0.01925792989187383), (713, 0.019221206867044163), (3575, 0.01921431501344418), (2326, 0.019085916872751203), (815, 0.019081906069221187), (2781, 0.019081730801621517), (1716, 0.01900352141239523), (1798, 0.0189933318397909), (3158, 0.018991892137900944), (3385, 0.018991416038692758), (528, 0.018979339605881947), (2316, 0.01895059363958919), (2447, 0.018940785017413024), (54, 0.01892945043394758), (3080, 0.018887275617267534), (284, 0.0188359345461857), (663, 0.01883289621963747), (1836, 0.01881400313325083), (3688, 0.018775655912599866), (3797, 0.018751094944777107), (3342, 0.018747323867359014), (315, 0.018696998048671382), (1007, 0.018625600176010233), (946, 0.018548839680731947), (1046, 0.01852399309080935), (3714, 0.018521289821115502), (1559, 0.018485253258970165), (3515, 0.018422806319331148), (4087, 0.018420301379010635), (3889, 0.01837696496472749), (3393, 0.01836979627173942), (322, 0.018354722413182825), (1535, 0.018339024934697367), (952, 0.018317192887991746), (2599, 0.0183142223035354), (430, 0.018238215282102097), (3916, 0.018199907499514795), (1846, 0.01815790477800614), (1575, 0.01814310744525664), (413, 0.018094153321697903), (321, 0.018091805195291657), (1266, 0.01805001057179291), (82, 0.0180483247465979), (2086, 0.0180472170085006), (1205, 0.018029618397342358), (74, 0.018021473142314087), (4015, 0.01799056991692652), (4622, 0.017986661724359348), (4054, 0.017967483857719214), (3897, 0.017965730809152588), (4406, 0.017923276011728728), (2549, 0.017919197717514948), (2439, 0.017905726364969857), (837, 0.017857157427587887), (3305, 0.017856057448488696), (1207, 0.017807318965903516), (1412, 0.017741547279561412), (1164, 0.01773367566442439), (3919, 0.017713501526822283), (1374, 0.01770509751956568), (2090, 0.01768484074711151), (440, 0.017668968379372582), (4250, 0.01765879376740664), (1613, 0.01762529630514837), (1221, 0.01757241197274484), (1895, 0.017558922999353566), (606, 0.017497657472906544), (778, 0.017438310631890122), (3233, 0.017432177650452567), (509, 0.017377286138423972), (3542, 0.017337116881903713), (1003, 0.01732010899473027), (750, 0.017263003379859396), (9, 0.017249233426560023), (2093, 0.017238968964590023), (1101, 0.017223379329162226), (1361, 0.01721250420815452), (3576, 0.017209923574289965), (2278, 0.0171905449798899), (1991, 0.01718965608744249), (306, 0.017173783239977366), (4014, 0.017144799624800446), (4391, 0.017124436476046806), (1987, 0.017109944303858347), (4266, 0.0170985336469456), (283, 0.01709401823549687), (0, 0.017091993412892234), (569, 0.017078936973800234), (418, 0.017075106670045574), (3276, 0.017025153633299085), (4383, 0.017004040260567517), (347, 0.017002233200799476), (4683, 0.01700192306895299), (2766, 0.01694782404014622), (389, 0.01686956986728761), (22, 0.016824890844146304), (2280, 0.016785582633285157), (1295, 0.016778754159498966), (2471, 0.016750348655076144), (501, 0.016737944872088743), (769, 0.016723031785763207), (4487, 0.016694267999373787), (1788, 0.016636851259313256), (1097, 0.016617960905607264), (661, 0.01659698313694712), (2275, 0.01655626269616749), (3625, 0.016494962335810034), (155, 0.01647932799839053), (571, 0.016468030271480368), (1966, 0.01646513855215987), (1245, 0.016425252530720854), (4373, 0.016417781018985493), (2062, 0.01640749296828105), (1146, 0.01638400499730724), (2828, 0.016379000478237732), (4139, 0.016362903213594435), (1864, 0.01629788888167636), (3232, 0.01629702778461329), (3900, 0.016294036328959215), (427, 0.0162532122988951), (367, 0.016232780395667164), (4670, 0.016231525618331907), (2937, 0.01619527412801688), (3578, 0.01619120848286217), (36, 0.016167901266641693), (1764, 0.0161570862836611), (2618, 0.016138239883677623), (738, 0.016135773415420843), (2822, 0.016086520597211985), (130, 0.01606175498488653), (2995, 0.016059496205971906), (812, 0.016021973468119226), (3021, 0.01599217486051286), (1756, 0.01597909888545461), (1309, 0.015952803736642793), (31, 0.015936148662497367), (307, 0.01589418873732262), (1903, 0.015851060971168306), (2578, 0.015838702321758356), (288, 0.0158295377713297), (3452, 0.015800733320290337), (1934, 0.015797462750842834), (1662, 0.01579289746924382), (1433, 0.01576448797915432), (4697, 0.015750883245870605), (4169, 0.015682711256855858), (622, 0.015644011975310457), (4063, 0.015637885530841607), (15, 0.015629363921579476), (1477, 0.01562924269019076), (3079, 0.015616450948774962), (640, 0.015604282925929778), (3389, 0.015584317318109579), (2666, 0.015576909061747189), (781, 0.015504830255996511), (4339, 0.01547854127023589), (1584, 0.015474796523243437), (1055, 0.015472425354068934), (776, 0.015465722627303242), (4638, 0.015457124628449066), (475, 0.015440603012069934), (4497, 0.015413859516234356), (570, 0.015404661778901065), (469, 0.015404075680621684), (3047, 0.0153873347880402), (2265, 0.015382886537194225), (2034, 0.015356722610637988), (1171, 0.015349251047308544), (4154, 0.015311590828249642), (4262, 0.015284909696328123), (4756, 0.015281504518665777), (3630, 0.015270259534281152), (3635, 0.01524844988375123), (2988, 0.015184674483351356), (1750, 0.015143479803926748), (1777, 0.015125336225971245), (3201, 0.015103726377145599), (3068, 0.015057100725313506), (115, 0.015054174772727007), (1958, 0.015027667812658175), (3303, 0.014982271767728735), (3060, 0.014965432838234953), (658, 0.014950155624888089), (2188, 0.014920520089433021), (4086, 0.014906327142150823), (187, 0.01486314257771535), (294, 0.014841315912968125), (2559, 0.014826180982316965), (2075, 0.014778049904852644), (3742, 0.014745197584077725), (376, 0.01471943094745081), (625, 0.014582039817012107), (2527, 0.01457386857599206), (3090, 0.014477513609927661), (2740, 0.01444335939112409), (4142, 0.014419438563053975), (856, 0.014409318407951172), (1780, 0.014406142908191352), (1968, 0.014357506257903255), (2530, 0.0143347176802662), (2720, 0.014328844912770962), (3634, 0.014326788293459628), (1932, 0.014303919697426545), (2468, 0.01428463397862374), (2646, 0.01421581043921272), (3559, 0.01420287050884675), (753, 0.014172101274510152), (1767, 0.014142884436699052), (2355, 0.014126850977218573), (477, 0.01411269827323743), (3868, 0.014087026921172988), (2221, 0.014086929840263515), (2789, 0.014084838984978608), (3272, 0.014020086513231056), (2770, 0.014012286212298893), (1915, 0.014001331055011971), (4196, 0.013967699405102011), (3957, 0.013966778995811155), (2130, 0.013924647460245146), (4399, 0.013913916978436075), (1706, 0.01390069825074203), (1600, 0.013841975248446525), (2018, 0.01382121362928146), (3071, 0.013789983262859079), (3448, 0.01368172049916028), (3206, 0.013645681848253027), (1258, 0.01364382882703477), (2854, 0.013577852802294524), (877, 0.013550858006540937), (688, 0.013543302834985508), (2895, 0.013499878641054567), (1524, 0.013483750889710948), (3563, 0.013418315129510474), (1840, 0.01339541617520905), (2567, 0.013383691297423752), (302, 0.013381186563892145), (1701, 0.013380432184983167), (2931, 0.0133177910681172), (563, 0.01327567606420629), (3642, 0.013257456305666318), (153, 0.013255657414570582), (2100, 0.013246043929299862), (2707, 0.013236950768035237), (1118, 0.013235635833844177), (1697, 0.013204153838409264), (4589, 0.013200865999743978), (4659, 0.01319300623937121), (1547, 0.013135821272288102), (3172, 0.01313256537456395), (2427, 0.0131006162335322), (1537, 0.013089247355278041), (1398, 0.013056034791532492), (2963, 0.01305371965334529), (3419, 0.013015598561037088), (1321, 0.012980219882277343), (369, 0.012968320230669635), (3464, 0.012957111897269124), (4569, 0.01293108938830937), (4033, 0.012897785320200698), (3259, 0.012893480533482871), (2472, 0.012868580153028875), (3121, 0.012864676758408439), (2198, 0.01285231509640403), (2555, 0.01282534878464247), (1713, 0.012806905982385097), (424, 0.012805842484129993), (845, 0.012799211789148654), (425, 0.012794731991497915), (77, 0.012770856222441583), (1229, 0.012763602098429413), (357, 0.01270468287597244), (2066, 0.01268761509197221), (247, 0.012683561632765487), (2710, 0.012681099985924997), (920, 0.012645891249867723), (2672, 0.012641255672002565), (1308, 0.012638236607944484), (2164, 0.012623824168780278), (2356, 0.012607961597006138), (2981, 0.012576710974451302), (2381, 0.01257462547651818), (41, 0.012549676427562897), (4742, 0.012521001749460388), (2574, 0.012504498167840427), (3062, 0.012503892058650759), (1240, 0.012499531835063953), (1408, 0.012493444882024671), (908, 0.012489686588139853), (1460, 0.012485755380705718), (4684, 0.012476196927694874), (2035, 0.012472308874703398), (550, 0.012457508303742777), (1122, 0.012446896016552208), (2428, 0.012446648265855207), (3697, 0.012425018523842944), (2095, 0.012388810286031015), (875, 0.012378542150785748), (195, 0.012374819106436506), (196, 0.01236610870839968), (2877, 0.012360262715630314), (1219, 0.012357823724160291), (3327, 0.01235590941029596), (1335, 0.01234746620766836), (3628, 0.012333283682982091), (709, 0.012328278595523297), (4130, 0.012327188597602894), (635, 0.012313475907713731), (1062, 0.012310190262119873), (451, 0.012278542130440797), (3163, 0.012275773414804705), (4491, 0.012271801977615309), (4310, 0.012238118660354763), (1894, 0.012221663809058234), (2888, 0.012217127972696903), (3056, 0.012196565384223009), (7, 0.012172545685827589), (3807, 0.012161630112580271), (232, 0.012143143158552349), (3586, 0.012137749024667925), (4703, 0.012088033260044328), (1090, 0.012085120474359976), (3782, 0.012080811274277323), (1705, 0.012077272218708912), (2940, 0.012054775834990324), (1812, 0.012048018325169935), (1257, 0.012047343750641596), (3438, 0.012040348755721422), (1324, 0.012030699352289079), (826, 0.012028284251332361), (2522, 0.012020178159509027), (4289, 0.012004082108269035), (1572, 0.012000688137670776), (1206, 0.011991678191120764), (3979, 0.011974290325601645), (208, 0.011973829128168224), (4270, 0.0119671897720599), (4557, 0.0119636015405157), (1099, 0.011959300220391326), (1436, 0.011933298651097123), (242, 0.01192665263634463), (2239, 0.011925596030537423), (1695, 0.011916468025841809), (1650, 0.011895050177904808), (1380, 0.011894542417493697), (1328, 0.011893467338315655), (1185, 0.011882301550341286), (1850, 0.011881532770720899), (1035, 0.011876996540128238), (1570, 0.011861152128104156), (1044, 0.011843326897608352), (1603, 0.011835785151405381), (716, 0.011826915813424266), (231, 0.011826788605014035), (320, 0.011823730893452587), (2640, 0.011800679814866918), (3870, 0.011790875243208165), (1076, 0.011784895463200367), (55, 0.011784699888933322), (2015, 0.011776808339059072), (2352, 0.011772690843965487), (201, 0.01176707712202529), (4419, 0.01175771536976144), (1841, 0.011730365154434404), (793, 0.011712992026065386), (3124, 0.011709453701607586), (2016, 0.011708365059177573), (615, 0.011683078171934279), (1470, 0.011673983977000067), (854, 0.011667668764143959), (1244, 0.01163343062114965), (2706, 0.01162296438413316), (59, 0.011620019210846162), (4456, 0.011614954191380762), (2353, 0.011612031234873789), (827, 0.0115982127035555), (631, 0.011596295522161237), (1818, 0.011585398177258392), (118, 0.01157233866179721), (1045, 0.01156486558097883), (1254, 0.011559029584550913), (1901, 0.011558765925860146), (4294, 0.011551255164652264), (58, 0.011550365243935453), (2285, 0.011542793582320257), (1936, 0.011526979581573674), (1931, 0.011523306991530027), (3486, 0.011515535897868794), (2444, 0.011504360370753808), (2960, 0.01150313928373538), (56, 0.011482975505571763), (3404, 0.011474885751137828), (2045, 0.011461971562950101), (919, 0.011461441841376357), (592, 0.011455089086259185), (1440, 0.01145248310015217), (4210, 0.01143970965605473), (2647, 0.011423054324727648), (945, 0.011420051543811309), (714, 0.011411781274685947), (3199, 0.011401074465648888), (1611, 0.011397846582072383), (3360, 0.011394655441447006), (1522, 0.011389009261457767), (2554, 0.01137770922893705), (1577, 0.011376827456648059), (690, 0.011374900176459864), (1945, 0.011363985585015392), (4609, 0.01135590061916189), (2067, 0.011346179965929685), (1346, 0.011342803668829133), (2153, 0.0113400167382031), (4103, 0.011339402350205674), (2826, 0.011338594298843397), (2506, 0.011314992508881301), (2777, 0.011312395676281187), (2760, 0.01130018280945996), (3993, 0.01129571341311194), (3626, 0.011295290648435628), (1385, 0.011292555616644443), (4099, 0.01127539234103634), (849, 0.01127093188472747), (2315, 0.011268725828428704), (1357, 0.011266589466392314), (965, 0.011253707802641637), (2274, 0.011249146804911993), (2014, 0.011217433710348858), (4056, 0.0112174272325609), (610, 0.011213565819965226), (4274, 0.01121032626129902), (4188, 0.011206156826329496), (3963, 0.01119394688195285), (4186, 0.011191376499283886), (4600, 0.011188268857576213), (1604, 0.011182221636441874), (1714, 0.01117770235103737), (237, 0.011175553112126051), (1012, 0.011172738467133871), (4509, 0.01116402034357181), (2847, 0.011135304257111903), (2298, 0.011129458132697334), (2443, 0.011128427765809964), (467, 0.011117725877041077), (4211, 0.0110711398724971), (119, 0.011065104539649265), (539, 0.011036455223403987), (3454, 0.011032427869536688), (4224, 0.011030049241588456), (2616, 0.011027457604092697), (4112, 0.011008746827738121), (334, 0.011001000843257433), (1350, 0.01098611796822695), (2103, 0.010982053417011419), (4590, 0.010947438083731604), (292, 0.010942449999334854), (4550, 0.010933700958582876), (2150, 0.010921777479867048), (1063, 0.010897169013683868), (1113, 0.010887710447079948), (1368, 0.01088181863778118), (2642, 0.010866224828478297), (3582, 0.010865018647229148), (3156, 0.010862771304852623), (4564, 0.01085950379107491), (915, 0.010852674823025965), (3917, 0.010849226669878937), (310, 0.010836052027138051), (3786, 0.010821504738071655), (2117, 0.010818364180849822), (3568, 0.010816358488312073), (2641, 0.010807562046917789), (687, 0.010793826665930767), (1552, 0.010783252033535723), (498, 0.010752193642677536), (1001, 0.010749154590509487), (926, 0.01074404920748796), (3700, 0.010712813980560305), (4272, 0.010699656503268654), (911, 0.010684944366978288), (966, 0.010648776468217517), (3525, 0.010628757391131814), (4353, 0.010617168370718938), (4114, 0.010610559570603606), (3684, 0.010610212069985449), (2139, 0.01058515021434445), (548, 0.010576228917684309), (2842, 0.010570202565378354), (3135, 0.010563487688746313), (468, 0.010553889575499513), (426, 0.010549099626075198), (1898, 0.010545923734783219), (3136, 0.010519043895796401), (417, 0.010476145379665812), (1135, 0.010465985887177568), (568, 0.01046035531921957), (316, 0.01045274166749174), (4236, 0.010430468647669444), (4094, 0.010426450808331655), (2124, 0.010426332700908914), (1789, 0.010414600891237531), (540, 0.010409192286133899), (35, 0.010406853372145645), (382, 0.010373468909374118), (4439, 0.01036581796586945), (621, 0.010344032605257132), (821, 0.010329149641962656), (37, 0.010295846787836252), (3658, 0.010273372603715629), (2803, 0.010263781509508872), (4193, 0.010256735669900137), (1567, 0.01021651382378969), (1173, 0.010206519986227881), (1809, 0.010192808786725467), (1310, 0.010179302250880732), (3142, 0.01017769013086616), (4055, 0.010172636007486052), (3600, 0.010169950682014959), (2426, 0.010165653625288235), (327, 0.010117345791120173), (3024, 0.010113498896002705), (2185, 0.0101037438009642), (323, 0.010088563066591753), (2025, 0.010085180575512963), (2389, 0.010060285458761382), (519, 0.009958204716043648), (1283, 0.009918359892785472), (2237, 0.009896592337496719), (32, 0.00989045597026908), (1797, 0.009887695450958727), (2433, 0.009876567312927853), (1301, 0.009853339475643406), (3574, 0.009852130718413314), (2718, 0.009842313601606778), (719, 0.009821892889690185), (2281, 0.009766149849458816), (165, 0.009749716686230727), (692, 0.009747838714438779), (3129, 0.009689881332307318), (496, 0.009628906527766153), (4407, 0.009628767959755745), (3219, 0.00962010121496432), (725, 0.009594276303042902), (1352, 0.009580276395093932), (1458, 0.009545715264996008), (639, 0.009523660011271596), (3657, 0.00951764835280456), (2296, 0.009474201232345639), (2127, 0.00946812324906629), (1805, 0.009230866868713368), (1326, 0.009206904912804376), (290, 0.009203336824659718), (295, 0.009197661795418494), (1709, 0.009120452546450018), (4271, 0.00910871728152509), (2857, 0.009086692231449861), (2851, 0.009056913571279747), (289, 0.009052018682425254), (3980, 0.009047819840289333), (2774, 0.009012325614117323), (2488, 0.008996316914010365), (63, 0.008976079835230983), (1886, 0.00896429370002938), (2010, 0.008906692743357062), (929, 0.008819211955722066), (4752, 0.008757374429414147), (3610, 0.008694253060420466), (627, 0.008685003695047244), (672, 0.008675241485041845), (3526, 0.008670601729382183), (1418, 0.008669262853969375), (2406, 0.00864674070849856), (1940, 0.008603582739550553), (542, 0.008573248632455907), (2884, 0.008497756494229038), (452, 0.00849451335503159), (3506, 0.008490113816244283), (679, 0.008483727696169436), (2187, 0.008448493155455204), (3117, 0.008438928787904618), (2952, 0.008424682146750165), (4418, 0.008423792591943802), (2079, 0.008403365059970611), (3205, 0.008389301611229005), (4187, 0.008352589959963849), (4460, 0.008344246408952588), (2400, 0.00832601945907824), (3439, 0.008319187917638828), (4699, 0.00830562113280021), (4333, 0.00828329479268429), (2324, 0.008275463731071835), (1489, 0.008271630006190567), (2921, 0.008236928421344741), (4515, 0.008191410196097086), (1923, 0.008175417847931783), (385, 0.008149006181460156), (2112, 0.008124819631054698), (2375, 0.008087105266270806), (4097, 0.008061383133643817), (3497, 0.008042993169790352), (896, 0.008041681451534223), (3813, 0.008031936629489873), (3638, 0.007996723773646878), (4207, 0.00798896463364575), (3269, 0.007962792215884869), (3086, 0.007952170030113425), (914, 0.007941494888447186), (2494, 0.007936509467894853), (1518, 0.00792812920992716), (2661, 0.007902372385452074), (485, 0.007888741176350307), (3774, 0.007882613151785617), (4574, 0.007881900183450648), (4173, 0.007876020401808148), (227, 0.007867128200433416), (2391, 0.00786226178955654), (3780, 0.007859828022356146), (1119, 0.007859412046832038), (4194, 0.007855871695447636), (2393, 0.007855807459348498), (1737, 0.007852333721429815), (2817, 0.007849403755756667), (1051, 0.007844196073784452), (3109, 0.007839931502616939), (612, 0.007815685175434153), (2147, 0.007813532352460408), (384, 0.0078115418652617615), (456, 0.0077991945374964195), (1116, 0.0077985154603656525), (205, 0.007794827778186507), (2453, 0.007786904895501485), (2196, 0.007784547849680471), (4286, 0.007782888138241808), (1918, 0.007775588866430877), (3388, 0.007755939225319067), (1902, 0.007737488899169954), (3189, 0.007734031780997396), (4757, 0.007730439941270687), (2054, 0.007729580537562691), (3242, 0.007728590931878614), (1402, 0.007719136617327763), (2675, 0.007716797840003492), (4639, 0.007702770787323399), (270, 0.007698732128640305), (3018, 0.007687601212587263), (797, 0.007682563111051234), (2531, 0.007671797069044529), (4570, 0.007667167491349462), (4089, 0.007664749479234299), (1534, 0.007661083443548354), (2405, 0.007656207998749403), (2650, 0.007648188169224261), (447, 0.007643757600076548), (987, 0.007635243738348837), (2511, 0.0076301909506385004), (637, 0.007622947958872666), (11, 0.007622919108179723), (4341, 0.007608311852893833), (4287, 0.007605139574447773), (1382, 0.007598217984595596), (806, 0.007596684815690853), (461, 0.007595484769165984), (1615, 0.007595483174934518), (3153, 0.007580213634319794), (137, 0.007578856413946112), (971, 0.007577045920997119), (2334, 0.007576782318918058), (3115, 0.007572717395128317), (4388, 0.007570076246828168), (1768, 0.007568449809388485), (743, 0.007564407858189052), (814, 0.007561828373407397), (865, 0.007558571242616455), (4329, 0.007558493714415168), (3289, 0.007544056303666675), (1431, 0.0075378530626290085), (846, 0.007537648398764461), (42, 0.0075296117889627635), (3209, 0.007528559392503682), (1435, 0.007525935713730831), (3912, 0.007520637575834691), (3377, 0.007505406760245133), (4031, 0.007497786013870219), (3812, 0.007492501233133033), (1425, 0.007488582804749735), (3792, 0.00748607883316878), (2798, 0.007475171127308777), (2487, 0.007460336612822005), (131, 0.007458025604847789), (1476, 0.007457985607447805), (1472, 0.007446882783545638), (1461, 0.007443665788387376), (3739, 0.007442228329538119), (1930, 0.0074415324941161905), (4137, 0.00742886754719581), (2396, 0.007428203218530516), (1758, 0.007416794148339535), (3328, 0.007413117942223943), (696, 0.0074095584920078365), (2449, 0.007408972743291153), (4454, 0.0073996450154987245), (1191, 0.007390330895039039), (3564, 0.007389859115162703), (1223, 0.007389771384789844), (3223, 0.007388806909332217), (5, 0.007383201677714788), (938, 0.007378749874007186), (665, 0.007377730895110737), (3926, 0.007373127554935169), (785, 0.0073656610030131), (1304, 0.007363744982146656), (4427, 0.007353036964008217), (3188, 0.007352908822518756), (66, 0.007346939831737812), (3903, 0.007346635658704428), (2250, 0.007345409127336901), (3330, 0.007336229625904484), (689, 0.007320924043095272), (4526, 0.0073156227250587465), (105, 0.007300685401684431), (3477, 0.0072994386778355395), (1891, 0.007297427319039767), (1634, 0.0072959377532333695), (894, 0.007292147625342758), (3596, 0.007285239197281697), (4542, 0.007277955789844897), (464, 0.007276283641986959), (1411, 0.007274199124728502), (3237, 0.007270811018716621), (1867, 0.0072699608067159525), (1913, 0.007264448999322202), (535, 0.007263428758679462), (3703, 0.00726067383615248), (1757, 0.007251651983373653), (1857, 0.007246912830575205), (1999, 0.007245186725096238), (2532, 0.00724092018410519), (215, 0.007231931718349478), (3587, 0.007225109030667065), (419, 0.007223781760561632), (1026, 0.007223453279653733), (3260, 0.007222429378061487), (4018, 0.007221257183822445), (1130, 0.0072132842707241995), (1084, 0.007213113292451699), (1589, 0.007210854576785612), (4160, 0.007191234917153808), (2956, 0.007179019997752768), (4073, 0.007174870449510317), (2279, 0.00717245552149705), (2322, 0.007170647260073814), (1284, 0.0071658668528239745), (2401, 0.007154199040407121), (1474, 0.00715289814346294), (3370, 0.00714538153488617), (3877, 0.007141232796412738), (2830, 0.007138320756689332), (2461, 0.007137405137881353), (662, 0.007137267895135888), (49, 0.007135231037433525), (2808, 0.007132962721943155), (2218, 0.0071305661608570756), (2657, 0.0071253828171709685), (556, 0.0071158159192141555), (4034, 0.007115746999359326), (2245, 0.0071100396170663445), (2612, 0.007109457289501945), (3011, 0.007108396402822422), (2806, 0.007103292298072384), (3149, 0.007100457262389029), (3735, 0.007097493531487994), (1463, 0.007097458916002246), (1421, 0.007096543641396946), (1597, 0.0070910636414915525), (1725, 0.007090784784988154), (3387, 0.007082812581954113), (4252, 0.007082544243908213), (362, 0.0070815344679976576), (1561, 0.00707559832576026), (2131, 0.0070715567102990155), (3444, 0.007070075078374424), (486, 0.007069213253964961), (3246, 0.00705701352159199), (1034, 0.007049590187424108), (1844, 0.0070417876666881325), (52, 0.007038467329937224), (2143, 0.007038091194402664), (3985, 0.007037114398273855), (1416, 0.007034554216055183), (3315, 0.007032115761114652), (677, 0.007029158645451547), (1654, 0.007026622342223225), (1744, 0.007022533250231091), (3695, 0.007015546946759995), (3390, 0.00701376134459169), (2575, 0.007010332069233115), (363, 0.007008665527036306), (4321, 0.007008279508114579), (2659, 0.00700695173721984), (984, 0.007002110715049602), (1255, 0.006994359346280555), (2965, 0.006992697050449816), (1878, 0.006989489414555747), (2892, 0.006987654868922764), (4374, 0.006987628729192642), (360, 0.006984941501125701), (767, 0.0069829552911123355), (1787, 0.006972134832197237), (2271, 0.006966554581495976), (3646, 0.0069605914091286376), (859, 0.006958349009997741), (325, 0.0069561832242563066), (4705, 0.006954879271745627), (3819, 0.006950452821452355), (578, 0.0069475578529514725), (939, 0.0069432746174875335), (1036, 0.0069427973503943625), (2171, 0.006929059435211787), (1640, 0.006927472636142455), (1824, 0.006919500425546884), (3300, 0.006917760697268257), (4118, 0.006916643062651557), (2768, 0.006914753413354101), (4011, 0.006913375381042203), (4159, 0.0068989690441656785), (340, 0.006891368502250026), (4492, 0.006890049477261605), (2637, 0.006886289671007572), (4059, 0.006884040986710341), (1228, 0.006882825665948), (4269, 0.006879808432826717), (810, 0.006877588475910546), (1992, 0.006877176282017346), (1731, 0.0068764837425145265), (1086, 0.0068755377666439655), (655, 0.0068741893080407936), (2699, 0.006867618687892441), (996, 0.00686417515117863), (4347, 0.006863537127166581), (2327, 0.006863265529042904), (1899, 0.006862535039013281), (2120, 0.006859499215839627), (3732, 0.006858235126664404), (895, 0.006858220452611957), (4478, 0.006857322213122374), (659, 0.006856988065105499), (1180, 0.006856703062390918), (1457, 0.006855397295366226), (1673, 0.006853061576970798), (3147, 0.006852976956629348), (4356, 0.006846073074861452), (1353, 0.006844530644492708), (1480, 0.006842178000033715), (2609, 0.006841244911878516), (1333, 0.006839766215907433), (710, 0.0068386623788788126), (111, 0.006838238490900426), (3461, 0.006836838978236011), (1456, 0.006832672671300316), (463, 0.006822238740924633), (2129, 0.006821025475771547), (1610, 0.0068155104584476985), (1926, 0.006815418522293914), (240, 0.006813632948543274), (2317, 0.006811183827058863), (3321, 0.006811077740257471), (2868, 0.006810564546358721), (978, 0.006808841504455062), (361, 0.006808500178448232), (4402, 0.006806763870475354), (239, 0.00680324665293766), (4202, 0.006801867653220526), (297, 0.006785627620822236), (324, 0.006784787845317727), (301, 0.006784732328646024), (638, 0.0067846256735653605), (2755, 0.006782178402350281), (1543, 0.006782071885838261), (2989, 0.00677816575574432), (4174, 0.006775479308925299), (2845, 0.006775425273279455), (2445, 0.006775303395361851), (1979, 0.006773310025254023), (1401, 0.006772802530622319), (1197, 0.006768283708998662), (829, 0.0067623008611340995), (3876, 0.0067571902834074), (4323, 0.006755935185002494), (1157, 0.006754228315047339), (1389, 0.006754071624818691), (3244, 0.006743361989717593), (801, 0.006743105785612497), (4277, 0.006742620619568454), (1955, 0.006737200675820765), (2203, 0.006735892729019138), (124, 0.006721697072966844), (2007, 0.006719172497693848), (338, 0.006716080805604378), (2135, 0.006712922862461202), (4354, 0.006709662618165498), (2249, 0.0067075742339968315), (2728, 0.006700452035308248), (298, 0.0067000598320428465), (1965, 0.006699478921419327), (3871, 0.006694408506687517), (1475, 0.006686413969088519), (586, 0.006681229624138231), (2402, 0.0066665558287940345), (2043, 0.006666039031800448), (4109, 0.00666070388941965), (1827, 0.006656688582584056), (1964, 0.006654297683711141), (2323, 0.006643010485515404), (3318, 0.006634493025043241), (898, 0.006631351805492051), (3287, 0.0066306409683633), (2667, 0.00662847679590784), (1061, 0.006627140444158331), (3974, 0.006625601077181728), (2457, 0.00662179336031388), (4437, 0.006621587923266898), (2005, 0.006619196889017698), (1739, 0.006618906825894394), (2922, 0.006618789149850657), (161, 0.006616724229114091), (4709, 0.0066119929494245205), (2332, 0.006609629671071674), (1961, 0.00660753119838852), (2048, 0.00660157791479264), (4643, 0.006597579230836233), (577, 0.006592918637114037), (3167, 0.006592429834390638), (871, 0.006590201445225388), (4666, 0.006585620778503548), (2580, 0.006573892873124635), (2163, 0.006568376807375301), (2172, 0.006568346155804456), (2929, 0.006565373488890909), (1318, 0.006565106669982815), (4533, 0.006564313689606716), (4663, 0.006563110296417565), (947, 0.006561783130636055), (1978, 0.006560993454330077), (1686, 0.006557285353096629), (2990, 0.0065483792029751905), (3082, 0.006547165535305522), (2264, 0.00653985509105066), (1085, 0.006538720700772042), (4110, 0.006533255092277471), (1009, 0.0065304016019074665), (219, 0.006525894357344276), (4288, 0.006525510312349485), (1495, 0.006525414964197019), (1954, 0.0065208368276990294), (1087, 0.006520742874200031), (2551, 0.0065170013330293625), (1889, 0.0065117272689658974), (2047, 0.006504920799192729), (4221, 0.00650374421376351), (712, 0.006503658992109266), (820, 0.006502519753840649), (401, 0.006500618617669891), (2887, 0.006498993577492427), (2074, 0.006498659115334032), (2502, 0.006494805276855221), (2617, 0.006490138933041801), (3830, 0.0064853951073919345), (484, 0.006484748014038719), (909, 0.006482607401835555), (4501, 0.006480070611160226), (1175, 0.0064729445363072655), (4679, 0.006471748498152412), (1405, 0.006471679146562264), (2975, 0.0064671871418585936), (2414, 0.006465340575632852), (182, 0.006465082219220866), (4300, 0.006464072331239006), (1186, 0.006463667931328189), (2240, 0.006459907235176003), (3482, 0.006453206325725282), (317, 0.006445723951692649), (1388, 0.006441865512582135), (1482, 0.006434392541773767), (2460, 0.0064152743962301705), (299, 0.006412902451057951), (4473, 0.006411210729245761), (4195, 0.00641003985311758), (3655, 0.006406339719179015), (3492, 0.006406045163557911), (2547, 0.006405697512121476), (4035, 0.006405151948756983), (241, 0.006398180776221571), (3346, 0.006396887360345341), (4016, 0.006396278810406906), (4457, 0.006390296132662384), (892, 0.006377242602041611), (4444, 0.006372140563571067), (1492, 0.006370397818773588), (1238, 0.006370214416440983), (2019, 0.006369944656374471), (724, 0.006369708944481752), (1698, 0.006358464982385381), (642, 0.0063584237127010355), (1198, 0.006348942482074539), (2569, 0.006337736618333198), (2948, 0.006334741910300879), (1126, 0.006333493875817775), (1598, 0.006331484599111873), (1272, 0.0063196430173291275), (445, 0.006301784156703388), (2329, 0.006291146519480771), (1523, 0.006288955064352833), (3579, 0.006283456104655806), (3715, 0.006276996592792515), (4036, 0.0062669942584188485), (2763, 0.0062638441773908895), (2504, 0.0062622732516344915), (2645, 0.006260294970710094), (2933, 0.006251462723814691), (2541, 0.006246817897679363), (3855, 0.00624615416977765), (1607, 0.006246105138517377), (1639, 0.006231811333605932), (3286, 0.0062271628250376), (1845, 0.006225053571852312), (1300, 0.006224520064851287), (4440, 0.006220931380172346), (345, 0.0062163241024106265), (1365, 0.006216194371900562), (1373, 0.0062138127190282675), (1312, 0.006212183251858013), (4646, 0.00620215356913945), (1279, 0.006197756336189172), (3366, 0.006194460520022356), (2157, 0.006189836499098031), (2603, 0.006182596082691008), (1287, 0.0061795496406522625), (720, 0.00616874385706764), (3826, 0.006166197861384878), (786, 0.006165484745735641), (179, 0.006165087240535624), (4303, 0.006159083753070841), (4606, 0.006158360834608272), (1548, 0.006157436531890305), (2132, 0.006149865657931931), (1042, 0.006148038571905263), (1231, 0.006146168900755077), (3567, 0.006145139241062855), (1912, 0.00614076947299802), (2985, 0.006140144980754671), (2600, 0.006137116278949293), (4523, 0.00613562083724417), (852, 0.006135416086179789), (1490, 0.006128245559152509), (948, 0.006124915579583039), (1067, 0.006117373031736891), (2050, 0.006115857414895955), (300, 0.006110574441136715), (2473, 0.0061084332988130055), (1755, 0.006103415736515081), (4428, 0.006090365160902042), (25, 0.006089259109740599), (1738, 0.0060889201479543366), (1571, 0.006086050919374671), (2581, 0.006078695379096019), (53, 0.00607778435526101), (185, 0.00606373608412403), (3991, 0.006048703240635262), (4122, 0.0060412766330781), (2331, 0.006039844063789623), (1307, 0.006035906408534417), (3566, 0.0060248260172793), (433, 0.006021497756666533), (3254, 0.006018926974176276), (1950, 0.00601283079587671), (2363, 0.006011436614507646), (650, 0.006005255217605462), (366, 0.006003183135521295), (670, 0.005994862584900766), (3588, 0.005976655444222067), (2590, 0.005970742866163608), (921, 0.005969347168385058), (3426, 0.005966503843406647), (935, 0.005965772234147758), (1317, 0.0059643162543242), (4443, 0.0059590388060690265), (2615, 0.0059581066237279455), (1963, 0.005955847736526355), (1344, 0.005952500936920799), (2183, 0.005947751620059818), (4723, 0.005947584601696632), (4653, 0.0059474185245254), (1514, 0.005935892383069599), (2077, 0.005932468293002931), (953, 0.005926992457777882), (4009, 0.005926379692488638), (1646, 0.00592296100518667), (2459, 0.00592081036162204), (1114, 0.005907640091245689), (4631, 0.005907176264631508), (409, 0.005905069730910733), (2415, 0.005902649454380408), (3395, 0.005892131857548195), (3554, 0.005888512502847352), (457, 0.00588677659536813), (510, 0.005884170046278246), (2778, 0.0058819492236045325), (4698, 0.005868939049244833), (2920, 0.005868511942417354), (1242, 0.0058675286790341495), (218, 0.0058556283587699685), (309, 0.005854973752129978), (2734, 0.00585078867954148), (807, 0.005844664456429419), (609, 0.005840711405194628), (2022, 0.005838022893541142), (1288, 0.005835800500657298), (4405, 0.005829186836761599), (1941, 0.005822138752873147), (608, 0.005814054314178845), (428, 0.005790724432124316), (3726, 0.005785311302251065), (512, 0.005781649728383347), (4598, 0.005775154042991644), (2741, 0.005775036566623917), (4074, 0.005772093302481881), (936, 0.005771061017299937), (699, 0.005767959374168019), (2772, 0.005762289894098294), (1016, 0.0057612654891868904), (3397, 0.00575612144161468), (795, 0.005749461313847786), (4642, 0.005740649130072473), (904, 0.005726172260312432), (2378, 0.005724704182073393), (3865, 0.005720013957473909), (3384, 0.0057029112746284066), (1601, 0.0056931916591290155), (882, 0.0056855378377065145), (3275, 0.005685535032979688), (4477, 0.005683049795523828), (1540, 0.005682488331071623), (3598, 0.005677772643625536), (3440, 0.0056518727116908725), (3741, 0.005650501283579091), (3312, 0.005649938364523181), (3450, 0.005649543895511296), (4597, 0.005636128772273934), (1591, 0.005633736377669996), (1815, 0.005631011668174451), (3667, 0.0056280169938759525), (905, 0.005627103542535721), (3947, 0.005621365372631483), (3708, 0.005616494898047823), (3803, 0.005611728805039568), (1194, 0.005603870155591882), (4747, 0.005598331787729247), (2012, 0.005594203794589618), (3394, 0.005593591191668781), (2625, 0.005588791023010952), (3165, 0.005587174351287875), (2676, 0.00557799243993698), (4244, 0.005572791333989847), (125, 0.005568859157432779), (38, 0.005559111288242608), (3356, 0.00555212928770418), (1397, 0.005546547217058936), (4741, 0.005543152278863854), (1521, 0.005539498189059847), (4121, 0.005532648142357476), (3253, 0.005531744204467105), (2476, 0.005531224840104467), (2864, 0.00552938938248514), (2636, 0.005526593389866521), (2181, 0.005521491255071623), (3983, 0.0055148361496568585), (2881, 0.005509286064040957), (3383, 0.005508050593754888), (286, 0.0055039211048211675), (2576, 0.0055031354577365806), (3680, 0.005500724475625119), (4462, 0.005497171924931462), (2470, 0.0054940026428262735), (1833, 0.005492176943140512), (683, 0.005491588460978604), (4393, 0.005487503557434065), (3144, 0.00548106029439092), (3168, 0.005477515236061326), (3373, 0.005475021544969024), (682, 0.005470891238897603), (2006, 0.0054699296813043585), (1023, 0.00546795768275559), (2182, 0.0054647037949141644), (1050, 0.005464192370267206), (139, 0.005457784160732947), (40, 0.0054566912808302675), (2903, 0.005455131758057994), (4185, 0.005454942112666091), (2810, 0.005451781588698566), (3221, 0.00544066688143452), (1351, 0.0054287522933278345), (4293, 0.005428114792117701), (458, 0.005427763238965289), (2840, 0.005425385325056641), (729, 0.005424392028103454), (1332, 0.005419807688790293), (951, 0.005414569045956564), (2383, 0.005408733240179484), (2671, 0.005406748790147674), (4119, 0.00540655464655991), (4549, 0.005396283280755273), (4144, 0.005392951178398207), (2040, 0.005374052604138636), (3192, 0.005373892968810978), (3091, 0.005368558108777426), (4619, 0.005367098031112962), (3097, 0.005363894591200927), (48, 0.005359877381611218), (1454, 0.005342946057658786), (162, 0.00534278937924019), (1681, 0.00534053347265806), (2626, 0.005338732750317332), (3424, 0.005329596889182021), (2811, 0.005327006338028554), (123, 0.005322064110887523), (673, 0.005308370113020622), (1162, 0.005307036190111049), (4116, 0.005303337909714182), (3044, 0.005302451825236654), (3263, 0.005299378289507189), (350, 0.005295716498244069), (3064, 0.005293088486863329), (1883, 0.0052879347272139065), (513, 0.0052879274120388895), (1511, 0.005282206966257091), (2082, 0.0052772083192075755), (514, 0.005275270570658864), (1015, 0.0052583174820520885), (728, 0.005246611061436451), (4656, 0.005245446532168323), (4436, 0.005245394537795039), (2880, 0.005242799560653718), (210, 0.005242637930401295), (381, 0.005238614753279426), (4726, 0.005231135646194183), (3112, 0.005230778424471952), (1770, 0.0052305623178779265), (4727, 0.005225682406192893), (1708, 0.005224643570763801), (2243, 0.0052177065441643125), (3451, 0.0052138734892449865), (2028, 0.005209657440692627), (2670, 0.00520677387470623), (4131, 0.0052055643459523035), (1732, 0.005199062620747652), (1141, 0.005198484807029114), (180, 0.0051981462748315315), (4005, 0.005197795194663634), (1659, 0.005184921629331187), (10, 0.005183914435766654), (243, 0.005182578929299861), (2499, 0.005172006504106069), (3710, 0.005171454103506199), (3297, 0.005168814239601811), (2044, 0.005167027928265462), (2361, 0.0051597063863037754), (68, 0.0051589818178356265), (1687, 0.005157600889828591), (2364, 0.005156931821946698), (2819, 0.005153093117785017), (4233, 0.0051522026146889), (1989, 0.005151589819839498), (1853, 0.005148937481384121), (2714, 0.005148203698556764), (4519, 0.0051456587359859545), (1484, 0.0051455960663278665), (1919, 0.005145102732750152), (1822, 0.0051349997617635935), (470, 0.005130440673921005), (654, 0.005126956573905267), (824, 0.005126167820278648), (4392, 0.005122239446831609), (2959, 0.0051209060803203265), (4410, 0.005119229938599493), (1393, 0.005107703507437797), (2754, 0.005099870676696261), (1734, 0.0050970180360346866), (2088, 0.005096499244634067), (4430, 0.005093023537044313), (3421, 0.005092795100597538), (1736, 0.005092378067158169), (2083, 0.0050907021770675905), (1881, 0.005087898970413595), (330, 0.005086359699479277), (3862, 0.005080391615528856), (3514, 0.0050783039332873686), (3591, 0.005076956620335542), (928, 0.005076290283756237), (3241, 0.005074861964384328), (3310, 0.005074634839662104), (4629, 0.005074531920540902), (2085, 0.005068134237828912), (1513, 0.005067294110549679), (1432, 0.005067042393303681), (1024, 0.005066464086982342), (4586, 0.005065283330715323), (386, 0.0050652433898651225), (2241, 0.005058395922685053), (1727, 0.005057680446228779), (4390, 0.005054893737688674), (3458, 0.005043261703892891), (1949, 0.005043058216660791), (3507, 0.0050426939359891525), (4486, 0.0050420601679666685), (4716, 0.005041577185381878), (1506, 0.005041113493309307), (4379, 0.005040016186687912), (2238, 0.005037664963094101), (2780, 0.005036735323939108), (3456, 0.005027540363065365), (1847, 0.005022366119458477), (4249, 0.005019080962780122), (1443, 0.005018757427761774), (4745, 0.005018174870691369), (1516, 0.005009695886515802), (2668, 0.00500514196447572), (3152, 0.005005119737444478), (2867, 0.005001977082161917), (2276, 0.004996682188258389), (869, 0.004987476961720208), (4376, 0.0049872566378561245), (3169, 0.004986825078394852), (4098, 0.0049862605210957076), (2947, 0.004985796745840422), (4088, 0.004985062158529429), (1564, 0.0049819949953218545), (3445, 0.004981804133911844), (3522, 0.004978543353106282), (3750, 0.004977950008917451), (4093, 0.004975947262044973), (1174, 0.004972912686270153), (1337, 0.004964184208318644), (421, 0.004960462495531901), (3603, 0.004957271786668582), (2788, 0.004952296464301683), (3707, 0.004950888185097418), (2210, 0.004945810247532889), (994, 0.004943438947198903), (4068, 0.0049419095949386595), (740, 0.004938259610657216), (1302, 0.0049337018501608735), (4255, 0.004931184023590089), (1599, 0.004925135417063209), (1751, 0.004921603396210954), (2474, 0.004920881746110381), (1138, 0.004920714676870252), (3002, 0.0049158811044233515), (3676, 0.004915771528125573), (1985, 0.004915371254233733), (1510, 0.004910823066540353), (775, 0.004906885002943186), (3210, 0.004906699833291236), (848, 0.004905792248677307), (3227, 0.004904745987559189), (1512, 0.004896119779788016), (2815, 0.004893138934755574), (1876, 0.004892378442470782), (4435, 0.004887640502525514), (494, 0.0048867636172188565), (560, 0.004879145152011247), (1172, 0.004870345561449735), (1419, 0.004870230123878119), (2081, 0.004869579296262172), (986, 0.0048607205924979715), (3416, 0.004859881443134655), (3343, 0.004859513656097258), (1455, 0.004858522811717502), (2212, 0.0048538884584663124), (3174, 0.004851447057214923), (2943, 0.00484695092597076), (4148, 0.004845399306660338), (4248, 0.004835627183358008), (181, 0.004832053424028879), (3698, 0.004831314487901037), (202, 0.004830281836097759), (2562, 0.004829225747179337), (3432, 0.004828800238498295), (3374, 0.004827567654869297), (1483, 0.004826703639012937), (3441, 0.0048244802341511385), (1252, 0.0048195014004705624), (1504, 0.004817844669397906), (1442, 0.00481585568672447), (1226, 0.004815458465310546), (1692, 0.0048129944709330436), (4241, 0.004810890229813232), (2825, 0.00480547795303942), (534, 0.004804422850726058), (233, 0.004801026152000321), (3161, 0.004798845812604712), (3443, 0.0047980099830424285), (1127, 0.004787801019983038), (3546, 0.0047852890567138635), (1314, 0.004785227874509228), (3814, 0.004784644237672015), (1338, 0.004784393498606283), (1292, 0.004783556434573711), (3602, 0.0047830063016986975), (727, 0.004779213624314401), (1937, 0.004778128957118867), (4020, 0.004772230403810575), (1527, 0.004760685365667493), (2910, 0.00475944979591924), (244, 0.00475872173512176), (1406, 0.004754197421306861), (3706, 0.004747342908896089), (4743, 0.004746325939329595), (500, 0.004743111230551925), (4039, 0.004741901012368534), (217, 0.004741292159727633), (230, 0.004737224462470191), (1096, 0.004732426686668106), (4534, 0.004731110385356372), (1017, 0.00472813338380988), (328, 0.004724407374122478), (4682, 0.004720116118859952), (3531, 0.004718149723079232), (825, 0.004717851912496403), (4573, 0.0047156600204716305), (4673, 0.00471143141224855), (651, 0.0046963739942387), (3660, 0.004690942473473447), (2918, 0.004686503620878606), (4543, 0.004685433923052989), (223, 0.004684205334435375), (1544, 0.004669582019363397), (1545, 0.004664677217390625), (1478, 0.004658164413791317), (2024, 0.004658158574283583), (4481, 0.004647705610996545), (3085, 0.004647057310201651), (3978, 0.004639798057149501), (2540, 0.004636181610131512), (2962, 0.00462901227476572), (2787, 0.00462550724284436), (144, 0.004622744764312854), (644, 0.004621003941194635), (3465, 0.0046204334528653496), (2224, 0.004615897055017514), (4345, 0.004614131567492837), (2751, 0.004612926683122949), (3794, 0.004607388198749654), (336, 0.004599993189793257), (1054, 0.004593317716861803), (641, 0.004593008654888378), (4012, 0.004590989914131606), (3723, 0.004590748766101381), (2166, 0.0045812394472639125), (3466, 0.0045794163365621005), (2118, 0.004578240536326143), (1973, 0.004576044478515693), (3609, 0.004573979735042712), (2184, 0.004569484775278145), (1749, 0.004562421362886211), (4690, 0.0045618756361573256), (2885, 0.004560268908710919), (1665, 0.004554611964815412), (974, 0.0045537299137096), (1721, 0.004551881321799234), (2634, 0.004545245078814795), (4328, 0.004544301191467769), (2052, 0.004536558135812308), (2992, 0.004535635375029105), (2862, 0.00453339581706086), (2958, 0.004531825477672194), (4591, 0.004524187525676781), (866, 0.00452218450718984), (3143, 0.0045178179821202214), (532, 0.004517029877598265), (868, 0.004516437516086049), (2742, 0.004516404446630025), (1183, 0.004515163925567582), (4325, 0.004511926118917393), (2429, 0.004509200415411063), (2399, 0.004490252200400694), (122, 0.004481020673730202), (2674, 0.004477833630946102), (669, 0.004475826755444181), (4649, 0.004467303395069306), (411, 0.004464907637677796), (2791, 0.004461195303562506), (3306, 0.004459622966643731), (3738, 0.004449347100249512), (1259, 0.004446100566365194), (1065, 0.004446070417125555), (1796, 0.004438344187904805), (3130, 0.004437733883303302), (3459, 0.0044201138153102115), (1680, 0.004417861525955619), (148, 0.004414299546330519), (3267, 0.0044138638301881045), (4044, 0.004413700044354121), (4447, 0.004413257976326298), (3860, 0.004410445749642025), (2424, 0.004409136329466941), (170, 0.004407462478421079), (3311, 0.004400286169309911), (4647, 0.004398713616787351), (632, 0.004396422186491296), (515, 0.004384739206909102), (3336, 0.004378372407066645), (1000, 0.0043752645049397855), (804, 0.0043751786438814), (4143, 0.004372604751874861), (800, 0.004372312086183887), (3556, 0.004349440980238537), (1870, 0.004347730247181829), (803, 0.004347694672601986), (3070, 0.004345282026378226), (1977, 0.0043310567608934), (2935, 0.004320244606737678), (4608, 0.004316719368217637), (4450, 0.0043120978139166545), (1290, 0.004309549303018299), (92, 0.004280891011231847), (851, 0.004261420379128624), (4432, 0.004257709054619705), (2820, 0.004254757235607155), (3637, 0.004254034725610519), (2971, 0.00423259103504579), (653, 0.004232317327816769), (2412, 0.004223806934058816), (4429, 0.004223589061375258), (2294, 0.004202385216017861), (1828, 0.00419733689618445), (3339, 0.00418624463457768), (269, 0.004174013175304428), (3958, 0.0041715319539294415), (2020, 0.004149330823602662), (1781, 0.004138972725440813), (4095, 0.004128236450588836), (723, 0.004117971830567424), (3668, 0.004117358377604881), (1010, 0.004114292101089008), (2197, 0.004114251068109108), (1214, 0.00407891854530564), (3213, 0.004077612715484122), (4733, 0.004058822181336536), (1092, 0.004054521501936905), (2969, 0.004034505858894385), (442, 0.004033456955219064), (2844, 0.004017584018263174), (2913, 0.003989926267934715), (319, 0.003985761558251997), (2697, 0.0039823154689803296), (1369, 0.003981394513023981), (435, 0.003944433716551462), (1377, 0.0039239898733063215), (2908, 0.003909083904927119), (1576, 0.0038962844279164474), (668, 0.003848440511314238), (1320, 0.003818588603007031), (159, 0.003807149761809318), (2113, 0.0038065831350511804), (1417, 0.003797152013056654), (2767, 0.0037950980762976056), (3946, 0.003772318115422214), (1728, 0.0037577079058472244), (266, 0.0037428525199256933), (271, 0.003728001859542068), (1005, 0.003718117233625704), (3645, 0.0036665354777455084), (296, 0.003645789302791671), (332, 0.0036423260571439593), (1276, 0.0036282831522875514), (1471, 0.0036072737360013894), (684, 0.0035694540979894092), (3365, 0.003430417014021836), (1153, 0.003410644834674669), (3429, 0.003307340427576327), (2, 0.0), (3, 0.0), (4, 0.0), (8, 0.0), (12, 0.0), (13, 0.0), (14, 0.0), (16, 0.0), (18, 0.0), (20, 0.0), (21, 0.0), (23, 0.0), (24, 0.0), (26, 0.0), (29, 0.0), (30, 0.0), (33, 0.0), (34, 0.0), (43, 0.0), (50, 0.0), (51, 0.0), (61, 0.0), (62, 0.0), (70, 0.0), (71, 0.0), (72, 0.0), (81, 0.0), (83, 0.0), (85, 0.0), (86, 0.0), (87, 0.0), (96, 0.0), (97, 0.0), (98, 0.0), (99, 0.0), (100, 0.0), (103, 0.0), (104, 0.0), (107, 0.0), (108, 0.0), (109, 0.0), (110, 0.0), (112, 0.0), (113, 0.0), (114, 0.0), (116, 0.0), (117, 0.0), (120, 0.0), (121, 0.0), (126, 0.0), (127, 0.0), (129, 0.0), (132, 0.0), (133, 0.0), (134, 0.0), (136, 0.0), (138, 0.0), (140, 0.0), (142, 0.0), (145, 0.0), (146, 0.0), (149, 0.0), (154, 0.0), (156, 0.0), (157, 0.0), (158, 0.0), (163, 0.0), (164, 0.0), (166, 0.0), (167, 0.0), (168, 0.0), (169, 0.0), (172, 0.0), (173, 0.0), (174, 0.0), (175, 0.0), (176, 0.0), (177, 0.0), (178, 0.0), (183, 0.0), (184, 0.0), (186, 0.0), (188, 0.0), (192, 0.0), (194, 0.0), (197, 0.0), (198, 0.0), (200, 0.0), (203, 0.0), (206, 0.0), (209, 0.0), (211, 0.0), (212, 0.0), (213, 0.0), (214, 0.0), (216, 0.0), (221, 0.0), (222, 0.0), (224, 0.0), (225, 0.0), (226, 0.0), (229, 0.0), (236, 0.0), (238, 0.0), (246, 0.0), (251, 0.0), (253, 0.0), (254, 0.0), (255, 0.0), (256, 0.0), (262, 0.0), (265, 0.0), (267, 0.0), (272, 0.0), (273, 0.0), (274, 0.0), (275, 0.0), (276, 0.0), (278, 0.0), (279, 0.0), (280, 0.0), (281, 0.0), (282, 0.0), (285, 0.0), (287, 0.0), (291, 0.0), (293, 0.0), (304, 0.0), (308, 0.0), (311, 0.0), (312, 0.0), (313, 0.0), (318, 0.0), (326, 0.0), (329, 0.0), (331, 0.0), (335, 0.0), (337, 0.0), (339, 0.0), (341, 0.0), (342, 0.0), (343, 0.0), (344, 0.0), (346, 0.0), (348, 0.0), (349, 0.0), (351, 0.0), (352, 0.0), (354, 0.0), (355, 0.0), (356, 0.0), (358, 0.0), (359, 0.0), (371, 0.0), (372, 0.0), (373, 0.0), (374, 0.0), (383, 0.0), (387, 0.0), (388, 0.0), (391, 0.0), (392, 0.0), (393, 0.0), (395, 0.0), (398, 0.0), (399, 0.0), (400, 0.0), (402, 0.0), (403, 0.0), (404, 0.0), (406, 0.0), (407, 0.0), (408, 0.0), (416, 0.0), (420, 0.0), (422, 0.0), (423, 0.0), (429, 0.0), (431, 0.0), (432, 0.0), (434, 0.0), (436, 0.0), (437, 0.0), (441, 0.0), (443, 0.0), (444, 0.0), (446, 0.0), (448, 0.0), (450, 0.0), (454, 0.0), (455, 0.0), (459, 0.0), (462, 0.0), (465, 0.0), (471, 0.0), (473, 0.0), (474, 0.0), (476, 0.0), (479, 0.0), (481, 0.0), (482, 0.0), (483, 0.0), (487, 0.0), (488, 0.0), (489, 0.0), (490, 0.0), (493, 0.0), (499, 0.0), (502, 0.0), (504, 0.0), (505, 0.0), (507, 0.0), (508, 0.0), (518, 0.0), (521, 0.0), (522, 0.0), (523, 0.0), (524, 0.0), (525, 0.0), (526, 0.0), (527, 0.0), (529, 0.0), (530, 0.0), (531, 0.0), (536, 0.0), (538, 0.0), (541, 0.0), (543, 0.0), (544, 0.0), (547, 0.0), (549, 0.0), (551, 0.0), (557, 0.0), (558, 0.0), (559, 0.0), (562, 0.0), (564, 0.0), (566, 0.0), (573, 0.0), (574, 0.0), (575, 0.0), (576, 0.0), (580, 0.0), (581, 0.0), (582, 0.0), (584, 0.0), (585, 0.0), (588, 0.0), (589, 0.0), (593, 0.0), (596, 0.0), (597, 0.0), (598, 0.0), (605, 0.0), (607, 0.0), (611, 0.0), (616, 0.0), (617, 0.0), (618, 0.0), (620, 0.0), (623, 0.0), (624, 0.0), (626, 0.0), (628, 0.0), (629, 0.0), (630, 0.0), (633, 0.0), (634, 0.0), (636, 0.0), (643, 0.0), (646, 0.0), (647, 0.0), (649, 0.0), (652, 0.0), (657, 0.0), (660, 0.0), (664, 0.0), (667, 0.0), (671, 0.0), (675, 0.0), (676, 0.0), (678, 0.0), (680, 0.0), (685, 0.0), (691, 0.0), (693, 0.0), (694, 0.0), (695, 0.0), (697, 0.0), (698, 0.0), (701, 0.0), (703, 0.0), (705, 0.0), (706, 0.0), (707, 0.0), (708, 0.0), (711, 0.0), (717, 0.0), (718, 0.0), (721, 0.0), (722, 0.0), (730, 0.0), (731, 0.0), (732, 0.0), (734, 0.0), (735, 0.0), (737, 0.0), (739, 0.0), (741, 0.0), (742, 0.0), (744, 0.0), (746, 0.0), (748, 0.0), (752, 0.0), (754, 0.0), (755, 0.0), (757, 0.0), (758, 0.0), (759, 0.0), (760, 0.0), (761, 0.0), (764, 0.0), (765, 0.0), (766, 0.0), (768, 0.0), (770, 0.0), (771, 0.0), (772, 0.0), (773, 0.0), (774, 0.0), (777, 0.0), (780, 0.0), (782, 0.0), (783, 0.0), (784, 0.0), (789, 0.0), (790, 0.0), (791, 0.0), (794, 0.0), (796, 0.0), (798, 0.0), (799, 0.0), (805, 0.0), (808, 0.0), (811, 0.0), (813, 0.0), (816, 0.0), (818, 0.0), (819, 0.0), (823, 0.0), (828, 0.0), (830, 0.0), (831, 0.0), (832, 0.0), (833, 0.0), (834, 0.0), (835, 0.0), (836, 0.0), (838, 0.0), (843, 0.0), (844, 0.0), (847, 0.0), (850, 0.0), (855, 0.0), (857, 0.0), (858, 0.0), (860, 0.0), (861, 0.0), (862, 0.0), (863, 0.0), (864, 0.0), (867, 0.0), (870, 0.0), (873, 0.0), (876, 0.0), (879, 0.0), (880, 0.0), (881, 0.0), (883, 0.0), (884, 0.0), (885, 0.0), (887, 0.0), (888, 0.0), (890, 0.0), (893, 0.0), (897, 0.0), (899, 0.0), (900, 0.0), (901, 0.0), (906, 0.0), (907, 0.0), (910, 0.0), (916, 0.0), (917, 0.0), (922, 0.0), (923, 0.0), (924, 0.0), (925, 0.0), (927, 0.0), (930, 0.0), (931, 0.0), (933, 0.0), (934, 0.0), (937, 0.0), (940, 0.0), (941, 0.0), (942, 0.0), (943, 0.0), (944, 0.0), (949, 0.0), (950, 0.0), (955, 0.0), (957, 0.0), (958, 0.0), (959, 0.0), (960, 0.0), (961, 0.0), (962, 0.0), (964, 0.0), (967, 0.0), (968, 0.0), (970, 0.0), (972, 0.0), (973, 0.0), (975, 0.0), (976, 0.0), (979, 0.0), (980, 0.0), (982, 0.0), (983, 0.0), (985, 0.0), (988, 0.0), (989, 0.0), (991, 0.0), (993, 0.0), (998, 0.0), (999, 0.0), (1002, 0.0), (1006, 0.0), (1008, 0.0), (1018, 0.0), (1019, 0.0), (1020, 0.0), (1021, 0.0), (1025, 0.0), (1027, 0.0), (1028, 0.0), (1029, 0.0), (1030, 0.0), (1032, 0.0), (1033, 0.0), (1037, 0.0), (1038, 0.0), (1040, 0.0), (1043, 0.0), (1047, 0.0), (1048, 0.0), (1049, 0.0), (1052, 0.0), (1053, 0.0), (1058, 0.0), (1059, 0.0), (1060, 0.0), (1064, 0.0), (1068, 0.0), (1070, 0.0), (1071, 0.0), (1072, 0.0), (1073, 0.0), (1075, 0.0), (1077, 0.0), (1078, 0.0), (1080, 0.0), (1081, 0.0), (1088, 0.0), (1089, 0.0), (1093, 0.0), (1094, 0.0), (1098, 0.0), (1100, 0.0), (1103, 0.0), (1104, 0.0), (1105, 0.0), (1106, 0.0), (1107, 0.0), (1109, 0.0), (1112, 0.0), (1117, 0.0), (1121, 0.0), (1123, 0.0), (1124, 0.0), (1128, 0.0), (1131, 0.0), (1132, 0.0), (1133, 0.0), (1136, 0.0), (1139, 0.0), (1142, 0.0), (1143, 0.0), (1144, 0.0), (1145, 0.0), (1147, 0.0), (1148, 0.0), (1149, 0.0), (1156, 0.0), (1158, 0.0), (1159, 0.0), (1160, 0.0), (1163, 0.0), (1166, 0.0), (1167, 0.0), (1168, 0.0), (1169, 0.0), (1170, 0.0), (1176, 0.0), (1177, 0.0), (1178, 0.0), (1182, 0.0), (1184, 0.0), (1187, 0.0), (1188, 0.0), (1189, 0.0), (1190, 0.0), (1192, 0.0), (1193, 0.0), (1196, 0.0), (1199, 0.0), (1200, 0.0), (1201, 0.0), (1202, 0.0), (1203, 0.0), (1204, 0.0), (1208, 0.0), (1209, 0.0), (1211, 0.0), (1213, 0.0), (1216, 0.0), (1218, 0.0), (1224, 0.0), (1227, 0.0), (1232, 0.0), (1234, 0.0), (1235, 0.0), (1236, 0.0), (1237, 0.0), (1239, 0.0), (1243, 0.0), (1248, 0.0), (1251, 0.0), (1260, 0.0), (1261, 0.0), (1264, 0.0), (1267, 0.0), (1268, 0.0), (1271, 0.0), (1275, 0.0), (1277, 0.0), (1278, 0.0), (1282, 0.0), (1286, 0.0), (1289, 0.0), (1291, 0.0), (1294, 0.0), (1297, 0.0), (1298, 0.0), (1299, 0.0), (1303, 0.0), (1305, 0.0), (1311, 0.0), (1313, 0.0), (1316, 0.0), (1319, 0.0), (1322, 0.0), (1323, 0.0), (1325, 0.0), (1329, 0.0), (1331, 0.0), (1336, 0.0), (1339, 0.0), (1340, 0.0), (1342, 0.0), (1343, 0.0), (1345, 0.0), (1347, 0.0), (1349, 0.0), (1355, 0.0), (1359, 0.0), (1360, 0.0), (1362, 0.0), (1363, 0.0), (1364, 0.0), (1367, 0.0), (1370, 0.0), (1371, 0.0), (1372, 0.0), (1375, 0.0), (1376, 0.0), (1378, 0.0), (1383, 0.0), (1390, 0.0), (1392, 0.0), (1394, 0.0), (1395, 0.0), (1399, 0.0), (1400, 0.0), (1403, 0.0), (1404, 0.0), (1407, 0.0), (1409, 0.0), (1410, 0.0), (1414, 0.0), (1415, 0.0), (1420, 0.0), (1422, 0.0), (1423, 0.0), (1424, 0.0), (1426, 0.0), (1427, 0.0), (1429, 0.0), (1430, 0.0), (1434, 0.0), (1438, 0.0), (1439, 0.0), (1441, 0.0), (1444, 0.0), (1445, 0.0), (1446, 0.0), (1447, 0.0), (1448, 0.0), (1449, 0.0), (1450, 0.0), (1451, 0.0), (1452, 0.0), (1453, 0.0), (1462, 0.0), (1464, 0.0), (1465, 0.0), (1473, 0.0), (1479, 0.0), (1481, 0.0), (1485, 0.0), (1487, 0.0), (1488, 0.0), (1491, 0.0), (1493, 0.0), (1494, 0.0), (1496, 0.0), (1497, 0.0), (1499, 0.0), (1500, 0.0), (1501, 0.0), (1507, 0.0), (1509, 0.0), (1517, 0.0), (1519, 0.0), (1520, 0.0), (1525, 0.0), (1526, 0.0), (1528, 0.0), (1531, 0.0), (1532, 0.0), (1533, 0.0), (1538, 0.0), (1539, 0.0), (1541, 0.0), (1542, 0.0), (1549, 0.0), (1551, 0.0), (1553, 0.0), (1555, 0.0), (1556, 0.0), (1558, 0.0), (1562, 0.0), (1563, 0.0), (1565, 0.0), (1568, 0.0), (1569, 0.0), (1573, 0.0), (1574, 0.0), (1578, 0.0), (1580, 0.0), (1582, 0.0), (1583, 0.0), (1585, 0.0), (1586, 0.0), (1594, 0.0), (1595, 0.0), (1596, 0.0), (1602, 0.0), (1609, 0.0), (1612, 0.0), (1614, 0.0), (1616, 0.0), (1617, 0.0), (1619, 0.0), (1620, 0.0), (1621, 0.0), (1622, 0.0), (1623, 0.0), (1624, 0.0), (1625, 0.0), (1626, 0.0), (1628, 0.0), (1629, 0.0), (1630, 0.0), (1631, 0.0), (1632, 0.0), (1633, 0.0), (1635, 0.0), (1636, 0.0), (1637, 0.0), (1638, 0.0), (1641, 0.0), (1642, 0.0), (1643, 0.0), (1644, 0.0), (1647, 0.0), (1648, 0.0), (1652, 0.0), (1655, 0.0), (1656, 0.0), (1658, 0.0), (1660, 0.0), (1661, 0.0), (1663, 0.0), (1666, 0.0), (1667, 0.0), (1668, 0.0), (1669, 0.0), (1670, 0.0), (1671, 0.0), (1674, 0.0), (1676, 0.0), (1679, 0.0), (1683, 0.0), (1684, 0.0), (1685, 0.0), (1688, 0.0), (1689, 0.0), (1690, 0.0), (1691, 0.0), (1694, 0.0), (1699, 0.0), (1702, 0.0), (1703, 0.0), (1704, 0.0), (1707, 0.0), (1710, 0.0), (1711, 0.0), (1712, 0.0), (1715, 0.0), (1717, 0.0), (1718, 0.0), (1719, 0.0), (1720, 0.0), (1722, 0.0), (1723, 0.0), (1724, 0.0), (1726, 0.0), (1729, 0.0), (1730, 0.0), (1733, 0.0), (1741, 0.0), (1742, 0.0), (1743, 0.0), (1746, 0.0), (1747, 0.0), (1748, 0.0), (1752, 0.0), (1753, 0.0), (1759, 0.0), (1760, 0.0), (1761, 0.0), (1762, 0.0), (1763, 0.0), (1765, 0.0), (1766, 0.0), (1769, 0.0), (1771, 0.0), (1773, 0.0), (1774, 0.0), (1775, 0.0), (1776, 0.0), (1778, 0.0), (1779, 0.0), (1782, 0.0), (1784, 0.0), (1785, 0.0), (1786, 0.0), (1790, 0.0), (1792, 0.0), (1793, 0.0), (1794, 0.0), (1795, 0.0), (1800, 0.0), (1801, 0.0), (1803, 0.0), (1804, 0.0), (1806, 0.0), (1807, 0.0), (1808, 0.0), (1811, 0.0), (1813, 0.0), (1814, 0.0), (1816, 0.0), (1817, 0.0), (1819, 0.0), (1820, 0.0), (1821, 0.0), (1825, 0.0), (1826, 0.0), (1829, 0.0), (1830, 0.0), (1831, 0.0), (1832, 0.0), (1834, 0.0), (1835, 0.0), (1837, 0.0), (1839, 0.0), (1843, 0.0), (1848, 0.0), (1849, 0.0), (1851, 0.0), (1854, 0.0), (1856, 0.0), (1858, 0.0), (1859, 0.0), (1861, 0.0), (1862, 0.0), (1863, 0.0), (1865, 0.0), (1866, 0.0), (1868, 0.0), (1869, 0.0), (1873, 0.0), (1874, 0.0), (1875, 0.0), (1877, 0.0), (1879, 0.0), (1880, 0.0), (1882, 0.0), (1884, 0.0), (1885, 0.0), (1888, 0.0), (1890, 0.0), (1892, 0.0), (1893, 0.0), (1896, 0.0), (1897, 0.0), (1900, 0.0), (1906, 0.0), (1907, 0.0), (1909, 0.0), (1910, 0.0), (1914, 0.0), (1916, 0.0), (1917, 0.0), (1920, 0.0), (1921, 0.0), (1922, 0.0), (1924, 0.0), (1927, 0.0), (1928, 0.0), (1929, 0.0), (1933, 0.0), (1935, 0.0), (1942, 0.0), (1943, 0.0), (1946, 0.0), (1947, 0.0), (1951, 0.0), (1952, 0.0), (1953, 0.0), (1956, 0.0), (1957, 0.0), (1959, 0.0), (1960, 0.0), (1962, 0.0), (1967, 0.0), (1970, 0.0), (1972, 0.0), (1974, 0.0), (1975, 0.0), (1980, 0.0), (1983, 0.0), (1986, 0.0), (1988, 0.0), (1990, 0.0), (1993, 0.0), (1994, 0.0), (1995, 0.0), (1996, 0.0), (1997, 0.0), (1998, 0.0), (2000, 0.0), (2001, 0.0), (2002, 0.0), (2003, 0.0), (2004, 0.0), (2008, 0.0), (2009, 0.0), (2011, 0.0), (2023, 0.0), (2026, 0.0), (2027, 0.0), (2029, 0.0), (2031, 0.0), (2032, 0.0), (2036, 0.0), (2037, 0.0), (2039, 0.0), (2041, 0.0), (2042, 0.0), (2046, 0.0), (2049, 0.0), (2051, 0.0), (2053, 0.0), (2056, 0.0), (2057, 0.0), (2059, 0.0), (2060, 0.0), (2063, 0.0), (2064, 0.0), (2068, 0.0), (2071, 0.0), (2072, 0.0), (2073, 0.0), (2076, 0.0), (2080, 0.0), (2084, 0.0), (2087, 0.0), (2089, 0.0), (2092, 0.0), (2096, 0.0), (2097, 0.0), (2098, 0.0), (2099, 0.0), (2101, 0.0), (2102, 0.0), (2104, 0.0), (2105, 0.0), (2106, 0.0), (2107, 0.0), (2108, 0.0), (2109, 0.0), (2110, 0.0), (2115, 0.0), (2116, 0.0), (2119, 0.0), (2121, 0.0), (2122, 0.0), (2123, 0.0), (2126, 0.0), (2128, 0.0), (2133, 0.0), (2134, 0.0), (2137, 0.0), (2138, 0.0), (2140, 0.0), (2141, 0.0), (2142, 0.0), (2144, 0.0), (2146, 0.0), (2148, 0.0), (2149, 0.0), (2151, 0.0), (2152, 0.0), (2154, 0.0), (2155, 0.0), (2156, 0.0), (2158, 0.0), (2159, 0.0), (2160, 0.0), (2161, 0.0), (2162, 0.0), (2165, 0.0), (2167, 0.0), (2168, 0.0), (2169, 0.0), (2170, 0.0), (2173, 0.0), (2174, 0.0), (2175, 0.0), (2176, 0.0), (2179, 0.0), (2186, 0.0), (2189, 0.0), (2190, 0.0), (2191, 0.0), (2192, 0.0), (2193, 0.0), (2194, 0.0), (2195, 0.0), (2199, 0.0), (2201, 0.0), (2202, 0.0), (2204, 0.0), (2209, 0.0), (2211, 0.0), (2213, 0.0), (2214, 0.0), (2215, 0.0), (2219, 0.0), (2220, 0.0), (2222, 0.0), (2223, 0.0), (2225, 0.0), (2226, 0.0), (2228, 0.0), (2229, 0.0), (2230, 0.0), (2234, 0.0), (2236, 0.0), (2242, 0.0), (2244, 0.0), (2246, 0.0), (2247, 0.0), (2248, 0.0), (2251, 0.0), (2252, 0.0), (2253, 0.0), (2254, 0.0), (2255, 0.0), (2256, 0.0), (2257, 0.0), (2258, 0.0), (2260, 0.0), (2261, 0.0), (2262, 0.0), (2263, 0.0), (2266, 0.0), (2267, 0.0), (2268, 0.0), (2270, 0.0), (2272, 0.0), (2282, 0.0), (2284, 0.0), (2288, 0.0), (2289, 0.0), (2290, 0.0), (2291, 0.0), (2292, 0.0), (2293, 0.0), (2295, 0.0), (2297, 0.0), (2299, 0.0), (2300, 0.0), (2301, 0.0), (2302, 0.0), (2304, 0.0), (2305, 0.0), (2306, 0.0), (2307, 0.0), (2308, 0.0), (2309, 0.0), (2310, 0.0), (2311, 0.0), (2312, 0.0), (2313, 0.0), (2314, 0.0), (2318, 0.0), (2319, 0.0), (2320, 0.0), (2325, 0.0), (2328, 0.0), (2333, 0.0), (2335, 0.0), (2336, 0.0), (2338, 0.0), (2339, 0.0), (2340, 0.0), (2341, 0.0), (2342, 0.0), (2343, 0.0), (2344, 0.0), (2345, 0.0), (2346, 0.0), (2347, 0.0), (2348, 0.0), (2349, 0.0), (2350, 0.0), (2351, 0.0), (2354, 0.0), (2358, 0.0), (2359, 0.0), (2360, 0.0), (2362, 0.0), (2366, 0.0), (2367, 0.0), (2368, 0.0), (2369, 0.0), (2370, 0.0), (2371, 0.0), (2372, 0.0), (2373, 0.0), (2374, 0.0), (2376, 0.0), (2377, 0.0), (2379, 0.0), (2380, 0.0), (2382, 0.0), (2384, 0.0), (2385, 0.0), (2386, 0.0), (2387, 0.0), (2388, 0.0), (2392, 0.0), (2394, 0.0), (2395, 0.0), (2398, 0.0), (2403, 0.0), (2404, 0.0), (2407, 0.0), (2408, 0.0), (2409, 0.0), (2411, 0.0), (2416, 0.0), (2417, 0.0), (2418, 0.0), (2419, 0.0), (2420, 0.0), (2423, 0.0), (2425, 0.0), (2430, 0.0), (2431, 0.0), (2434, 0.0), (2435, 0.0), (2436, 0.0), (2437, 0.0), (2438, 0.0), (2441, 0.0), (2446, 0.0), (2448, 0.0), (2452, 0.0), (2454, 0.0), (2455, 0.0), (2456, 0.0), (2458, 0.0), (2462, 0.0), (2463, 0.0), (2464, 0.0), (2465, 0.0), (2466, 0.0), (2467, 0.0), (2469, 0.0), (2475, 0.0), (2478, 0.0), (2480, 0.0), (2481, 0.0), (2482, 0.0), (2483, 0.0), (2485, 0.0), (2486, 0.0), (2489, 0.0), (2490, 0.0), (2491, 0.0), (2492, 0.0), (2495, 0.0), (2498, 0.0), (2503, 0.0), (2505, 0.0), (2507, 0.0), (2508, 0.0), (2509, 0.0), (2510, 0.0), (2514, 0.0), (2515, 0.0), (2516, 0.0), (2517, 0.0), (2518, 0.0), (2519, 0.0), (2520, 0.0), (2523, 0.0), (2524, 0.0), (2525, 0.0), (2526, 0.0), (2528, 0.0), (2529, 0.0), (2533, 0.0), (2534, 0.0), (2535, 0.0), (2536, 0.0), (2537, 0.0), (2538, 0.0), (2542, 0.0), (2543, 0.0), (2545, 0.0), (2546, 0.0), (2548, 0.0), (2550, 0.0), (2553, 0.0), (2556, 0.0), (2557, 0.0), (2558, 0.0), (2560, 0.0), (2563, 0.0), (2564, 0.0), (2565, 0.0), (2566, 0.0), (2568, 0.0), (2570, 0.0), (2572, 0.0), (2577, 0.0), (2579, 0.0), (2582, 0.0), (2583, 0.0), (2585, 0.0), (2586, 0.0), (2587, 0.0), (2588, 0.0), (2589, 0.0), (2591, 0.0), (2592, 0.0), (2594, 0.0), (2595, 0.0), (2596, 0.0), (2597, 0.0), (2598, 0.0), (2601, 0.0), (2602, 0.0), (2604, 0.0), (2606, 0.0), (2607, 0.0), (2608, 0.0), (2610, 0.0), (2611, 0.0), (2613, 0.0), (2614, 0.0), (2619, 0.0), (2621, 0.0), (2623, 0.0), (2624, 0.0), (2627, 0.0), (2628, 0.0), (2629, 0.0), (2630, 0.0), (2631, 0.0), (2632, 0.0), (2633, 0.0), (2635, 0.0), (2638, 0.0), (2639, 0.0), (2643, 0.0), (2648, 0.0), (2649, 0.0), (2651, 0.0), (2652, 0.0), (2653, 0.0), (2654, 0.0), (2655, 0.0), (2656, 0.0), (2658, 0.0), (2662, 0.0), (2663, 0.0), (2664, 0.0), (2665, 0.0), (2669, 0.0), (2673, 0.0), (2677, 0.0), (2678, 0.0), (2681, 0.0), (2683, 0.0), (2684, 0.0), (2685, 0.0), (2686, 0.0), (2690, 0.0), (2692, 0.0), (2693, 0.0), (2694, 0.0), (2695, 0.0), (2696, 0.0), (2698, 0.0), (2700, 0.0), (2701, 0.0), (2702, 0.0), (2703, 0.0), (2704, 0.0), (2705, 0.0), (2709, 0.0), (2712, 0.0), (2716, 0.0), (2717, 0.0), (2719, 0.0), (2721, 0.0), (2723, 0.0), (2726, 0.0), (2727, 0.0), (2730, 0.0), (2731, 0.0), (2732, 0.0), (2733, 0.0), (2735, 0.0), (2736, 0.0), (2737, 0.0), (2738, 0.0), (2739, 0.0), (2743, 0.0), (2744, 0.0), (2745, 0.0), (2747, 0.0), (2748, 0.0), (2750, 0.0), (2752, 0.0), (2753, 0.0), (2757, 0.0), (2758, 0.0), (2759, 0.0), (2761, 0.0), (2762, 0.0), (2764, 0.0), (2765, 0.0), (2769, 0.0), (2771, 0.0), (2773, 0.0), (2775, 0.0), (2776, 0.0), (2779, 0.0), (2782, 0.0), (2783, 0.0), (2784, 0.0), (2785, 0.0), (2786, 0.0), (2792, 0.0), (2794, 0.0), (2796, 0.0), (2797, 0.0), (2799, 0.0), (2800, 0.0), (2801, 0.0), (2802, 0.0), (2805, 0.0), (2807, 0.0), (2809, 0.0), (2812, 0.0), (2813, 0.0), (2814, 0.0), (2816, 0.0), (2821, 0.0), (2823, 0.0), (2827, 0.0), (2831, 0.0), (2832, 0.0), (2834, 0.0), (2835, 0.0), (2836, 0.0), (2838, 0.0), (2839, 0.0), (2846, 0.0), (2849, 0.0), (2853, 0.0), (2855, 0.0), (2856, 0.0), (2858, 0.0), (2859, 0.0), (2861, 0.0), (2863, 0.0), (2865, 0.0), (2866, 0.0), (2869, 0.0), (2870, 0.0), (2871, 0.0), (2872, 0.0), (2873, 0.0), (2874, 0.0), (2875, 0.0), (2876, 0.0), (2878, 0.0), (2879, 0.0), (2882, 0.0), (2883, 0.0), (2889, 0.0), (2890, 0.0), (2891, 0.0), (2893, 0.0), (2894, 0.0), (2896, 0.0), (2897, 0.0), (2900, 0.0), (2901, 0.0), (2902, 0.0), (2904, 0.0), (2905, 0.0), (2906, 0.0), (2907, 0.0), (2909, 0.0), (2911, 0.0), (2912, 0.0), (2914, 0.0), (2915, 0.0), (2916, 0.0), (2917, 0.0), (2919, 0.0), (2923, 0.0), (2924, 0.0), (2925, 0.0), (2926, 0.0), (2928, 0.0), (2930, 0.0), (2932, 0.0), (2934, 0.0), (2936, 0.0), (2939, 0.0), (2941, 0.0), (2942, 0.0), (2945, 0.0), (2946, 0.0), (2949, 0.0), (2951, 0.0), (2953, 0.0), (2954, 0.0), (2957, 0.0), (2961, 0.0), (2964, 0.0), (2966, 0.0), (2967, 0.0), (2968, 0.0), (2970, 0.0), (2972, 0.0), (2973, 0.0), (2974, 0.0), (2976, 0.0), (2977, 0.0), (2978, 0.0), (2980, 0.0), (2983, 0.0), (2984, 0.0), (2986, 0.0), (2991, 0.0), (2993, 0.0), (2994, 0.0), (2996, 0.0), (2997, 0.0), (2999, 0.0), (3000, 0.0), (3003, 0.0), (3004, 0.0), (3005, 0.0), (3006, 0.0), (3007, 0.0), (3008, 0.0), (3009, 0.0), (3010, 0.0), (3012, 0.0), (3013, 0.0), (3014, 0.0), (3015, 0.0), (3016, 0.0), (3017, 0.0), (3019, 0.0), (3020, 0.0), (3023, 0.0), (3025, 0.0), (3026, 0.0), (3027, 0.0), (3028, 0.0), (3029, 0.0), (3030, 0.0), (3031, 0.0), (3032, 0.0), (3033, 0.0), (3034, 0.0), (3035, 0.0), (3036, 0.0), (3037, 0.0), (3038, 0.0), (3039, 0.0), (3040, 0.0), (3041, 0.0), (3042, 0.0), (3046, 0.0), (3049, 0.0), (3050, 0.0), (3052, 0.0), (3053, 0.0), (3054, 0.0), (3055, 0.0), (3061, 0.0), (3066, 0.0), (3067, 0.0), (3069, 0.0), (3072, 0.0), (3073, 0.0), (3074, 0.0), (3075, 0.0), (3076, 0.0), (3077, 0.0), (3078, 0.0), (3081, 0.0), (3083, 0.0), (3084, 0.0), (3087, 0.0), (3088, 0.0), (3092, 0.0), (3093, 0.0), (3094, 0.0), (3095, 0.0), (3098, 0.0), (3101, 0.0), (3102, 0.0), (3103, 0.0), (3104, 0.0), (3106, 0.0), (3107, 0.0), (3108, 0.0), (3110, 0.0), (3111, 0.0), (3113, 0.0), (3116, 0.0), (3118, 0.0), (3119, 0.0), (3120, 0.0), (3122, 0.0), (3125, 0.0), (3127, 0.0), (3137, 0.0), (3138, 0.0), (3139, 0.0), (3140, 0.0), (3145, 0.0), (3146, 0.0), (3148, 0.0), (3151, 0.0), (3154, 0.0), (3157, 0.0), (3164, 0.0), (3166, 0.0), (3170, 0.0), (3171, 0.0), (3175, 0.0), (3176, 0.0), (3177, 0.0), (3178, 0.0), (3179, 0.0), (3183, 0.0), (3184, 0.0), (3186, 0.0), (3187, 0.0), (3190, 0.0), (3194, 0.0), (3195, 0.0), (3196, 0.0), (3197, 0.0), (3198, 0.0), (3200, 0.0), (3203, 0.0), (3204, 0.0), (3207, 0.0), (3211, 0.0), (3212, 0.0), (3214, 0.0), (3216, 0.0), (3217, 0.0), (3218, 0.0), (3220, 0.0), (3222, 0.0), (3224, 0.0), (3226, 0.0), (3228, 0.0), (3229, 0.0), (3230, 0.0), (3234, 0.0), (3235, 0.0), (3236, 0.0), (3238, 0.0), (3239, 0.0), (3240, 0.0), (3243, 0.0), (3245, 0.0), (3248, 0.0), (3249, 0.0), (3250, 0.0), (3251, 0.0), (3252, 0.0), (3255, 0.0), (3256, 0.0), (3257, 0.0), (3258, 0.0), (3261, 0.0), (3262, 0.0), (3264, 0.0), (3265, 0.0), (3266, 0.0), (3268, 0.0), (3271, 0.0), (3273, 0.0), (3274, 0.0), (3277, 0.0), (3278, 0.0), (3279, 0.0), (3280, 0.0), (3281, 0.0), (3282, 0.0), (3283, 0.0), (3284, 0.0), (3285, 0.0), (3288, 0.0), (3290, 0.0), (3291, 0.0), (3292, 0.0), (3293, 0.0), (3295, 0.0), (3296, 0.0), (3299, 0.0), (3301, 0.0), (3302, 0.0), (3304, 0.0), (3307, 0.0), (3308, 0.0), (3309, 0.0), (3313, 0.0), (3314, 0.0), (3316, 0.0), (3317, 0.0), (3319, 0.0), (3320, 0.0), (3322, 0.0), (3324, 0.0), (3325, 0.0), (3326, 0.0), (3329, 0.0), (3333, 0.0), (3334, 0.0), (3335, 0.0), (3337, 0.0), (3338, 0.0), (3341, 0.0), (3344, 0.0), (3345, 0.0), (3347, 0.0), (3349, 0.0), (3350, 0.0), (3352, 0.0), (3353, 0.0), (3354, 0.0), (3355, 0.0), (3357, 0.0), (3358, 0.0), (3359, 0.0), (3362, 0.0), (3363, 0.0), (3364, 0.0), (3369, 0.0), (3371, 0.0), (3375, 0.0), (3376, 0.0), (3378, 0.0), (3379, 0.0), (3380, 0.0), (3381, 0.0), (3382, 0.0), (3386, 0.0), (3391, 0.0), (3396, 0.0), (3399, 0.0), (3400, 0.0), (3401, 0.0), (3402, 0.0), (3403, 0.0), (3406, 0.0), (3407, 0.0), (3409, 0.0), (3410, 0.0), (3411, 0.0), (3412, 0.0), (3413, 0.0), (3414, 0.0), (3415, 0.0), (3417, 0.0), (3418, 0.0), (3420, 0.0), (3422, 0.0), (3423, 0.0), (3425, 0.0), (3428, 0.0), (3430, 0.0), (3431, 0.0), (3433, 0.0), (3434, 0.0), (3435, 0.0), (3436, 0.0), (3437, 0.0), (3442, 0.0), (3446, 0.0), (3447, 0.0), (3449, 0.0), (3455, 0.0), (3457, 0.0), (3460, 0.0), (3462, 0.0), (3470, 0.0), (3471, 0.0), (3474, 0.0), (3475, 0.0), (3476, 0.0), (3478, 0.0), (3479, 0.0), (3481, 0.0), (3483, 0.0), (3485, 0.0), (3487, 0.0), (3488, 0.0), (3489, 0.0), (3490, 0.0), (3491, 0.0), (3493, 0.0), (3494, 0.0), (3495, 0.0), (3496, 0.0), (3498, 0.0), (3499, 0.0), (3500, 0.0), (3501, 0.0), (3503, 0.0), (3504, 0.0), (3505, 0.0), (3509, 0.0), (3510, 0.0), (3511, 0.0), (3512, 0.0), (3517, 0.0), (3519, 0.0), (3521, 0.0), (3523, 0.0), (3524, 0.0), (3527, 0.0), (3529, 0.0), (3530, 0.0), (3533, 0.0), (3534, 0.0), (3535, 0.0), (3536, 0.0), (3537, 0.0), (3538, 0.0), (3539, 0.0), (3540, 0.0), (3541, 0.0), (3543, 0.0), (3544, 0.0), (3545, 0.0), (3547, 0.0), (3548, 0.0), (3551, 0.0), (3552, 0.0), (3553, 0.0), (3557, 0.0), (3558, 0.0), (3561, 0.0), (3562, 0.0), (3565, 0.0), (3569, 0.0), (3570, 0.0), (3571, 0.0), (3572, 0.0), (3577, 0.0), (3580, 0.0), (3581, 0.0), (3583, 0.0), (3585, 0.0), (3590, 0.0), (3592, 0.0), (3599, 0.0), (3601, 0.0), (3606, 0.0), (3607, 0.0), (3608, 0.0), (3611, 0.0), (3612, 0.0), (3613, 0.0), (3615, 0.0), (3616, 0.0), (3617, 0.0), (3618, 0.0), (3619, 0.0), (3620, 0.0), (3621, 0.0), (3622, 0.0), (3624, 0.0), (3627, 0.0), (3632, 0.0), (3636, 0.0), (3639, 0.0), (3640, 0.0), (3643, 0.0), (3644, 0.0), (3647, 0.0), (3648, 0.0), (3649, 0.0), (3651, 0.0), (3652, 0.0), (3653, 0.0), (3654, 0.0), (3659, 0.0), (3662, 0.0), (3663, 0.0), (3664, 0.0), (3665, 0.0), (3666, 0.0), (3669, 0.0), (3670, 0.0), (3671, 0.0), (3672, 0.0), (3673, 0.0), (3674, 0.0), (3675, 0.0), (3677, 0.0), (3678, 0.0), (3679, 0.0), (3681, 0.0), (3682, 0.0), (3683, 0.0), (3687, 0.0), (3689, 0.0), (3691, 0.0), (3694, 0.0), (3696, 0.0), (3699, 0.0), (3701, 0.0), (3702, 0.0), (3704, 0.0), (3711, 0.0), (3712, 0.0), (3713, 0.0), (3716, 0.0), (3717, 0.0), (3719, 0.0), (3721, 0.0), (3722, 0.0), (3725, 0.0), (3727, 0.0), (3729, 0.0), (3730, 0.0), (3731, 0.0), (3733, 0.0), (3736, 0.0), (3737, 0.0), (3740, 0.0), (3745, 0.0), (3746, 0.0), (3748, 0.0), (3749, 0.0), (3752, 0.0), (3753, 0.0), (3754, 0.0), (3755, 0.0), (3756, 0.0), (3757, 0.0), (3758, 0.0), (3759, 0.0), (3760, 0.0), (3761, 0.0), (3762, 0.0), (3763, 0.0), (3764, 0.0), (3765, 0.0), (3766, 0.0), (3767, 0.0), (3768, 0.0), (3769, 0.0), (3770, 0.0), (3772, 0.0), (3775, 0.0), (3777, 0.0), (3778, 0.0), (3779, 0.0), (3781, 0.0), (3784, 0.0), (3788, 0.0), (3789, 0.0), (3791, 0.0), (3793, 0.0), (3796, 0.0), (3799, 0.0), (3801, 0.0), (3804, 0.0), (3806, 0.0), (3808, 0.0), (3809, 0.0), (3810, 0.0), (3815, 0.0), (3816, 0.0), (3818, 0.0), (3820, 0.0), (3821, 0.0), (3822, 0.0), (3823, 0.0), (3824, 0.0), (3827, 0.0), (3828, 0.0), (3829, 0.0), (3831, 0.0), (3832, 0.0), (3833, 0.0), (3836, 0.0), (3837, 0.0), (3838, 0.0), (3839, 0.0), (3841, 0.0), (3842, 0.0), (3843, 0.0), (3844, 0.0), (3845, 0.0), (3847, 0.0), (3848, 0.0), (3851, 0.0), (3852, 0.0), (3853, 0.0), (3856, 0.0), (3857, 0.0), (3858, 0.0), (3861, 0.0), (3863, 0.0), (3864, 0.0), (3866, 0.0), (3872, 0.0), (3874, 0.0), (3875, 0.0), (3878, 0.0), (3879, 0.0), (3880, 0.0), (3881, 0.0), (3882, 0.0), (3883, 0.0), (3884, 0.0), (3885, 0.0), (3887, 0.0), (3890, 0.0), (3892, 0.0), (3894, 0.0), (3895, 0.0), (3896, 0.0), (3898, 0.0), (3899, 0.0), (3901, 0.0), (3902, 0.0), (3904, 0.0), (3905, 0.0), (3909, 0.0), (3911, 0.0), (3913, 0.0), (3914, 0.0), (3915, 0.0), (3918, 0.0), (3920, 0.0), (3921, 0.0), (3922, 0.0), (3924, 0.0), (3925, 0.0), (3927, 0.0), (3929, 0.0), (3930, 0.0), (3931, 0.0), (3932, 0.0), (3933, 0.0), (3934, 0.0), (3935, 0.0), (3936, 0.0), (3938, 0.0), (3939, 0.0), (3940, 0.0), (3941, 0.0), (3942, 0.0), (3943, 0.0), (3944, 0.0), (3945, 0.0), (3948, 0.0), (3949, 0.0), (3950, 0.0), (3951, 0.0), (3952, 0.0), (3954, 0.0), (3956, 0.0), (3960, 0.0), (3961, 0.0), (3962, 0.0), (3964, 0.0), (3967, 0.0), (3969, 0.0), (3970, 0.0), (3971, 0.0), (3973, 0.0), (3975, 0.0), (3976, 0.0), (3981, 0.0), (3984, 0.0), (3986, 0.0), (3987, 0.0), (3988, 0.0), (3990, 0.0), (3992, 0.0), (3995, 0.0), (3996, 0.0), (3999, 0.0), (4000, 0.0), (4002, 0.0), (4003, 0.0), (4004, 0.0), (4006, 0.0), (4007, 0.0), (4008, 0.0), (4010, 0.0), (4013, 0.0), (4017, 0.0), (4019, 0.0), (4021, 0.0), (4022, 0.0), (4023, 0.0), (4024, 0.0), (4025, 0.0), (4026, 0.0), (4027, 0.0), (4029, 0.0), (4030, 0.0), (4032, 0.0), (4040, 0.0), (4042, 0.0), (4043, 0.0), (4047, 0.0), (4048, 0.0), (4049, 0.0), (4050, 0.0), (4051, 0.0), (4052, 0.0), (4053, 0.0), (4057, 0.0), (4058, 0.0), (4060, 0.0), (4061, 0.0), (4062, 0.0), (4064, 0.0), (4065, 0.0), (4066, 0.0), (4067, 0.0), (4069, 0.0), (4071, 0.0), (4072, 0.0), (4075, 0.0), (4078, 0.0), (4079, 0.0), (4080, 0.0), (4081, 0.0), (4082, 0.0), (4083, 0.0), (4084, 0.0), (4085, 0.0), (4090, 0.0), (4092, 0.0), (4101, 0.0), (4102, 0.0), (4104, 0.0), (4105, 0.0), (4107, 0.0), (4108, 0.0), (4111, 0.0), (4113, 0.0), (4115, 0.0), (4117, 0.0), (4120, 0.0), (4123, 0.0), (4124, 0.0), (4125, 0.0), (4126, 0.0), (4127, 0.0), (4129, 0.0), (4133, 0.0), (4134, 0.0), (4135, 0.0), (4136, 0.0), (4138, 0.0), (4140, 0.0), (4141, 0.0), (4145, 0.0), (4146, 0.0), (4147, 0.0), (4150, 0.0), (4151, 0.0), (4156, 0.0), (4157, 0.0), (4158, 0.0), (4161, 0.0), (4162, 0.0), (4163, 0.0), (4164, 0.0), (4166, 0.0), (4167, 0.0), (4170, 0.0), (4172, 0.0), (4175, 0.0), (4176, 0.0), (4177, 0.0), (4178, 0.0), (4179, 0.0), (4180, 0.0), (4182, 0.0), (4183, 0.0), (4184, 0.0), (4189, 0.0), (4190, 0.0), (4191, 0.0), (4192, 0.0), (4198, 0.0), (4200, 0.0), (4201, 0.0), (4203, 0.0), (4204, 0.0), (4205, 0.0), (4206, 0.0), (4208, 0.0), (4209, 0.0), (4212, 0.0), (4213, 0.0), (4214, 0.0), (4215, 0.0), (4216, 0.0), (4217, 0.0), (4219, 0.0), (4220, 0.0), (4222, 0.0), (4223, 0.0), (4225, 0.0), (4226, 0.0), (4227, 0.0), (4228, 0.0), (4229, 0.0), (4230, 0.0), (4231, 0.0), (4232, 0.0), (4234, 0.0), (4235, 0.0), (4237, 0.0), (4239, 0.0), (4242, 0.0), (4243, 0.0), (4245, 0.0), (4246, 0.0), (4251, 0.0), (4253, 0.0), (4254, 0.0), (4256, 0.0), (4257, 0.0), (4258, 0.0), (4259, 0.0), (4260, 0.0), (4263, 0.0), (4265, 0.0), (4267, 0.0), (4273, 0.0), (4275, 0.0), (4278, 0.0), (4280, 0.0), (4281, 0.0), (4282, 0.0), (4284, 0.0), (4290, 0.0), (4291, 0.0), (4295, 0.0), (4296, 0.0), (4297, 0.0), (4298, 0.0), (4299, 0.0), (4301, 0.0), (4304, 0.0), (4305, 0.0), (4306, 0.0), (4307, 0.0), (4308, 0.0), (4309, 0.0), (4311, 0.0), (4313, 0.0), (4315, 0.0), (4316, 0.0), (4317, 0.0), (4318, 0.0), (4319, 0.0), (4320, 0.0), (4322, 0.0), (4324, 0.0), (4326, 0.0), (4327, 0.0), (4330, 0.0), (4331, 0.0), (4332, 0.0), (4336, 0.0), (4337, 0.0), (4340, 0.0), (4343, 0.0), (4348, 0.0), (4349, 0.0), (4350, 0.0), (4352, 0.0), (4355, 0.0), (4357, 0.0), (4358, 0.0), (4359, 0.0), (4360, 0.0), (4361, 0.0), (4362, 0.0), (4363, 0.0), (4367, 0.0), (4368, 0.0), (4369, 0.0), (4370, 0.0), (4371, 0.0), (4372, 0.0), (4375, 0.0), (4377, 0.0), (4378, 0.0), (4380, 0.0), (4381, 0.0), (4382, 0.0), (4385, 0.0), (4386, 0.0), (4387, 0.0), (4389, 0.0), (4394, 0.0), (4395, 0.0), (4396, 0.0), (4397, 0.0), (4398, 0.0), (4400, 0.0), (4403, 0.0), (4404, 0.0), (4408, 0.0), (4409, 0.0), (4411, 0.0), (4412, 0.0), (4413, 0.0), (4414, 0.0), (4415, 0.0), (4416, 0.0), (4417, 0.0), (4420, 0.0), (4421, 0.0), (4422, 0.0), (4423, 0.0), (4424, 0.0), (4425, 0.0), (4426, 0.0), (4431, 0.0), (4441, 0.0), (4442, 0.0), (4446, 0.0), (4448, 0.0), (4449, 0.0), (4451, 0.0), (4452, 0.0), (4458, 0.0), (4459, 0.0), (4461, 0.0), (4463, 0.0), (4464, 0.0), (4465, 0.0), (4469, 0.0), (4470, 0.0), (4471, 0.0), (4474, 0.0), (4475, 0.0), (4476, 0.0), (4480, 0.0), (4483, 0.0), (4484, 0.0), (4485, 0.0), (4488, 0.0), (4489, 0.0), (4494, 0.0), (4495, 0.0), (4498, 0.0), (4499, 0.0), (4500, 0.0), (4502, 0.0), (4504, 0.0), (4506, 0.0), (4507, 0.0), (4508, 0.0), (4511, 0.0), (4512, 0.0), (4513, 0.0), (4514, 0.0), (4517, 0.0), (4518, 0.0), (4520, 0.0), (4521, 0.0), (4522, 0.0), (4524, 0.0), (4525, 0.0), (4527, 0.0), (4528, 0.0), (4529, 0.0), (4530, 0.0), (4531, 0.0), (4532, 0.0), (4536, 0.0), (4537, 0.0), (4539, 0.0), (4540, 0.0), (4541, 0.0), (4544, 0.0), (4545, 0.0), (4548, 0.0), (4551, 0.0), (4552, 0.0), (4554, 0.0), (4556, 0.0), (4558, 0.0), (4559, 0.0), (4560, 0.0), (4561, 0.0), (4562, 0.0), (4563, 0.0), (4565, 0.0), (4566, 0.0), (4571, 0.0), (4572, 0.0), (4575, 0.0), (4577, 0.0), (4578, 0.0), (4579, 0.0), (4580, 0.0), (4582, 0.0), (4583, 0.0), (4584, 0.0), (4585, 0.0), (4592, 0.0), (4593, 0.0), (4594, 0.0), (4595, 0.0), (4596, 0.0), (4599, 0.0), (4601, 0.0), (4602, 0.0), (4603, 0.0), (4604, 0.0), (4605, 0.0), (4607, 0.0), (4610, 0.0), (4611, 0.0), (4612, 0.0), (4614, 0.0), (4615, 0.0), (4616, 0.0), (4617, 0.0), (4618, 0.0), (4620, 0.0), (4621, 0.0), (4623, 0.0), (4624, 0.0), (4625, 0.0), (4627, 0.0), (4628, 0.0), (4633, 0.0), (4634, 0.0), (4636, 0.0), (4637, 0.0), (4640, 0.0), (4641, 0.0), (4644, 0.0), (4645, 0.0), (4648, 0.0), (4650, 0.0), (4651, 0.0), (4652, 0.0), (4654, 0.0), (4655, 0.0), (4657, 0.0), (4658, 0.0), (4664, 0.0), (4665, 0.0), (4667, 0.0), (4668, 0.0), (4669, 0.0), (4671, 0.0), (4672, 0.0), (4674, 0.0), (4675, 0.0), (4678, 0.0), (4680, 0.0), (4681, 0.0), (4685, 0.0), (4687, 0.0), (4688, 0.0), (4689, 0.0), (4691, 0.0), (4692, 0.0), (4693, 0.0), (4694, 0.0), (4695, 0.0), (4696, 0.0), (4700, 0.0), (4701, 0.0), (4702, 0.0), (4704, 0.0), (4706, 0.0), (4707, 0.0), (4710, 0.0), (4711, 0.0), (4712, 0.0), (4713, 0.0), (4715, 0.0), (4717, 0.0), (4718, 0.0), (4719, 0.0), (4720, 0.0), (4721, 0.0), (4722, 0.0), (4724, 0.0), (4728, 0.0), (4729, 0.0), (4731, 0.0), (4732, 0.0), (4734, 0.0), (4735, 0.0), (4736, 0.0), (4737, 0.0), (4738, 0.0), (4740, 0.0), (4744, 0.0), (4746, 0.0), (4748, 0.0), (4749, 0.0), (4750, 0.0), (4751, 0.0), (4753, 0.0), (4755, 0.0), (4758, 0.0), (4759, 0.0)]\n"
          ]
        }
      ]
    },
    {
      "cell_type": "code",
      "source": [
        "print('Top 30 Movies Suggested For You: \\n')\n",
        "i = 1\n",
        "for movie in Sorted_Similar_Movies:\n",
        "  index = movie[0]\n",
        "  title_from_index = mov[mov.index == index]['Movie_Title'].values[0]\n",
        "  if(i<31):\n",
        "    print(i, '.',title_from_index)\n",
        "    i+=1"
      ],
      "metadata": {
        "colab": {
          "base_uri": "https://localhost:8080/"
        },
        "id": "IKzBa_dQQ-ah",
        "outputId": "388be3f4-bb30-4677-c722-8d80558265ea"
      },
      "execution_count": null,
      "outputs": [
        {
          "output_type": "stream",
          "name": "stdout",
          "text": [
            "Top 30 Movies Suggested For You: \n",
            "\n",
            "1 . Pacific Rim\n",
            "2 . Monsters vs Aliens\n",
            "3 . Hellboy II: The Golden Army\n",
            "4 . Hellboy\n",
            "5 . Jack the Giant Slayer\n",
            "6 . Transformers: Age of Extinction\n",
            "7 . Nicholas Nickleby\n",
            "8 . Blade II\n",
            "9 . Zathura: A Space Adventure\n",
            "10 . The Iron Giant\n",
            "11 . Shin Godzilla\n",
            "12 . Wuthering Heights\n",
            "13 . The Helix... Loaded\n",
            "14 . Children of Men\n",
            "15 . Prometheus\n",
            "16 . Tomorrowland\n",
            "17 . Alien: Resurrection\n",
            "18 . Takers\n",
            "19 . Abandon\n",
            "20 . 10 Cloverfield Lane\n",
            "21 . The Unborn\n",
            "22 . Deadfall\n",
            "23 . The Hunger Games: Mockingjay - Part 2\n",
            "24 . The Jungle Book\n",
            "25 . Hotel Transylvania\n",
            "26 . No Good Deed\n",
            "27 . Pan's Labyrinth\n",
            "28 . Self/less\n",
            "29 . Oblivion\n",
            "30 . Titan A.E.\n"
          ]
        }
      ]
    },
    {
      "cell_type": "markdown",
      "source": [
        "# **Top 10 Movie Recommendation System**"
      ],
      "metadata": {
        "id": "q9M7CznnFRSO"
      }
    },
    {
      "cell_type": "code",
      "source": [
        "Movie_Name = input('Enter Your Favourite Movie Name:')\n",
        "list_of_all_titles = mov['Movie_Title'].tolist()\n",
        "Find_Close_Match  = difflib.get_close_matches(Favourite_Movie_Name, All_Movies_Title_List)\n",
        "Close_Match = Find_Close_Match[0]\n",
        "Index_of_Movie = mov[mov.Movie_Title == Close_Match]['Movie_ID'].values[0]\n",
        "Recommendation_Score = list(enumerate(Similarity_Score[Index_of_Movie]))\n",
        "sorted_similar_movie  = sorted(Recommendation_Score ,key = lambda x:x[1], reverse = True)\n",
        "print('Top 10 Movies Suggested For You: \\n')\n",
        "i = 1\n",
        "for movie in sorted_similar_movie:\n",
        "  index = movie[0]\n",
        "  title_from_index = mov[mov.index == index]['Movie_Title'].values[0]\n",
        "  if(i<11):\n",
        "    print(i, '.',title_from_index)\n",
        "    i+=1"
      ],
      "metadata": {
        "colab": {
          "base_uri": "https://localhost:8080/"
        },
        "id": "X0Wgg_5wSIA9",
        "outputId": "8b8542ed-317e-4b43-d474-e2abb9aa5498"
      },
      "execution_count": null,
      "outputs": [
        {
          "output_type": "stream",
          "name": "stdout",
          "text": [
            "Enter Your Favourite Movie Name:Avatar\n",
            "Top 10 Movies Suggested For You: \n",
            "\n",
            "1 . Pacific Rim\n",
            "2 . Monsters vs Aliens\n",
            "3 . Hellboy II: The Golden Army\n",
            "4 . Hellboy\n",
            "5 . Jack the Giant Slayer\n",
            "6 . Transformers: Age of Extinction\n",
            "7 . Nicholas Nickleby\n",
            "8 . Blade II\n",
            "9 . Zathura: A Space Adventure\n",
            "10 . The Iron Giant\n"
          ]
        }
      ]
    }
  ]
}